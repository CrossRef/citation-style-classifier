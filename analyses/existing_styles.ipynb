{
 "cells": [
  {
   "cell_type": "markdown",
   "metadata": {},
   "source": [
    "# Which citation styles do we have in the real data?\n",
    "Dominika Tkaczyk\n",
    "\n",
    "2.10.2018"
   ]
  },
  {
   "cell_type": "code",
   "execution_count": 1,
   "metadata": {},
   "outputs": [
    {
     "name": "stderr",
     "output_type": "stream",
     "text": [
      "/home/dtkaczyk/.local/lib/python3.6/site-packages/sklearn/ensemble/weight_boosting.py:29: DeprecationWarning: numpy.core.umath_tests is an internal NumPy module and should not be imported. It will be removed in a future NumPy release.\n",
      "  from numpy.core.umath_tests import inner1d\n"
     ]
    }
   ],
   "source": [
    "import sys\n",
    "sys.path.append('..')\n",
    "\n",
    "%matplotlib inline\n",
    "\n",
    "import warnings\n",
    "warnings.simplefilter('ignore')\n",
    "\n",
    "import json\n",
    "import pandas as pd\n",
    "\n",
    "from data_utils import add_noise, clean_data, read_ref_strings_data, remove_technical_parts\n",
    "from features import get_features, select_features_chi2\n",
    "from sklearn.linear_model import LogisticRegression"
   ]
  },
  {
   "cell_type": "markdown",
   "metadata": {},
   "source": [
    "Read the training data:"
   ]
  },
  {
   "cell_type": "code",
   "execution_count": 2,
   "metadata": {},
   "outputs": [
    {
     "name": "stdout",
     "output_type": "stream",
     "text": [
      "Dataset size: 85000\n"
     ]
    },
    {
     "data": {
      "text/html": [
       "<div>\n",
       "<style scoped>\n",
       "    .dataframe tbody tr th:only-of-type {\n",
       "        vertical-align: middle;\n",
       "    }\n",
       "\n",
       "    .dataframe tbody tr th {\n",
       "        vertical-align: top;\n",
       "    }\n",
       "\n",
       "    .dataframe thead th {\n",
       "        text-align: right;\n",
       "    }\n",
       "</style>\n",
       "<table border=\"1\" class=\"dataframe\">\n",
       "  <thead>\n",
       "    <tr style=\"text-align: right;\">\n",
       "      <th></th>\n",
       "      <th>doi</th>\n",
       "      <th>string</th>\n",
       "      <th>style</th>\n",
       "    </tr>\n",
       "  </thead>\n",
       "  <tbody>\n",
       "    <tr>\n",
       "      <th>0</th>\n",
       "      <td>10.1016/s0002-9394(14)70125-4</td>\n",
       "      <td>[1]LEE, S.-H. and TSENG, S.C.G. 1997. Amniotic...</td>\n",
       "      <td>acm-sig-proceedings</td>\n",
       "    </tr>\n",
       "    <tr>\n",
       "      <th>1</th>\n",
       "      <td>10.1016/0920-9964(95)95073-i</td>\n",
       "      <td>[1]Scheffer, R. et al. 1995. History of premor...</td>\n",
       "      <td>acm-sig-proceedings</td>\n",
       "    </tr>\n",
       "    <tr>\n",
       "      <th>2</th>\n",
       "      <td>10.1075/cilt.97.22vek</td>\n",
       "      <td>[1]Vekerdi, J. 1993. 4. Word formation in Gips...</td>\n",
       "      <td>acm-sig-proceedings</td>\n",
       "    </tr>\n",
       "    <tr>\n",
       "      <th>3</th>\n",
       "      <td>10.1080/19761597.2013.810947</td>\n",
       "      <td>[1]Kang, J. et al. 2013. Determinants of succe...</td>\n",
       "      <td>acm-sig-proceedings</td>\n",
       "    </tr>\n",
       "    <tr>\n",
       "      <th>4</th>\n",
       "      <td>10.1016/0378-1119(79)90090-8</td>\n",
       "      <td>[1]Wickens, M.P. et al. 1979. Restriction map ...</td>\n",
       "      <td>acm-sig-proceedings</td>\n",
       "    </tr>\n",
       "  </tbody>\n",
       "</table>\n",
       "</div>"
      ],
      "text/plain": [
       "                             doi  \\\n",
       "0  10.1016/s0002-9394(14)70125-4   \n",
       "1   10.1016/0920-9964(95)95073-i   \n",
       "2          10.1075/cilt.97.22vek   \n",
       "3   10.1080/19761597.2013.810947   \n",
       "4   10.1016/0378-1119(79)90090-8   \n",
       "\n",
       "                                              string                style  \n",
       "0  [1]LEE, S.-H. and TSENG, S.C.G. 1997. Amniotic...  acm-sig-proceedings  \n",
       "1  [1]Scheffer, R. et al. 1995. History of premor...  acm-sig-proceedings  \n",
       "2  [1]Vekerdi, J. 1993. 4. Word formation in Gips...  acm-sig-proceedings  \n",
       "3  [1]Kang, J. et al. 2013. Determinants of succe...  acm-sig-proceedings  \n",
       "4  [1]Wickens, M.P. et al. 1979. Restriction map ...  acm-sig-proceedings  "
      ]
     },
     "execution_count": 2,
     "metadata": {},
     "output_type": "execute_result"
    }
   ],
   "source": [
    "dataset = read_ref_strings_data('../data/ref_strings/')\n",
    "print('Dataset size: {}'.format(dataset.shape[0]))\n",
    "dataset.head()"
   ]
  },
  {
   "cell_type": "markdown",
   "metadata": {},
   "source": [
    "Preprocess the data:"
   ]
  },
  {
   "cell_type": "code",
   "execution_count": 3,
   "metadata": {},
   "outputs": [
    {
     "name": "stdout",
     "output_type": "stream",
     "text": [
      "Dataset size: 82834\n"
     ]
    }
   ],
   "source": [
    "dataset = clean_data(dataset)\n",
    "dataset['string'] = dataset['string'].apply(remove_technical_parts)\n",
    "dataset['string'] = dataset['string'].apply(add_noise)\n",
    "print('Dataset size: {}'.format(dataset.shape[0]))"
   ]
  },
  {
   "cell_type": "markdown",
   "metadata": {},
   "source": [
    "Train the model:"
   ]
  },
  {
   "cell_type": "code",
   "execution_count": 4,
   "metadata": {},
   "outputs": [],
   "source": [
    "count_vectorizer, tfidf_transformer, features = get_features(dataset['string'], nfeatures=5000,\n",
    "                                                             feature_selector=select_features_chi2, ngrams=(2, 4))\n",
    "model = LogisticRegression(random_state=0).fit(features, dataset['style'])"
   ]
  },
  {
   "cell_type": "markdown",
   "metadata": {},
   "source": [
    "Read a sample of real records:"
   ]
  },
  {
   "cell_type": "code",
   "execution_count": 5,
   "metadata": {},
   "outputs": [],
   "source": [
    "with open('../data/samples/sample-10000.json', 'r') as file:\n",
    "    data = json.loads(file.read())['sample']"
   ]
  },
  {
   "cell_type": "markdown",
   "metadata": {},
   "source": [
    "Next, I iterate over all unstructured reference strings found in the records and predict the style for each of them:"
   ]
  },
  {
   "cell_type": "code",
   "execution_count": 6,
   "metadata": {},
   "outputs": [],
   "source": [
    "strings = []\n",
    "styles = []\n",
    "probabilities = []\n",
    "for d in data:\n",
    "    for r in d.get('reference', []):\n",
    "        if 'unstructured' in r:\n",
    "            if len(r['unstructured']) < 11:\n",
    "                continue\n",
    "            _, _, test_features = get_features([r['unstructured']], count_vectorizer=count_vectorizer,\n",
    "                                               tfidf_transformer=tfidf_transformer)\n",
    "            prediction = model.predict(test_features)\n",
    "            probabilities.append(max(model.predict_proba(test_features)[0]))\n",
    "            strings.append(r['unstructured'])\n",
    "            styles.append(prediction[0])\n",
    "existing_styles = pd.DataFrame({'string': strings, 'style': styles})"
   ]
  },
  {
   "cell_type": "markdown",
   "metadata": {},
   "source": [
    "The distribution of the styles:"
   ]
  },
  {
   "cell_type": "code",
   "execution_count": 7,
   "metadata": {},
   "outputs": [
    {
     "data": {
      "text/html": [
       "<div>\n",
       "<style scoped>\n",
       "    .dataframe tbody tr th:only-of-type {\n",
       "        vertical-align: middle;\n",
       "    }\n",
       "\n",
       "    .dataframe tbody tr th {\n",
       "        vertical-align: top;\n",
       "    }\n",
       "\n",
       "    .dataframe thead th {\n",
       "        text-align: right;\n",
       "    }\n",
       "</style>\n",
       "<table border=\"1\" class=\"dataframe\">\n",
       "  <thead>\n",
       "    <tr style=\"text-align: right;\">\n",
       "      <th></th>\n",
       "      <th>style</th>\n",
       "      <th>counts</th>\n",
       "      <th>fraction</th>\n",
       "    </tr>\n",
       "  </thead>\n",
       "  <tbody>\n",
       "    <tr>\n",
       "      <th>0</th>\n",
       "      <td>springer-basic-author-date</td>\n",
       "      <td>6166</td>\n",
       "      <td>0.283039</td>\n",
       "    </tr>\n",
       "    <tr>\n",
       "      <th>1</th>\n",
       "      <td>apa</td>\n",
       "      <td>3198</td>\n",
       "      <td>0.146798</td>\n",
       "    </tr>\n",
       "    <tr>\n",
       "      <th>2</th>\n",
       "      <td>vancouver</td>\n",
       "      <td>2758</td>\n",
       "      <td>0.126601</td>\n",
       "    </tr>\n",
       "    <tr>\n",
       "      <th>3</th>\n",
       "      <td>springer-lecture-notes-in-computer-science</td>\n",
       "      <td>2224</td>\n",
       "      <td>0.102089</td>\n",
       "    </tr>\n",
       "    <tr>\n",
       "      <th>4</th>\n",
       "      <td>american-institute-of-physics</td>\n",
       "      <td>1148</td>\n",
       "      <td>0.052697</td>\n",
       "    </tr>\n",
       "    <tr>\n",
       "      <th>5</th>\n",
       "      <td>harvard3</td>\n",
       "      <td>1131</td>\n",
       "      <td>0.051916</td>\n",
       "    </tr>\n",
       "    <tr>\n",
       "      <th>6</th>\n",
       "      <td>bmc-bioinformatics</td>\n",
       "      <td>1088</td>\n",
       "      <td>0.049943</td>\n",
       "    </tr>\n",
       "    <tr>\n",
       "      <th>7</th>\n",
       "      <td>acm-sig-proceedings</td>\n",
       "      <td>962</td>\n",
       "      <td>0.044159</td>\n",
       "    </tr>\n",
       "    <tr>\n",
       "      <th>8</th>\n",
       "      <td>elsevier-with-titles</td>\n",
       "      <td>702</td>\n",
       "      <td>0.032224</td>\n",
       "    </tr>\n",
       "    <tr>\n",
       "      <th>9</th>\n",
       "      <td>american-chemical-society-with-titles</td>\n",
       "      <td>697</td>\n",
       "      <td>0.031994</td>\n",
       "    </tr>\n",
       "    <tr>\n",
       "      <th>10</th>\n",
       "      <td>ieee</td>\n",
       "      <td>639</td>\n",
       "      <td>0.029332</td>\n",
       "    </tr>\n",
       "    <tr>\n",
       "      <th>11</th>\n",
       "      <td>american-chemical-society</td>\n",
       "      <td>390</td>\n",
       "      <td>0.017902</td>\n",
       "    </tr>\n",
       "    <tr>\n",
       "      <th>12</th>\n",
       "      <td>elsevier-without-titles</td>\n",
       "      <td>226</td>\n",
       "      <td>0.010374</td>\n",
       "    </tr>\n",
       "    <tr>\n",
       "      <th>13</th>\n",
       "      <td>chicago-author-date</td>\n",
       "      <td>185</td>\n",
       "      <td>0.008492</td>\n",
       "    </tr>\n",
       "    <tr>\n",
       "      <th>14</th>\n",
       "      <td>iso690-author-date-en</td>\n",
       "      <td>162</td>\n",
       "      <td>0.007436</td>\n",
       "    </tr>\n",
       "    <tr>\n",
       "      <th>15</th>\n",
       "      <td>american-sociological-association</td>\n",
       "      <td>60</td>\n",
       "      <td>0.002754</td>\n",
       "    </tr>\n",
       "    <tr>\n",
       "      <th>16</th>\n",
       "      <td>modern-language-association</td>\n",
       "      <td>49</td>\n",
       "      <td>0.002249</td>\n",
       "    </tr>\n",
       "  </tbody>\n",
       "</table>\n",
       "</div>"
      ],
      "text/plain": [
       "                                         style  counts  fraction\n",
       "0                   springer-basic-author-date    6166  0.283039\n",
       "1                                          apa    3198  0.146798\n",
       "2                                    vancouver    2758  0.126601\n",
       "3   springer-lecture-notes-in-computer-science    2224  0.102089\n",
       "4                american-institute-of-physics    1148  0.052697\n",
       "5                                     harvard3    1131  0.051916\n",
       "6                           bmc-bioinformatics    1088  0.049943\n",
       "7                          acm-sig-proceedings     962  0.044159\n",
       "8                         elsevier-with-titles     702  0.032224\n",
       "9        american-chemical-society-with-titles     697  0.031994\n",
       "10                                        ieee     639  0.029332\n",
       "11                   american-chemical-society     390  0.017902\n",
       "12                     elsevier-without-titles     226  0.010374\n",
       "13                         chicago-author-date     185  0.008492\n",
       "14                       iso690-author-date-en     162  0.007436\n",
       "15           american-sociological-association      60  0.002754\n",
       "16                 modern-language-association      49  0.002249"
      ]
     },
     "execution_count": 7,
     "metadata": {},
     "output_type": "execute_result"
    }
   ],
   "source": [
    "styles_distr = existing_styles.groupby(['style']).size().reset_index(name='counts') \n",
    "styles_distr['fraction'] = styles_distr['counts'] / len(strings)\n",
    "styles_distr = styles_distr.sort_values(by='counts', ascending=False).reset_index(drop=True)\n",
    "styles_distr"
   ]
  }
 ],
 "metadata": {
  "kernelspec": {
   "display_name": "Python 3",
   "language": "python",
   "name": "python3"
  },
  "language_info": {
   "codemirror_mode": {
    "name": "ipython",
    "version": 3
   },
   "file_extension": ".py",
   "mimetype": "text/x-python",
   "name": "python",
   "nbconvert_exporter": "python",
   "pygments_lexer": "ipython3",
   "version": "3.6.6"
  }
 },
 "nbformat": 4,
 "nbformat_minor": 2
}
