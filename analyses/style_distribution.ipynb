{
 "cells": [
  {
   "cell_type": "markdown",
   "metadata": {},
   "source": [
    "# Which citation styles do we have in Crossref data?\n",
    "\n",
    "Dominika Tkaczyk\n",
    "\n",
    "16.11.2018\n",
    "\n",
    "In this notebook I use the style classifier to find out which styles are present in the Crossref collection."
   ]
  },
  {
   "cell_type": "code",
   "execution_count": 1,
   "metadata": {},
   "outputs": [
    {
     "name": "stderr",
     "output_type": "stream",
     "text": [
      "/home/dtkaczyk/.local/lib/python3.6/site-packages/sklearn/ensemble/weight_boosting.py:29: DeprecationWarning: numpy.core.umath_tests is an internal NumPy module and should not be imported. It will be removed in a future NumPy release.\n",
      "  from numpy.core.umath_tests import inner1d\n"
     ]
    }
   ],
   "source": [
    "import sys\n",
    "sys.path.append('..')\n",
    "\n",
    "%matplotlib inline\n",
    "\n",
    "import warnings\n",
    "warnings.simplefilter('ignore')\n",
    "\n",
    "import json\n",
    "import pandas as pd\n",
    "import re\n",
    "\n",
    "from config import *\n",
    "from dataset import read_ref_strings_data, generate_unknown\n",
    "from features import get_features, select_features_chi2\n",
    "from sklearn.linear_model import LogisticRegression\n",
    "from train import clean, train"
   ]
  },
  {
   "cell_type": "markdown",
   "metadata": {},
   "source": [
    "## Training\n",
    "\n",
    "First, I will train the classifier. To do that, I have to read the training data first:"
   ]
  },
  {
   "cell_type": "code",
   "execution_count": 2,
   "metadata": {},
   "outputs": [
    {
     "name": "stdout",
     "output_type": "stream",
     "text": [
      "Dataset size: 85000\n"
     ]
    },
    {
     "data": {
      "text/html": [
       "<div>\n",
       "<style scoped>\n",
       "    .dataframe tbody tr th:only-of-type {\n",
       "        vertical-align: middle;\n",
       "    }\n",
       "\n",
       "    .dataframe tbody tr th {\n",
       "        vertical-align: top;\n",
       "    }\n",
       "\n",
       "    .dataframe thead th {\n",
       "        text-align: right;\n",
       "    }\n",
       "</style>\n",
       "<table border=\"1\" class=\"dataframe\">\n",
       "  <thead>\n",
       "    <tr style=\"text-align: right;\">\n",
       "      <th></th>\n",
       "      <th>doi</th>\n",
       "      <th>style</th>\n",
       "      <th>string</th>\n",
       "    </tr>\n",
       "  </thead>\n",
       "  <tbody>\n",
       "    <tr>\n",
       "      <th>0</th>\n",
       "      <td>10.1016/s0002-9394(14)70125-4</td>\n",
       "      <td>acm-sig-proceedings</td>\n",
       "      <td>[1]LEE, S.-H. and TSENG, S.C.G. 1997. Amniotic...</td>\n",
       "    </tr>\n",
       "    <tr>\n",
       "      <th>1</th>\n",
       "      <td>10.1016/0920-9964(95)95073-i</td>\n",
       "      <td>acm-sig-proceedings</td>\n",
       "      <td>[1]Scheffer, R. et al. 1995. History of premor...</td>\n",
       "    </tr>\n",
       "    <tr>\n",
       "      <th>2</th>\n",
       "      <td>10.1075/cilt.97.22vek</td>\n",
       "      <td>acm-sig-proceedings</td>\n",
       "      <td>[1]Vekerdi, J. 1993. 4. Word formation in Gips...</td>\n",
       "    </tr>\n",
       "    <tr>\n",
       "      <th>3</th>\n",
       "      <td>10.1080/19761597.2013.810947</td>\n",
       "      <td>acm-sig-proceedings</td>\n",
       "      <td>[1]Kang, J. et al. 2013. Determinants of succe...</td>\n",
       "    </tr>\n",
       "    <tr>\n",
       "      <th>4</th>\n",
       "      <td>10.1016/0378-1119(79)90090-8</td>\n",
       "      <td>acm-sig-proceedings</td>\n",
       "      <td>[1]Wickens, M.P. et al. 1979. Restriction map ...</td>\n",
       "    </tr>\n",
       "  </tbody>\n",
       "</table>\n",
       "</div>"
      ],
      "text/plain": [
       "                             doi                style  \\\n",
       "0  10.1016/s0002-9394(14)70125-4  acm-sig-proceedings   \n",
       "1   10.1016/0920-9964(95)95073-i  acm-sig-proceedings   \n",
       "2          10.1075/cilt.97.22vek  acm-sig-proceedings   \n",
       "3   10.1080/19761597.2013.810947  acm-sig-proceedings   \n",
       "4   10.1016/0378-1119(79)90090-8  acm-sig-proceedings   \n",
       "\n",
       "                                              string  \n",
       "0  [1]LEE, S.-H. and TSENG, S.C.G. 1997. Amniotic...  \n",
       "1  [1]Scheffer, R. et al. 1995. History of premor...  \n",
       "2  [1]Vekerdi, J. 1993. 4. Word formation in Gips...  \n",
       "3  [1]Kang, J. et al. 2013. Determinants of succe...  \n",
       "4  [1]Wickens, M.P. et al. 1979. Restriction map ...  "
      ]
     },
     "execution_count": 2,
     "metadata": {},
     "output_type": "execute_result"
    }
   ],
   "source": [
    "dataset = read_ref_strings_data('../data/dataset/')\n",
    "print('Dataset size: {}'.format(dataset.shape[0]))\n",
    "dataset.head()"
   ]
  },
  {
   "cell_type": "markdown",
   "metadata": {},
   "source": [
    "Cleaning and preprocessing the data (more about this procedure can be found [here](https://github.com/CrossRef/citation-style-classifier/blob/master/analyses/citation_style_classification.ipynb)):"
   ]
  },
  {
   "cell_type": "code",
   "execution_count": 3,
   "metadata": {},
   "outputs": [
    {
     "name": "stdout",
     "output_type": "stream",
     "text": [
      "Dataset size: 87834\n"
     ]
    }
   ],
   "source": [
    "dataset = clean(dataset, random_state=0)\n",
    "dataset_unknown = dataset_unknown = generate_unknown(dataset, 5000, random_state=0)\n",
    "dataset = pd.concat([dataset, dataset_unknown])\n",
    "print('Dataset size: {}'.format(dataset.shape[0]))"
   ]
  },
  {
   "cell_type": "markdown",
   "metadata": {},
   "source": [
    "Training the classification model (more about the parameters and the training can be found [here](https://github.com/CrossRef/citation-style-classifier/blob/master/analyses/citation_style_classification.ipynb)):"
   ]
  },
  {
   "cell_type": "code",
   "execution_count": 4,
   "metadata": {},
   "outputs": [],
   "source": [
    "count_vectorizer, tfidf_transformer, model = train(dataset, random_state=0)"
   ]
  },
  {
   "cell_type": "markdown",
   "metadata": {},
   "source": [
    "*model* contains the complete trained style classifier. It can be used to infer the citation style of a new reference string.\n",
    "\n",
    "## Classifying real reference strings\n",
    "\n",
    "Let's read a sample of metadata records drawn from Crossref API:"
   ]
  },
  {
   "cell_type": "code",
   "execution_count": 5,
   "metadata": {},
   "outputs": [],
   "source": [
    "with open('../data/samples/sample-10K.json', 'r') as file:\n",
    "    data = json.loads(file.read())['sample']"
   ]
  },
  {
   "cell_type": "markdown",
   "metadata": {},
   "source": [
    "Next, I iterate over all unstructured reference strings found in the records and assign a citation style (or \"unknown\") to each of them:"
   ]
  },
  {
   "cell_type": "code",
   "execution_count": 6,
   "metadata": {},
   "outputs": [],
   "source": [
    "strings = []\n",
    "styles = []\n",
    "probabilities = []\n",
    "for d in data:\n",
    "    for r in d.get('reference', []):\n",
    "        if 'unstructured' in r:\n",
    "            r['unstructured'] = re.sub('http[^ ]+', '', r['unstructured']).strip()\n",
    "            r['unstructured'] = re.sub('(?<!\\d)10\\.\\d{4,9}/[-\\._;\\(\\)/:a-zA-Z0-9]+', '', r['unstructured'])\n",
    "            r['unstructured'] = re.sub('doi:?', '', r['unstructured']).strip()\n",
    "            if len(r['unstructured']) < 11:\n",
    "                continue\n",
    "            _, _, test_features = get_features([r['unstructured']], count_vectorizer=count_vectorizer,\n",
    "                                               tfidf_transformer=tfidf_transformer)\n",
    "            prediction = model.predict(test_features)\n",
    "            probabilities.append(max(model.predict_proba(test_features)[0]))\n",
    "            strings.append(r['unstructured'])\n",
    "            styles.append(prediction[0])\n",
    "existing_styles = pd.DataFrame({'string': strings, 'style': styles})"
   ]
  },
  {
   "cell_type": "markdown",
   "metadata": {},
   "source": [
    "## The distribution of the styles\n",
    "\n",
    "Let's look at the fraction of each style in our dataset:"
   ]
  },
  {
   "cell_type": "code",
   "execution_count": 7,
   "metadata": {},
   "outputs": [
    {
     "data": {
      "text/html": [
       "<div>\n",
       "<style scoped>\n",
       "    .dataframe tbody tr th:only-of-type {\n",
       "        vertical-align: middle;\n",
       "    }\n",
       "\n",
       "    .dataframe tbody tr th {\n",
       "        vertical-align: top;\n",
       "    }\n",
       "\n",
       "    .dataframe thead th {\n",
       "        text-align: right;\n",
       "    }\n",
       "</style>\n",
       "<table border=\"1\" class=\"dataframe\">\n",
       "  <thead>\n",
       "    <tr style=\"text-align: right;\">\n",
       "      <th></th>\n",
       "      <th>style</th>\n",
       "      <th>counts</th>\n",
       "      <th>fraction</th>\n",
       "    </tr>\n",
       "  </thead>\n",
       "  <tbody>\n",
       "    <tr>\n",
       "      <th>0</th>\n",
       "      <td>springer-basic-author-date</td>\n",
       "      <td>6276</td>\n",
       "      <td>0.288645</td>\n",
       "    </tr>\n",
       "    <tr>\n",
       "      <th>1</th>\n",
       "      <td>apa</td>\n",
       "      <td>3086</td>\n",
       "      <td>0.141931</td>\n",
       "    </tr>\n",
       "    <tr>\n",
       "      <th>2</th>\n",
       "      <td>unknown</td>\n",
       "      <td>2873</td>\n",
       "      <td>0.132134</td>\n",
       "    </tr>\n",
       "    <tr>\n",
       "      <th>3</th>\n",
       "      <td>springer-lecture-notes-in-computer-science</td>\n",
       "      <td>1949</td>\n",
       "      <td>0.089638</td>\n",
       "    </tr>\n",
       "    <tr>\n",
       "      <th>4</th>\n",
       "      <td>vancouver</td>\n",
       "      <td>1943</td>\n",
       "      <td>0.089362</td>\n",
       "    </tr>\n",
       "    <tr>\n",
       "      <th>5</th>\n",
       "      <td>american-institute-of-physics</td>\n",
       "      <td>957</td>\n",
       "      <td>0.044014</td>\n",
       "    </tr>\n",
       "    <tr>\n",
       "      <th>6</th>\n",
       "      <td>bmc-bioinformatics</td>\n",
       "      <td>902</td>\n",
       "      <td>0.041485</td>\n",
       "    </tr>\n",
       "    <tr>\n",
       "      <th>7</th>\n",
       "      <td>acm-sig-proceedings</td>\n",
       "      <td>787</td>\n",
       "      <td>0.036196</td>\n",
       "    </tr>\n",
       "    <tr>\n",
       "      <th>8</th>\n",
       "      <td>harvard3</td>\n",
       "      <td>746</td>\n",
       "      <td>0.034310</td>\n",
       "    </tr>\n",
       "    <tr>\n",
       "      <th>9</th>\n",
       "      <td>ieee</td>\n",
       "      <td>570</td>\n",
       "      <td>0.026215</td>\n",
       "    </tr>\n",
       "    <tr>\n",
       "      <th>10</th>\n",
       "      <td>elsevier-with-titles</td>\n",
       "      <td>515</td>\n",
       "      <td>0.023686</td>\n",
       "    </tr>\n",
       "    <tr>\n",
       "      <th>11</th>\n",
       "      <td>american-chemical-society-with-titles</td>\n",
       "      <td>510</td>\n",
       "      <td>0.023456</td>\n",
       "    </tr>\n",
       "    <tr>\n",
       "      <th>12</th>\n",
       "      <td>elsevier-without-titles</td>\n",
       "      <td>202</td>\n",
       "      <td>0.009290</td>\n",
       "    </tr>\n",
       "    <tr>\n",
       "      <th>13</th>\n",
       "      <td>american-chemical-society</td>\n",
       "      <td>197</td>\n",
       "      <td>0.009060</td>\n",
       "    </tr>\n",
       "    <tr>\n",
       "      <th>14</th>\n",
       "      <td>iso690-author-date-en</td>\n",
       "      <td>100</td>\n",
       "      <td>0.004599</td>\n",
       "    </tr>\n",
       "    <tr>\n",
       "      <th>15</th>\n",
       "      <td>chicago-author-date</td>\n",
       "      <td>99</td>\n",
       "      <td>0.004553</td>\n",
       "    </tr>\n",
       "    <tr>\n",
       "      <th>16</th>\n",
       "      <td>american-sociological-association</td>\n",
       "      <td>24</td>\n",
       "      <td>0.001104</td>\n",
       "    </tr>\n",
       "    <tr>\n",
       "      <th>17</th>\n",
       "      <td>modern-language-association</td>\n",
       "      <td>7</td>\n",
       "      <td>0.000322</td>\n",
       "    </tr>\n",
       "  </tbody>\n",
       "</table>\n",
       "</div>"
      ],
      "text/plain": [
       "                                         style  counts  fraction\n",
       "0                   springer-basic-author-date    6276  0.288645\n",
       "1                                          apa    3086  0.141931\n",
       "2                                      unknown    2873  0.132134\n",
       "3   springer-lecture-notes-in-computer-science    1949  0.089638\n",
       "4                                    vancouver    1943  0.089362\n",
       "5                american-institute-of-physics     957  0.044014\n",
       "6                           bmc-bioinformatics     902  0.041485\n",
       "7                          acm-sig-proceedings     787  0.036196\n",
       "8                                     harvard3     746  0.034310\n",
       "9                                         ieee     570  0.026215\n",
       "10                        elsevier-with-titles     515  0.023686\n",
       "11       american-chemical-society-with-titles     510  0.023456\n",
       "12                     elsevier-without-titles     202  0.009290\n",
       "13                   american-chemical-society     197  0.009060\n",
       "14                       iso690-author-date-en     100  0.004599\n",
       "15                         chicago-author-date      99  0.004553\n",
       "16           american-sociological-association      24  0.001104\n",
       "17                 modern-language-association       7  0.000322"
      ]
     },
     "execution_count": 7,
     "metadata": {},
     "output_type": "execute_result"
    }
   ],
   "source": [
    "styles_distr = existing_styles.groupby(['style']).size().reset_index(name='counts') \n",
    "styles_distr['fraction'] = styles_distr['counts'] / len(strings)\n",
    "styles_distr = styles_distr.sort_values(by='counts', ascending=False).reset_index(drop=True)\n",
    "styles_distr"
   ]
  },
  {
   "cell_type": "markdown",
   "metadata": {},
   "source": [
    "The most popular style is *springer-basic-author-date* (29%), followed by *apa* (14%) and *springer-lecture-notes-in-computer-science* (9%). We also have 13% of the strings classified as \"unknown\". Let's see a sample of those strings:"
   ]
  },
  {
   "cell_type": "code",
   "execution_count": 8,
   "metadata": {},
   "outputs": [
    {
     "name": "stdout",
     "output_type": "stream",
     "text": [
      "[0] High-Density 25/100 Gigabit Ethernet StrataXGS Tomahawk Ethernet Switch Series.\n",
      "[1] Englund, E. J., and Sparks, A. R., 1988, Geo-EAS (Geostatistical Environmental Assessment Software) User's Guide, EPA/600/4-88/033: U.S. EPA, Las Vegas, 174 p.\n",
      "[2] Catel, Dtsch. med. Wschr.1933 1689;1935, 985\n",
      "[3] Alternatives to Traditional Transportation Fuels.” (1994) Energy Information Administration (EIA) Report. Washington DC: U.S. Department of Energy, June.\n",
      "[4] Electric Properties of Polymers [in Russian], 2nd ed., Leningrad (1977).\n",
      "[5] ABAQUS/Standard User Manual, Version 5.8. Hibbit, Carlsson and Sorensen Inc., Pawtucket RI, USA, 1998.\n",
      "[6] Dee, D. P., and Coauthors, 2011, “The ERA-Interim reanalysis: Configuration and performance of the data assimilation system”, Quart. J. Roy. Meteor. Soc., 137, 553–597,   .\n",
      "[7] <a target=\"_blank\" href='\n",
      "[8] 1(h). Carl Casper , \"Method of Manufacturing Melting Crucibles,\" Ger. Pat. 210,085, 1907 .\n",
      "[9] Brown, D. H. (1947): Food-washing Habits of Waders. — Brit. Birds 40, p. 222.\n"
     ]
    }
   ],
   "source": [
    "for i, s in enumerate(existing_styles.loc[existing_styles['style'] == 'unknown'].sample(10, random_state=10)['string']):\n",
    "    print('['+str(i)+']', s)"
   ]
  }
 ],
 "metadata": {
  "kernelspec": {
   "display_name": "Python 3",
   "language": "python",
   "name": "python3"
  },
  "language_info": {
   "codemirror_mode": {
    "name": "ipython",
    "version": 3
   },
   "file_extension": ".py",
   "mimetype": "text/x-python",
   "name": "python",
   "nbconvert_exporter": "python",
   "pygments_lexer": "ipython3",
   "version": "3.6.6"
  }
 },
 "nbformat": 4,
 "nbformat_minor": 2
}
