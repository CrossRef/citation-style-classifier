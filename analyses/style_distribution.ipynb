{
 "cells": [
  {
   "cell_type": "markdown",
   "metadata": {},
   "source": [
    "# Which citation styles do we have in Crossref data?\n",
    "\n",
    "Dominika Tkaczyk\n",
    "\n",
    "2.11.2018\n",
    "\n",
    "In this notebook I use the style classifier to find out which styles are present Crossref data and what is the style distribution."
   ]
  },
  {
   "cell_type": "code",
   "execution_count": 1,
   "metadata": {},
   "outputs": [
    {
     "name": "stderr",
     "output_type": "stream",
     "text": [
      "/home/dtkaczyk/.local/lib/python3.6/site-packages/sklearn/ensemble/weight_boosting.py:29: DeprecationWarning: numpy.core.umath_tests is an internal NumPy module and should not be imported. It will be removed in a future NumPy release.\n",
      "  from numpy.core.umath_tests import inner1d\n"
     ]
    }
   ],
   "source": [
    "import sys\n",
    "sys.path.append('..')\n",
    "\n",
    "%matplotlib inline\n",
    "\n",
    "import warnings\n",
    "warnings.simplefilter('ignore')\n",
    "\n",
    "import json\n",
    "import pandas as pd\n",
    "import re\n",
    "\n",
    "from data_utils import add_noise, clean_data, read_ref_strings_data, remove_technical_parts, rearrange_tokens\n",
    "from features import get_features, select_features_chi2\n",
    "from sklearn.linear_model import LogisticRegression"
   ]
  },
  {
   "cell_type": "markdown",
   "metadata": {},
   "source": [
    "## Training\n",
    "\n",
    "First, I will train the classifier. To do that, I have to read the training data first:"
   ]
  },
  {
   "cell_type": "code",
   "execution_count": 2,
   "metadata": {},
   "outputs": [
    {
     "name": "stdout",
     "output_type": "stream",
     "text": [
      "Dataset size: 85000\n"
     ]
    },
    {
     "data": {
      "text/html": [
       "<div>\n",
       "<style scoped>\n",
       "    .dataframe tbody tr th:only-of-type {\n",
       "        vertical-align: middle;\n",
       "    }\n",
       "\n",
       "    .dataframe tbody tr th {\n",
       "        vertical-align: top;\n",
       "    }\n",
       "\n",
       "    .dataframe thead th {\n",
       "        text-align: right;\n",
       "    }\n",
       "</style>\n",
       "<table border=\"1\" class=\"dataframe\">\n",
       "  <thead>\n",
       "    <tr style=\"text-align: right;\">\n",
       "      <th></th>\n",
       "      <th>doi</th>\n",
       "      <th>string</th>\n",
       "      <th>style</th>\n",
       "    </tr>\n",
       "  </thead>\n",
       "  <tbody>\n",
       "    <tr>\n",
       "      <th>0</th>\n",
       "      <td>10.1016/s0002-9394(14)70125-4</td>\n",
       "      <td>[1]LEE, S.-H. and TSENG, S.C.G. 1997. Amniotic...</td>\n",
       "      <td>acm-sig-proceedings</td>\n",
       "    </tr>\n",
       "    <tr>\n",
       "      <th>1</th>\n",
       "      <td>10.1016/0920-9964(95)95073-i</td>\n",
       "      <td>[1]Scheffer, R. et al. 1995. History of premor...</td>\n",
       "      <td>acm-sig-proceedings</td>\n",
       "    </tr>\n",
       "    <tr>\n",
       "      <th>2</th>\n",
       "      <td>10.1075/cilt.97.22vek</td>\n",
       "      <td>[1]Vekerdi, J. 1993. 4. Word formation in Gips...</td>\n",
       "      <td>acm-sig-proceedings</td>\n",
       "    </tr>\n",
       "    <tr>\n",
       "      <th>3</th>\n",
       "      <td>10.1080/19761597.2013.810947</td>\n",
       "      <td>[1]Kang, J. et al. 2013. Determinants of succe...</td>\n",
       "      <td>acm-sig-proceedings</td>\n",
       "    </tr>\n",
       "    <tr>\n",
       "      <th>4</th>\n",
       "      <td>10.1016/0378-1119(79)90090-8</td>\n",
       "      <td>[1]Wickens, M.P. et al. 1979. Restriction map ...</td>\n",
       "      <td>acm-sig-proceedings</td>\n",
       "    </tr>\n",
       "  </tbody>\n",
       "</table>\n",
       "</div>"
      ],
      "text/plain": [
       "                             doi  \\\n",
       "0  10.1016/s0002-9394(14)70125-4   \n",
       "1   10.1016/0920-9964(95)95073-i   \n",
       "2          10.1075/cilt.97.22vek   \n",
       "3   10.1080/19761597.2013.810947   \n",
       "4   10.1016/0378-1119(79)90090-8   \n",
       "\n",
       "                                              string                style  \n",
       "0  [1]LEE, S.-H. and TSENG, S.C.G. 1997. Amniotic...  acm-sig-proceedings  \n",
       "1  [1]Scheffer, R. et al. 1995. History of premor...  acm-sig-proceedings  \n",
       "2  [1]Vekerdi, J. 1993. 4. Word formation in Gips...  acm-sig-proceedings  \n",
       "3  [1]Kang, J. et al. 2013. Determinants of succe...  acm-sig-proceedings  \n",
       "4  [1]Wickens, M.P. et al. 1979. Restriction map ...  acm-sig-proceedings  "
      ]
     },
     "execution_count": 2,
     "metadata": {},
     "output_type": "execute_result"
    }
   ],
   "source": [
    "dataset = read_ref_strings_data('../data/ref_strings/')\n",
    "print('Dataset size: {}'.format(dataset.shape[0]))\n",
    "dataset.head()"
   ]
  },
  {
   "cell_type": "markdown",
   "metadata": {},
   "source": [
    "Cleaning and preprocessing the data (more about this procedure can be found [here]()):"
   ]
  },
  {
   "cell_type": "code",
   "execution_count": 3,
   "metadata": {},
   "outputs": [
    {
     "name": "stdout",
     "output_type": "stream",
     "text": [
      "Dataset size: 87834\n"
     ]
    }
   ],
   "source": [
    "dataset = clean_data(dataset)\n",
    "dataset['string'] = dataset['string'].apply(remove_technical_parts)\n",
    "dataset['string'] = dataset['string'].apply(add_noise)\n",
    "dataset_unknown = dataset.sample(5000)\n",
    "dataset_unknown['string'] = dataset_unknown['string'].apply(rearrange_tokens)\n",
    "dataset_unknown['style'] = 'unknown'\n",
    "dataset_unknown\n",
    "dataset = pd.concat([dataset, dataset_unknown])\n",
    "print('Dataset size: {}'.format(dataset.shape[0]))"
   ]
  },
  {
   "cell_type": "markdown",
   "metadata": {},
   "source": [
    "Training the classification model (more about the parameters and the training can be found [here]()):"
   ]
  },
  {
   "cell_type": "code",
   "execution_count": 4,
   "metadata": {},
   "outputs": [],
   "source": [
    "count_vectorizer, tfidf_transformer, features = get_features(dataset['string'], nfeatures=5000,\n",
    "                                                             feature_selector=select_features_chi2, ngrams=(2, 4))\n",
    "model = LogisticRegression(random_state=0).fit(features, dataset['style'])"
   ]
  },
  {
   "cell_type": "markdown",
   "metadata": {},
   "source": [
    "*model* contains the complete trained style classifier. It can be used to infer the citation style of a new reference string.\n",
    "\n",
    "## Classifying real reference strings\n",
    "\n",
    "Let's read a sample of metadata records drawn from Crossref API:"
   ]
  },
  {
   "cell_type": "code",
   "execution_count": 5,
   "metadata": {},
   "outputs": [],
   "source": [
    "with open('../data/samples/sample-10000.json', 'r') as file:\n",
    "    data = json.loads(file.read())['sample']"
   ]
  },
  {
   "cell_type": "markdown",
   "metadata": {},
   "source": [
    "Next, I iterate over all unstructured reference strings found in the records and assign a citation style (or \"unknown\") to each of them:"
   ]
  },
  {
   "cell_type": "code",
   "execution_count": 6,
   "metadata": {},
   "outputs": [],
   "source": [
    "strings = []\n",
    "styles = []\n",
    "probabilities = []\n",
    "for d in data:\n",
    "    for r in d.get('reference', []):\n",
    "        if 'unstructured' in r:\n",
    "            r['unstructured'] = re.sub('http[^ ]+', '', r['unstructured']).strip()\n",
    "            r['unstructured'] = re.sub('(?<!\\d)10\\.\\d{4,9}/[-\\._;\\(\\)/:a-zA-Z0-9]+', '', r['unstructured'])\n",
    "            r['unstructured'] = re.sub('doi:?', '', r['unstructured']).strip()\n",
    "            if len(r['unstructured']) < 11:\n",
    "                continue\n",
    "            _, _, test_features = get_features([r['unstructured']], count_vectorizer=count_vectorizer,\n",
    "                                               tfidf_transformer=tfidf_transformer)\n",
    "            prediction = model.predict(test_features)\n",
    "            probabilities.append(max(model.predict_proba(test_features)[0]))\n",
    "            strings.append(r['unstructured'])\n",
    "            styles.append(prediction[0])\n",
    "existing_styles = pd.DataFrame({'string': strings, 'style': styles})"
   ]
  },
  {
   "cell_type": "markdown",
   "metadata": {},
   "source": [
    "## The distribution of the styles\n",
    "\n",
    "Let's look at the fraction of each style in our dataset:"
   ]
  },
  {
   "cell_type": "code",
   "execution_count": 7,
   "metadata": {},
   "outputs": [
    {
     "data": {
      "text/html": [
       "<div>\n",
       "<style scoped>\n",
       "    .dataframe tbody tr th:only-of-type {\n",
       "        vertical-align: middle;\n",
       "    }\n",
       "\n",
       "    .dataframe tbody tr th {\n",
       "        vertical-align: top;\n",
       "    }\n",
       "\n",
       "    .dataframe thead th {\n",
       "        text-align: right;\n",
       "    }\n",
       "</style>\n",
       "<table border=\"1\" class=\"dataframe\">\n",
       "  <thead>\n",
       "    <tr style=\"text-align: right;\">\n",
       "      <th></th>\n",
       "      <th>style</th>\n",
       "      <th>counts</th>\n",
       "      <th>fraction</th>\n",
       "    </tr>\n",
       "  </thead>\n",
       "  <tbody>\n",
       "    <tr>\n",
       "      <th>0</th>\n",
       "      <td>springer-basic-author-date</td>\n",
       "      <td>6303</td>\n",
       "      <td>0.289886</td>\n",
       "    </tr>\n",
       "    <tr>\n",
       "      <th>1</th>\n",
       "      <td>apa</td>\n",
       "      <td>3081</td>\n",
       "      <td>0.141701</td>\n",
       "    </tr>\n",
       "    <tr>\n",
       "      <th>2</th>\n",
       "      <td>unknown</td>\n",
       "      <td>2753</td>\n",
       "      <td>0.126615</td>\n",
       "    </tr>\n",
       "    <tr>\n",
       "      <th>3</th>\n",
       "      <td>springer-lecture-notes-in-computer-science</td>\n",
       "      <td>1997</td>\n",
       "      <td>0.091846</td>\n",
       "    </tr>\n",
       "    <tr>\n",
       "      <th>4</th>\n",
       "      <td>vancouver</td>\n",
       "      <td>1911</td>\n",
       "      <td>0.087890</td>\n",
       "    </tr>\n",
       "    <tr>\n",
       "      <th>5</th>\n",
       "      <td>american-institute-of-physics</td>\n",
       "      <td>947</td>\n",
       "      <td>0.043554</td>\n",
       "    </tr>\n",
       "    <tr>\n",
       "      <th>6</th>\n",
       "      <td>bmc-bioinformatics</td>\n",
       "      <td>873</td>\n",
       "      <td>0.040151</td>\n",
       "    </tr>\n",
       "    <tr>\n",
       "      <th>7</th>\n",
       "      <td>acm-sig-proceedings</td>\n",
       "      <td>808</td>\n",
       "      <td>0.037161</td>\n",
       "    </tr>\n",
       "    <tr>\n",
       "      <th>8</th>\n",
       "      <td>harvard3</td>\n",
       "      <td>752</td>\n",
       "      <td>0.034586</td>\n",
       "    </tr>\n",
       "    <tr>\n",
       "      <th>9</th>\n",
       "      <td>elsevier-with-titles</td>\n",
       "      <td>589</td>\n",
       "      <td>0.027089</td>\n",
       "    </tr>\n",
       "    <tr>\n",
       "      <th>10</th>\n",
       "      <td>ieee</td>\n",
       "      <td>583</td>\n",
       "      <td>0.026813</td>\n",
       "    </tr>\n",
       "    <tr>\n",
       "      <th>11</th>\n",
       "      <td>american-chemical-society-with-titles</td>\n",
       "      <td>506</td>\n",
       "      <td>0.023272</td>\n",
       "    </tr>\n",
       "    <tr>\n",
       "      <th>12</th>\n",
       "      <td>american-chemical-society</td>\n",
       "      <td>202</td>\n",
       "      <td>0.009290</td>\n",
       "    </tr>\n",
       "    <tr>\n",
       "      <th>13</th>\n",
       "      <td>elsevier-without-titles</td>\n",
       "      <td>187</td>\n",
       "      <td>0.008600</td>\n",
       "    </tr>\n",
       "    <tr>\n",
       "      <th>14</th>\n",
       "      <td>iso690-author-date-en</td>\n",
       "      <td>112</td>\n",
       "      <td>0.005151</td>\n",
       "    </tr>\n",
       "    <tr>\n",
       "      <th>15</th>\n",
       "      <td>chicago-author-date</td>\n",
       "      <td>105</td>\n",
       "      <td>0.004829</td>\n",
       "    </tr>\n",
       "    <tr>\n",
       "      <th>16</th>\n",
       "      <td>american-sociological-association</td>\n",
       "      <td>27</td>\n",
       "      <td>0.001242</td>\n",
       "    </tr>\n",
       "    <tr>\n",
       "      <th>17</th>\n",
       "      <td>modern-language-association</td>\n",
       "      <td>7</td>\n",
       "      <td>0.000322</td>\n",
       "    </tr>\n",
       "  </tbody>\n",
       "</table>\n",
       "</div>"
      ],
      "text/plain": [
       "                                         style  counts  fraction\n",
       "0                   springer-basic-author-date    6303  0.289886\n",
       "1                                          apa    3081  0.141701\n",
       "2                                      unknown    2753  0.126615\n",
       "3   springer-lecture-notes-in-computer-science    1997  0.091846\n",
       "4                                    vancouver    1911  0.087890\n",
       "5                american-institute-of-physics     947  0.043554\n",
       "6                           bmc-bioinformatics     873  0.040151\n",
       "7                          acm-sig-proceedings     808  0.037161\n",
       "8                                     harvard3     752  0.034586\n",
       "9                         elsevier-with-titles     589  0.027089\n",
       "10                                        ieee     583  0.026813\n",
       "11       american-chemical-society-with-titles     506  0.023272\n",
       "12                   american-chemical-society     202  0.009290\n",
       "13                     elsevier-without-titles     187  0.008600\n",
       "14                       iso690-author-date-en     112  0.005151\n",
       "15                         chicago-author-date     105  0.004829\n",
       "16           american-sociological-association      27  0.001242\n",
       "17                 modern-language-association       7  0.000322"
      ]
     },
     "execution_count": 7,
     "metadata": {},
     "output_type": "execute_result"
    }
   ],
   "source": [
    "styles_distr = existing_styles.groupby(['style']).size().reset_index(name='counts') \n",
    "styles_distr['fraction'] = styles_distr['counts'] / len(strings)\n",
    "styles_distr = styles_distr.sort_values(by='counts', ascending=False).reset_index(drop=True)\n",
    "styles_distr"
   ]
  },
  {
   "cell_type": "markdown",
   "metadata": {},
   "source": [
    "The most popular style is *springer-basic-author-date* (29%), followed by *apa* (14%) and *springer-lecture-notes-in-computer-science* (9%). We also have 13% of the strings classified as \"unknown\". Let's see a sample of those strings:"
   ]
  },
  {
   "cell_type": "code",
   "execution_count": 8,
   "metadata": {},
   "outputs": [
    {
     "name": "stdout",
     "output_type": "stream",
     "text": [
      "[0] Blair G.P., “The Basic Design of Two-Stroke Engines”, SAE, in Chapter 2 ‘The Theory of Unsteady Gas Flow Through Engines’, 2nd Edition, in 1995, pp. 141.\n",
      "[1] F. Tang andJ. O. Henningsen:IEEE J. Quantum Electron.,22, 2084 (1986).\n",
      "[2] ASEAN Secretariat (2013a) Opening Remarks by H.E. Le Luong Minh Secretary General of ASEAN at The ASEAN-UN Workshop Lessons Learned and Best Practices in Conflict Prevention and Preventive Diplomacy, 5 April 2013,  /news/item/opening-remarks-by-he-le-luong-minh-secretary-gen-eral-of-asean-at-the-asean-un-workshop-lessons-learned-and-best-practices-in-conflict-prevention-and-preventive-diplomacy date accessed 7 August 2014.\n",
      "[3] Wassom J. S. Mutagenesis and teratogenesis. Symposium on the Handling of Toxicological Information May 27-28 1976 Natl. Tech. Information Services PB-283-164.\n",
      "[4] Myers , J. S. Albany, Western Australia, West. Aust. Geol. Surv., 1∶1 000 000 Geol. Ser., Explanatory Notes 9 1995\n",
      "[5] Littwin , W. 1935 Forsch. Staat. Obs., Danzig\n",
      "[6] de Moel, H., van Alphen, J., and Aerts, J. C. J. H.: Flood maps in Europe – methods, availability and use, Nat. Hazards Earth Syst. Sci., 9, 289–301,  2009.\n",
      "[7] Romero M, Diggle SP, Heeb S, Cámara M, Otero A . Quorum quenching activity in Anabaena sp. PCC 7120: identification of AiiC, a novel AHL-acylase. FEMS Microbiol Lett 2008; 280: 73–80.\n",
      "[8] De Notaris G (1863) Sfériacei Italici. Centuria I. Fasc. 2–3. Genova 90 pp 120 pl\n",
      "[9] Liron Levin, Alon Efrat, Michael Segal, Collecting data in ad-hoc networks with reduced uncertainty, Ad Hoc Networks, Volume 17, June 2014, Pages 71&#8211;81.\n"
     ]
    }
   ],
   "source": [
    "for i, s in enumerate(existing_styles.loc[existing_styles['style'] == 'unknown'].sample(10, random_state=10)['string']):\n",
    "    print('['+str(i)+']', s)"
   ]
  }
 ],
 "metadata": {
  "kernelspec": {
   "display_name": "Python 3",
   "language": "python",
   "name": "python3"
  },
  "language_info": {
   "codemirror_mode": {
    "name": "ipython",
    "version": 3
   },
   "file_extension": ".py",
   "mimetype": "text/x-python",
   "name": "python",
   "nbconvert_exporter": "python",
   "pygments_lexer": "ipython3",
   "version": "3.6.6"
  }
 },
 "nbformat": 4,
 "nbformat_minor": 2
}
