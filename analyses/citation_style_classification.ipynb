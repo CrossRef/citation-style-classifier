{
 "cells": [
  {
   "cell_type": "markdown",
   "metadata": {},
   "source": [
    "# Inferring citation style from the reference string\n",
    "Dominika Tkaczyk\n",
    "\n",
    "2.11.2018\n",
    "\n",
    "This notebook contains the experiments related to inferring citation style from the reference string. The main goal is to build a supervised classifier able to classify the given reference string into one of the known styles."
   ]
  },
  {
   "cell_type": "code",
   "execution_count": 1,
   "metadata": {},
   "outputs": [
    {
     "name": "stderr",
     "output_type": "stream",
     "text": [
      "/home/dtkaczyk/.local/lib/python3.6/site-packages/sklearn/ensemble/weight_boosting.py:29: DeprecationWarning: numpy.core.umath_tests is an internal NumPy module and should not be imported. It will be removed in a future NumPy release.\n",
      "  from numpy.core.umath_tests import inner1d\n"
     ]
    }
   ],
   "source": [
    "import sys\n",
    "sys.path.append('..')\n",
    "\n",
    "%matplotlib inline\n",
    "\n",
    "import warnings\n",
    "warnings.simplefilter('ignore')\n",
    "\n",
    "import matplotlib.pyplot as plt\n",
    "import numpy as np\n",
    "import pandas as pd\n",
    "import re\n",
    "import seaborn as sns\n",
    "\n",
    "from config import STYLES\n",
    "from data_utils import add_noise, clean_data, read_ref_strings_data, remove_technical_parts, rearrange_tokens\n",
    "from evaluation import evaluate_cv\n",
    "from features import get_features, get_tfidf_features, select_features_chi2, select_features_rf, tokens_to_classes\n",
    "from random import randint, seed\n",
    "from sklearn.ensemble import RandomForestClassifier\n",
    "from sklearn.feature_selection import chi2\n",
    "from sklearn.linear_model import LogisticRegression\n",
    "from sklearn.metrics import accuracy_score, confusion_matrix\n",
    "from sklearn.model_selection import train_test_split\n",
    "from sklearn.naive_bayes import MultinomialNB\n",
    "from sklearn.svm import LinearSVC\n",
    "from statistics import mean"
   ]
  },
  {
   "cell_type": "markdown",
   "metadata": {},
   "source": [
    "## Preparing the data\n",
    "\n",
    "### Reading the data\n",
    "\n",
    "We are considering the following 17 styles in these experiments:"
   ]
  },
  {
   "cell_type": "code",
   "execution_count": 2,
   "metadata": {},
   "outputs": [
    {
     "data": {
      "text/plain": [
       "['acm-sig-proceedings',\n",
       " 'american-chemical-society',\n",
       " 'american-chemical-society-with-titles',\n",
       " 'american-institute-of-physics',\n",
       " 'american-sociological-association',\n",
       " 'apa',\n",
       " 'bmc-bioinformatics',\n",
       " 'chicago-author-date',\n",
       " 'elsevier-without-titles',\n",
       " 'elsevier-with-titles',\n",
       " 'harvard3',\n",
       " 'ieee',\n",
       " 'iso690-author-date-en',\n",
       " 'modern-language-association',\n",
       " 'springer-basic-author-date',\n",
       " 'springer-lecture-notes-in-computer-science',\n",
       " 'vancouver']"
      ]
     },
     "execution_count": 2,
     "metadata": {},
     "output_type": "execute_result"
    }
   ],
   "source": [
    "STYLES"
   ]
  },
  {
   "cell_type": "markdown",
   "metadata": {},
   "source": [
    "The data was generated automatically by formatting 5k randomly chosen metadata records into 17 styles. This resulted in 85k pairs (reference string, citation style name). We also keep the DOI of the metadata record used to generate the reference string."
   ]
  },
  {
   "cell_type": "code",
   "execution_count": 3,
   "metadata": {},
   "outputs": [
    {
     "name": "stdout",
     "output_type": "stream",
     "text": [
      "Dataset size: 85000\n"
     ]
    },
    {
     "data": {
      "text/html": [
       "<div>\n",
       "<style scoped>\n",
       "    .dataframe tbody tr th:only-of-type {\n",
       "        vertical-align: middle;\n",
       "    }\n",
       "\n",
       "    .dataframe tbody tr th {\n",
       "        vertical-align: top;\n",
       "    }\n",
       "\n",
       "    .dataframe thead th {\n",
       "        text-align: right;\n",
       "    }\n",
       "</style>\n",
       "<table border=\"1\" class=\"dataframe\">\n",
       "  <thead>\n",
       "    <tr style=\"text-align: right;\">\n",
       "      <th></th>\n",
       "      <th>doi</th>\n",
       "      <th>string</th>\n",
       "      <th>style</th>\n",
       "    </tr>\n",
       "  </thead>\n",
       "  <tbody>\n",
       "    <tr>\n",
       "      <th>0</th>\n",
       "      <td>10.1016/s0002-9394(14)70125-4</td>\n",
       "      <td>[1]LEE, S.-H. and TSENG, S.C.G. 1997. Amniotic...</td>\n",
       "      <td>acm-sig-proceedings</td>\n",
       "    </tr>\n",
       "    <tr>\n",
       "      <th>1</th>\n",
       "      <td>10.1016/0920-9964(95)95073-i</td>\n",
       "      <td>[1]Scheffer, R. et al. 1995. History of premor...</td>\n",
       "      <td>acm-sig-proceedings</td>\n",
       "    </tr>\n",
       "    <tr>\n",
       "      <th>2</th>\n",
       "      <td>10.1075/cilt.97.22vek</td>\n",
       "      <td>[1]Vekerdi, J. 1993. 4. Word formation in Gips...</td>\n",
       "      <td>acm-sig-proceedings</td>\n",
       "    </tr>\n",
       "    <tr>\n",
       "      <th>3</th>\n",
       "      <td>10.1080/19761597.2013.810947</td>\n",
       "      <td>[1]Kang, J. et al. 2013. Determinants of succe...</td>\n",
       "      <td>acm-sig-proceedings</td>\n",
       "    </tr>\n",
       "    <tr>\n",
       "      <th>4</th>\n",
       "      <td>10.1016/0378-1119(79)90090-8</td>\n",
       "      <td>[1]Wickens, M.P. et al. 1979. Restriction map ...</td>\n",
       "      <td>acm-sig-proceedings</td>\n",
       "    </tr>\n",
       "  </tbody>\n",
       "</table>\n",
       "</div>"
      ],
      "text/plain": [
       "                             doi  \\\n",
       "0  10.1016/s0002-9394(14)70125-4   \n",
       "1   10.1016/0920-9964(95)95073-i   \n",
       "2          10.1075/cilt.97.22vek   \n",
       "3   10.1080/19761597.2013.810947   \n",
       "4   10.1016/0378-1119(79)90090-8   \n",
       "\n",
       "                                              string                style  \n",
       "0  [1]LEE, S.-H. and TSENG, S.C.G. 1997. Amniotic...  acm-sig-proceedings  \n",
       "1  [1]Scheffer, R. et al. 1995. History of premor...  acm-sig-proceedings  \n",
       "2  [1]Vekerdi, J. 1993. 4. Word formation in Gips...  acm-sig-proceedings  \n",
       "3  [1]Kang, J. et al. 2013. Determinants of succe...  acm-sig-proceedings  \n",
       "4  [1]Wickens, M.P. et al. 1979. Restriction map ...  acm-sig-proceedings  "
      ]
     },
     "execution_count": 3,
     "metadata": {},
     "output_type": "execute_result"
    }
   ],
   "source": [
    "dataset = read_ref_strings_data('../data/ref_strings/')\n",
    "print('Dataset size: {}'.format(dataset.shape[0]))\n",
    "dataset.head()"
   ]
  },
  {
   "cell_type": "markdown",
   "metadata": {},
   "source": [
    "Let's see example entries for each style:"
   ]
  },
  {
   "cell_type": "code",
   "execution_count": 4,
   "metadata": {},
   "outputs": [
    {
     "name": "stdout",
     "output_type": "stream",
     "text": [
      "acm-sig-proceedings\n",
      "[1]Dorofeev, Y.G. et al. 1990. Effect of carbonyl iron powder additions on the properties of materials produced by dynamic hot pressing. Soviet Powder Metallurgy and Metal Ceramics. 29, 6 (Jun. 1990), 427–430.\n",
      "\n",
      "american-chemical-society\n",
      "(1) Dorofeev, Y. G.; Marinenko, L. G.; Ustimenko, V. I. Soviet Powder Metallurgy and Metal Ceramics 1990, 29, 427–430.\n",
      "\n",
      "american-chemical-society-with-titles\n",
      "(1) Dorofeev, Y. G.; Marinenko, L. G.; Ustimenko, V. I. Effect of Carbonyl Iron Powder Additions on the Properties of Materials Produced by Dynamic Hot Pressing. Soviet Powder Metallurgy and Metal Ceramics 1990, 29, 427–430.\n",
      "\n",
      "american-institute-of-physics\n",
      "1 Y.G. Dorofeev, L.G. Marinenko, and V.I. Ustimenko, Soviet Powder Metallurgy and Metal Ceramics 29, 427 (1990).\n",
      "\n",
      "american-sociological-association\n",
      "Dorofeev, Yu. G., L. G. Marinenko, and V. I. Ustimenko. 1990. “Effect of Carbonyl Iron Powder Additions on the Properties of Materials Produced by Dynamic Hot Pressing.” Soviet Powder Metallurgy and Metal Ceramics 29(6):427–30. Retrieved\n",
      "\n",
      "apa\n",
      "Dorofeev, Y. G., Marinenko, L. G., & Ustimenko, V. I. (1990). Effect of carbonyl iron powder additions on the properties of materials produced by dynamic hot pressing. Soviet Powder Metallurgy and Metal Ceramics, 29(6), 427–430.\n",
      "\n",
      "bmc-bioinformatics\n",
      "1. Dorofeev YG, Marinenko LG, Ustimenko VI: Effect of carbonyl iron powder additions on the properties of materials produced by dynamic hot pressing. Soviet Powder Metallurgy and Metal Ceramics 1990, 29:427–430.\n",
      "\n",
      "chicago-author-date\n",
      "Dorofeev, Yu. G., L. G. Marinenko, and V. I. Ustimenko. 1990. “Effect of Carbonyl Iron Powder Additions on the Properties of Materials Produced by Dynamic Hot Pressing.” Soviet Powder Metallurgy and Metal Ceramics 29 (6) (June): 427–430.\n",
      "\n",
      "elsevier-with-titles\n",
      "[1] Y.G. Dorofeev, L.G. Marinenko, V.I. Ustimenko, Effect of carbonyl iron powder additions on the properties of materials produced by dynamic hot pressing, Soviet Powder Metallurgy and Metal Ceramics. 29 (1990) 427–430.\n",
      "\n",
      "elsevier-without-titles\n",
      "[1] Y.G. Dorofeev, L.G. Marinenko, V.I. Ustimenko, Soviet Powder Metallurgy and Metal Ceramics 29 (1990) 427.\n",
      "\n",
      "harvard3\n",
      "Dorofeev, Y.G., Marinenko, L.G. & Ustimenko, V.I., 1990. Effect of carbonyl iron powder additions on the properties of materials produced by dynamic hot pressing. Soviet Powder Metallurgy and Metal Ceramics, 29(6), pp.427–430.\n",
      "\n",
      "ieee\n",
      "[1]Y. G. Dorofeev, L. G. Marinenko, and V. I. Ustimenko, “Effect of carbonyl iron powder additions on the properties of materials produced by dynamic hot pressing,” Soviet Powder Metallurgy and Metal Ceramics, vol. 29, no. 6, pp. 427–430, Jun. 1990.\n",
      "\n",
      "iso690-author-date-en\n",
      "DOROFEEV, Yu. G., MARINENKO, L. G. and USTIMENKO, V. I., 1990, Effect of carbonyl iron powder additions on the properties of materials produced by dynamic hot pressing. Soviet Powder Metallurgy and Metal Ceramics [online]. June 1990. Vol. 29, no. 6, p. 427–430. Available from:\n",
      "\n",
      "modern-language-association\n",
      "Dorofeev, Yu. G., L. G. Marinenko, and V. I. Ustimenko. “Effect of Carbonyl Iron Powder Additions on the Properties of Materials Produced by Dynamic Hot Pressing.” Soviet Powder Metallurgy and Metal Ceramics 29.6 (1990): 427–430.\n",
      "\n",
      "springer-basic-author-date\n",
      "Dorofeev YG, Marinenko LG, Ustimenko VI (1990) Effect of carbonyl iron powder additions on the properties of materials produced by dynamic hot pressing. Soviet Powder Metallurgy and Metal Ceramics 29:427–430. doi:\n",
      "\n",
      "springer-lecture-notes-in-computer-science\n",
      "1. Dorofeev, Y.G., Marinenko, L.G., Ustimenko, V.I.: Effect of carbonyl iron powder additions on the properties of materials produced by dynamic hot pressing. Soviet Powder Metallurgy and Metal Ceramics. 29, 427–430 (1990).\n",
      "\n",
      "vancouver\n",
      "1. Dorofeev YG, Marinenko LG, Ustimenko VI. Effect of carbonyl iron powder additions on the properties of materials produced by dynamic hot pressing. Soviet Powder Metallurgy and Metal Ceramics [Internet]. Springer Nature; 1990 Jun;29(6):427–30. Available from:\n"
     ]
    }
   ],
   "source": [
    "seed(10)\n",
    "examples = dataset.groupby('style').nth(randint(0, 4999)).reset_index()\n",
    "print('\\n\\n'.join(['{}\\n{}'.format(s, t) for s, t in zip(examples['style'].tolist(), examples['string'].tolist())]))"
   ]
  },
  {
   "cell_type": "markdown",
   "metadata": {},
   "source": [
    "### Data cleaning\n",
    "\n",
    "First, let's get rid of null and very short reference strings:"
   ]
  },
  {
   "cell_type": "code",
   "execution_count": 5,
   "metadata": {},
   "outputs": [
    {
     "name": "stdout",
     "output_type": "stream",
     "text": [
      "Dataset size: 82834\n"
     ]
    }
   ],
   "source": [
    "dataset = clean_data(dataset)\n",
    "print('Dataset size: {}'.format(dataset.shape[0]))"
   ]
  },
  {
   "cell_type": "markdown",
   "metadata": {},
   "source": [
    "We also have some remains from DOI stripping and other \"technical\" fragments in the strings. We will remove those parts."
   ]
  },
  {
   "cell_type": "code",
   "execution_count": 6,
   "metadata": {},
   "outputs": [],
   "source": [
    "dataset['string'] = dataset['string'].apply(remove_technical_parts)"
   ]
  },
  {
   "cell_type": "markdown",
   "metadata": {},
   "source": [
    "Reference strings generated automatically are also a bit too perfect. For example, all strings of american-chemical-society style are prefixed by \"(1)\". This prefix alone would be enough for the learning algorithm to assign a string to this style. On the other hand, we cannot expect all strings \"in real life\" to have a proper prefix (some tools/extractors might strip this).\n",
    "\n",
    "Also, the strings were generated from rich metadata records, and as a result, contain fragments such as the names of the months from the publication date. In practise, however, the dates are typically given as years only (\"(1997)\" instead of \"(Mar 1997)\").\n",
    "\n",
    "To make the dataset a bit less perfect, let's remove such fragments from some of the references:"
   ]
  },
  {
   "cell_type": "code",
   "execution_count": 7,
   "metadata": {},
   "outputs": [
    {
     "data": {
      "text/html": [
       "<div>\n",
       "<style scoped>\n",
       "    .dataframe tbody tr th:only-of-type {\n",
       "        vertical-align: middle;\n",
       "    }\n",
       "\n",
       "    .dataframe tbody tr th {\n",
       "        vertical-align: top;\n",
       "    }\n",
       "\n",
       "    .dataframe thead th {\n",
       "        text-align: right;\n",
       "    }\n",
       "</style>\n",
       "<table border=\"1\" class=\"dataframe\">\n",
       "  <thead>\n",
       "    <tr style=\"text-align: right;\">\n",
       "      <th></th>\n",
       "      <th>doi</th>\n",
       "      <th>string</th>\n",
       "      <th>style</th>\n",
       "    </tr>\n",
       "  </thead>\n",
       "  <tbody>\n",
       "    <tr>\n",
       "      <th>0</th>\n",
       "      <td>10.1016/s0002-9394(14)70125-4</td>\n",
       "      <td>[1]LEE, S.-H. and TSENG, S.C.G. 1997. Amniotic...</td>\n",
       "      <td>acm-sig-proceedings</td>\n",
       "    </tr>\n",
       "    <tr>\n",
       "      <th>1</th>\n",
       "      <td>10.1016/0920-9964(95)95073-i</td>\n",
       "      <td>[1]Scheffer, R. et al. 1995. History of premor...</td>\n",
       "      <td>acm-sig-proceedings</td>\n",
       "    </tr>\n",
       "    <tr>\n",
       "      <th>2</th>\n",
       "      <td>10.1075/cilt.97.22vek</td>\n",
       "      <td>Vekerdi, J. 1993. 4. Word formation in Gipsy l...</td>\n",
       "      <td>acm-sig-proceedings</td>\n",
       "    </tr>\n",
       "    <tr>\n",
       "      <th>3</th>\n",
       "      <td>10.1080/19761597.2013.810947</td>\n",
       "      <td>Kang, J. et al. 2013. Determinants of successf...</td>\n",
       "      <td>acm-sig-proceedings</td>\n",
       "    </tr>\n",
       "    <tr>\n",
       "      <th>4</th>\n",
       "      <td>10.1016/0378-1119(79)90090-8</td>\n",
       "      <td>[1]Wickens, M.P. et al. 1979. Restriction map ...</td>\n",
       "      <td>acm-sig-proceedings</td>\n",
       "    </tr>\n",
       "  </tbody>\n",
       "</table>\n",
       "</div>"
      ],
      "text/plain": [
       "                             doi  \\\n",
       "0  10.1016/s0002-9394(14)70125-4   \n",
       "1   10.1016/0920-9964(95)95073-i   \n",
       "2          10.1075/cilt.97.22vek   \n",
       "3   10.1080/19761597.2013.810947   \n",
       "4   10.1016/0378-1119(79)90090-8   \n",
       "\n",
       "                                              string                style  \n",
       "0  [1]LEE, S.-H. and TSENG, S.C.G. 1997. Amniotic...  acm-sig-proceedings  \n",
       "1  [1]Scheffer, R. et al. 1995. History of premor...  acm-sig-proceedings  \n",
       "2  Vekerdi, J. 1993. 4. Word formation in Gipsy l...  acm-sig-proceedings  \n",
       "3  Kang, J. et al. 2013. Determinants of successf...  acm-sig-proceedings  \n",
       "4  [1]Wickens, M.P. et al. 1979. Restriction map ...  acm-sig-proceedings  "
      ]
     },
     "execution_count": 7,
     "metadata": {},
     "output_type": "execute_result"
    }
   ],
   "source": [
    "seed(10)\n",
    "dataset['string'] = dataset['string'].apply(add_noise)\n",
    "dataset.head()"
   ]
  },
  {
   "cell_type": "markdown",
   "metadata": {},
   "source": [
    "Finally, we will add the \"unknown\" category to the dataset. The reference strings in this category will be generated by randomly swapping tokens in the \"proper\" reference strings."
   ]
  },
  {
   "cell_type": "code",
   "execution_count": 8,
   "metadata": {},
   "outputs": [
    {
     "name": "stdout",
     "output_type": "stream",
     "text": [
      "Dataset size: 87834\n"
     ]
    }
   ],
   "source": [
    "dataset_unknown = dataset.sample(5000, random_state=0)\n",
    "dataset_unknown['string'] = dataset_unknown['string'].apply(rearrange_tokens)\n",
    "dataset_unknown['style'] = 'unknown'\n",
    "dataset = pd.concat([dataset, dataset_unknown])\n",
    "print('Dataset size: {}'.format(dataset.shape[0]))"
   ]
  },
  {
   "cell_type": "markdown",
   "metadata": {},
   "source": [
    "### Splitting the data\n",
    "\n",
    "We will split the dataset randomly into train (75%) and test (25%) sets. The train set will be used to find the best learning algorithm and its meta-parameters. The test set will be used once to evaluate the final chosen model. This provides a fair, unbiased estimate of the model performance.\n",
    "\n",
    "The data will be split based on DOIs, for better separation (i.e. all strings generated from a specific DOI will belong either to the train set or the test set)."
   ]
  },
  {
   "cell_type": "code",
   "execution_count": 9,
   "metadata": {},
   "outputs": [
    {
     "name": "stdout",
     "output_type": "stream",
     "text": [
      "Train dataset size: 65723\n",
      "Test dataset size: 22111\n"
     ]
    }
   ],
   "source": [
    "train_doi, test_doi = train_test_split(dataset['doi'].drop_duplicates(), random_state=0)\n",
    "train_dataset = dataset.loc[dataset['doi'].isin(train_doi)]\n",
    "test_dataset = dataset.loc[dataset['doi'].isin(test_doi)]\n",
    "print('Train dataset size: {}'.format(train_dataset.shape[0]))\n",
    "print('Test dataset size: {}'.format(test_dataset.shape[0]))"
   ]
  },
  {
   "cell_type": "markdown",
   "metadata": {},
   "source": [
    "## Feature representation\n",
    "\n",
    "We will use a TF-IDF bag-of-ngrams representation of the reference strings. In this case, however, the tokens will be different from the typical use case. We will leave punctuation characters as tokens, and map the actual words into word classes such as \"capitalized word\", or \"uppercase letter\". This is done to preserve the style-related information. We will also mark the beginning and the end of the string with special tokens.\n",
    "\n",
    "This function maps the tokens in the string into our token classes:"
   ]
  },
  {
   "cell_type": "code",
   "execution_count": 10,
   "metadata": {},
   "outputs": [
    {
     "data": {
      "text/plain": [
       "'start capword comma uclett dot uclett dot capword lcword capword year comma year comma num dash num dot end'"
      ]
     },
     "execution_count": 10,
     "metadata": {},
     "output_type": "execute_result"
    }
   ],
   "source": [
    "tokens_to_classes('Eberlein, T. J. Yearbook of Surgery 2006, 2006, 322–324.')"
   ]
  },
  {
   "cell_type": "markdown",
   "metadata": {},
   "source": [
    "## The basic model\n",
    "\n",
    "Let's now build some models and evaluate them. We will use logistic regression algorithm to predict the style from TF-IDFs of the tokens. We will use all {1,2}-grams we have in the train set. We will perform a 5-fold cross-validation on the train set, and look at the resulting accuracy.\n",
    "\n",
    "Function *get_tfidf_features* passed to the evaluation function calculates a matrix of TD-IDF features for the list of strings. It is typically called twice, first on the train set and then on the test set (in this case, it will be called twice for every cross-validation split). When called on the train set, it calculates the vocabulary and IDFs using the entire train set (this is called fitting). When called on the test set, nothing is learned from the entire test set, but we reuse the vocabulary and IDFs calculated on the train set."
   ]
  },
  {
   "cell_type": "code",
   "execution_count": 11,
   "metadata": {},
   "outputs": [
    {
     "name": "stdout",
     "output_type": "stream",
     "text": [
      "Fold accuracies: [0.9074485264432781, 0.9203897584741371, 0.9114349775784754, 0.9145153189352084, 0.9128708941153121]\n",
      "Mean accuracy: 0.9133318951092823\n"
     ]
    }
   ],
   "source": [
    "accuracies, _ = evaluate_cv(train_dataset, LogisticRegression(random_state=0), feature_fun=get_tfidf_features,\n",
    "                            ngrams=(1, 2))\n",
    "print('Fold accuracies: {}'.format(accuracies))\n",
    "print('Mean accuracy: {}'.format(mean(accuracies)))"
   ]
  },
  {
   "cell_type": "markdown",
   "metadata": {},
   "source": [
    "The accuracy is already decent.\n",
    "\n",
    "## Choosing the ngram range\n",
    "\n",
    "Let's now see how the ngram range affects the accuracy:"
   ]
  },
  {
   "cell_type": "code",
   "execution_count": 12,
   "metadata": {},
   "outputs": [
    {
     "name": "stdout",
     "output_type": "stream",
     "text": [
      "Accuracy for ngrams range (1, 1): 0.6465053840737089\n",
      "Accuracy for ngrams range (1, 2): 0.9133318951092823\n",
      "Accuracy for ngrams range (1, 3): 0.9368364105203252\n",
      "Accuracy for ngrams range (1, 4): 0.9408222931172434\n",
      "Accuracy for ngrams range (2, 2): 0.9172431473823991\n",
      "Accuracy for ngrams range (2, 3): 0.9390617442051217\n",
      "Accuracy for ngrams range (2, 4): 0.9415700273636495\n",
      "Accuracy for ngrams range (3, 3): 0.9395999503298382\n",
      "Accuracy for ngrams range (3, 4): 0.9409591237218957\n",
      "Accuracy for ngrams range (4, 4): 0.9378241642289048\n"
     ]
    }
   ],
   "source": [
    "results = np.zeros((4, 4))\n",
    "for min_r in range(1, 5):\n",
    "    for max_r in range(min_r, 5):\n",
    "        accuracies, _ = evaluate_cv(train_dataset, LogisticRegression(random_state=0), feature_fun=get_tfidf_features,\n",
    "                                    ngrams=(min_r, max_r))\n",
    "        results[min_r-1, max_r-1] = mean(accuracies)\n",
    "        print('Accuracy for ngrams range ({}, {}): {}'.format(min_r, max_r, mean(accuracies)))"
   ]
  },
  {
   "cell_type": "code",
   "execution_count": 13,
   "metadata": {},
   "outputs": [
    {
     "data": {
      "image/png": "[encoded data removed]",
      "text/plain": [
       "<Figure size 288x288 with 2 Axes>"
      ]
     },
     "metadata": {
      "needs_background": "light"
     },
     "output_type": "display_data"
    }
   ],
   "source": [
    "fig, ax = plt.subplots(figsize=(4,4))\n",
    "sns.heatmap(results, annot=True, fmt='.4g', xticklabels=[1,2,3,4], yticklabels=[1,2,3,4])\n",
    "plt.ylabel('Ngram min')\n",
    "plt.xlabel('Ngram max')\n",
    "plt.show()"
   ]
  },
  {
   "cell_type": "markdown",
   "metadata": {},
   "source": [
    "Based on this, we will choose the range (2, 4).\n",
    " \n",
    "Let's calculate the features for our train set and look at the most frequent n-grams:"
   ]
  },
  {
   "cell_type": "code",
   "execution_count": 14,
   "metadata": {},
   "outputs": [
    {
     "name": "stdout",
     "output_type": "stream",
     "text": [
      "Number of features: 24023\n",
      "capword capword: 195178\n",
      "uclett dot: 149610\n",
      "lcword lcword: 137595\n",
      "capword comma: 123392\n",
      "capword lcword: 117591\n",
      "lcword capword: 107530\n",
      "dot capword: 104025\n",
      "lcword lcword lcword: 86618\n",
      "comma uclett: 79797\n",
      "comma uclett dot: 77265\n",
      "capword lcword capword: 77247\n",
      "comma capword: 67072\n",
      "capword comma uclett: 66212\n",
      "capword comma uclett dot: 65550\n",
      "lcword lcword lcword lcword: 63621\n",
      "capword capword capword: 59876\n",
      "capword dot: 57225\n",
      "lcword capword capword: 53528\n",
      "uclett dot capword: 49427\n",
      "capword capword lcword: 47704\n",
      "num dash: 43064\n",
      "dash num: 41986\n",
      "dot uclett: 41836\n",
      "capword lcword capword capword: 40823\n",
      "dot uclett dot: 39402\n",
      "num dash num: 39353\n",
      "uclett dot uclett: 39158\n",
      "dot capword comma: 38233\n",
      "uclett dot uclett dot: 38225\n",
      "capword capword lcword capword: 37638\n",
      "uclett dot capword comma: 35187\n",
      "lcword dot: 33117\n",
      "comma num: 32715\n",
      "dot end: 31556\n",
      "start capword: 30376\n",
      "num dot: 30340\n",
      "capword capword dot: 29581\n",
      "year rpar: 29383\n",
      "num lpar: 29110\n",
      "num comma: 28748\n",
      "lpar year: 28318\n",
      "lpar year rpar: 28144\n",
      "comma lcword: 27949\n",
      "capword lcword lcword: 27160\n",
      "comma uclett dot uclett: 27086\n",
      "capword comma capword: 26302\n",
      "dot num: 25814\n",
      "dot capword capword: 25545\n",
      "quot capword: 25458\n",
      "capword uclett: 24697\n"
     ]
    }
   ],
   "source": [
    "count_vectorizer, _, tfidf_features = get_tfidf_features(train_dataset['string'], ngrams=(2, 4))\n",
    "tfidf_feature_names = count_vectorizer.get_feature_names()\n",
    "print('Number of features: {}'.format(len(tfidf_feature_names)))\n",
    "\n",
    "occurrences = count_vectorizer.fit_transform(train_dataset['string']).toarray().sum(axis=0)\n",
    "indices = np.argsort(occurrences)[::-1]\n",
    "tfidf_feature_names = np.array(tfidf_feature_names)[indices]\n",
    "occurrences = np.array(occurrences)[indices]\n",
    "print('\\n'.join(['{}: {}'.format(p[0], p[1]) for p in list(zip(tfidf_feature_names, occurrences))[:50]]))"
   ]
  },
  {
   "cell_type": "markdown",
   "metadata": {},
   "source": [
    "We can see all types of ngrams. In most cases we can guess where they came from, eg. \"lcword lcword lcword lcword\" is typically a fragment of the title, and \"uclett dot capword comma\" looks like a fragment from the authors' list.\n",
    "\n",
    "We can also check which features are the most correlated with the styles. We will use chi-squared statistic for this:"
   ]
  },
  {
   "cell_type": "code",
   "execution_count": 15,
   "metadata": {},
   "outputs": [
    {
     "name": "stdout",
     "output_type": "stream",
     "text": [
      "\n",
      "Style: acm-sig-proceedings\n",
      "Most correlated bigrams: dot lcword|dot year|rbracket year|rpar comma|rbracket capword\n",
      "Most correlated trigrams: dot year rpar|num rbracket capword|rpar comma num|rbracket capword comma|year rpar comma\n",
      "Most correlated fourgrams: num rbracket capword comma|dot year dot capword|rbracket capword comma uclett|lpar year rpar comma|year rpar comma num\n",
      "\n",
      "Style: american-chemical-society\n",
      "Most correlated bigrams: year comma|capword year|start lpar|semicolon capword|dot semicolon\n",
      "Most correlated trigrams: start lpar num|comma num comma|semicolon capword comma|dot semicolon capword|uclett dot semicolon\n",
      "Most correlated fourgrams: comma uclett dot semicolon|year comma num comma|dot semicolon capword comma|semicolon capword comma uclett|uclett dot semicolon capword\n",
      "\n",
      "Style: american-chemical-society-with-titles\n",
      "Most correlated bigrams: year comma|capword year|start lpar|semicolon capword|dot semicolon\n",
      "Most correlated trigrams: start lpar num|comma num comma|semicolon capword comma|dot semicolon capword|uclett dot semicolon\n",
      "Most correlated fourgrams: year comma num comma|comma uclett dot semicolon|dot semicolon capword comma|semicolon capword comma uclett|uclett dot semicolon capword\n",
      "\n",
      "Style: american-institute-of-physics\n",
      "Most correlated bigrams: start uclett|lcword uclett|start num|rpar end|num uclett\n",
      "Most correlated trigrams: rpar dot end|year rpar end|num uclett dot|start num uclett|capword num comma\n",
      "Most correlated fourgrams: num comma num lpar|comma num lpar year|start num uclett dot|capword capword num comma|capword num comma num\n",
      "\n",
      "Style: american-sociological-association\n",
      "Most correlated bigrams: rpar colon|dot lclett|dot year|quot capword|dot quot\n",
      "Most correlated trigrams: num rpar colon|dot year dot|start capword dot|dot quot capword|year dot quot\n",
      "Most correlated fourgrams: dot quot capword capword|start capword dot year|capword num lpar num|year dot quot capword|dot year dot quot\n",
      "\n",
      "Style: apa\n",
      "Most correlated bigrams: rpar comma|dot comma|rpar dot|dot lpar|comma and\n",
      "Most correlated trigrams: dot lpar year|comma and capword|dot comma and|rpar dot capword|uclett dot lpar\n",
      "Most correlated fourgrams: uclett dot comma and|comma uclett dot lpar|num rpar comma num|uclett dot lpar year|year rpar dot capword\n",
      "\n",
      "Style: bmc-bioinformatics\n",
      "Most correlated bigrams: year colon|uclett comma|num colon|ucword colon|uclett colon\n",
      "Most correlated trigrams: ucword colon capword|uclett colon capword|capword uclett colon|capword ucword colon|comma num colon\n",
      "Most correlated fourgrams: comma capword uclett colon|capword uclett colon capword|capword ucword colon capword|comma num colon num|year comma num colon\n",
      "\n",
      "Style: chicago-author-date\n",
      "Most correlated bigrams: start quot|rpar lpar|quot year|quot capword|dot quot\n",
      "Most correlated trigrams: num rpar lpar|rpar lpar capword|quot year dot|dot quot capword|year dot quot\n",
      "Most correlated fourgrams: quot year dot capword|dot quot year dot|year dot quot capword|capword num lpar num|dot year dot quot\n",
      "\n",
      "Style: elsevier-without-titles\n",
      "Most correlated bigrams: lbracket num|num rbracket|start lbracket|rbracket uclett|rpar num\n",
      "Most correlated trigrams: capword num lpar|dot capword comma|year rpar num|rpar num dot|rpar num end\n",
      "Most correlated fourgrams: lpar year rpar num|year rpar num dot|year rpar num end|rpar num dot end|capword num lpar year\n",
      "\n",
      "Style: elsevier-with-titles\n",
      "Most correlated bigrams: lbracket num|num rbracket|start lbracket|rbracket uclett|rpar num\n",
      "Most correlated trigrams: dot capword comma|lcword comma capword|year rpar num|dot num lpar|rpar num dash\n",
      "Most correlated fourgrams: lcword lcword comma capword|dot num lpar year|capword dot num lpar|year rpar num dash|rpar num dash num\n",
      "\n",
      "Style: harvard3\n",
      "Most correlated bigrams: lcword dot|dot comma|rpar comma|comma year|dot and\n",
      "Most correlated trigrams: dot and capword|uclett dot and|comma year dot|rpar comma lcword|dot comma year\n",
      "Most correlated fourgrams: uclett dot comma year|num rpar comma lcword|rpar comma lcword dot|comma year dot capword|dot comma year dot\n",
      "\n",
      "Style: ieee\n",
      "Most correlated bigrams: num comma|dot num|year end|comma lcword|comma quot\n",
      "Most correlated trigrams: num comma year|comma lcword dot|lcword dot num|capword comma quot|comma quot capword\n",
      "Most correlated fourgrams: comma quot capword lcword|capword comma quot capword|comma lcword dot num|dot num comma lcword|lcword dot num comma\n",
      "\n",
      "Style: iso690-author-date-en\n",
      "Most correlated bigrams: start ucword|comma lclett|ucword comma|other num|dot other\n",
      "Most correlated trigrams: capword dot other|lclett dot other|comma year comma|other num comma|dot other num\n",
      "Most correlated fourgrams: dot other num dash|comma lclett dot other|comma year comma capword|ucword comma capword comma|dot other num comma\n",
      "\n",
      "Style: modern-language-association\n",
      "Most correlated bigrams: start quot|colon lclett|rpar colon|quot capword|dot quot\n",
      "Most correlated trigrams: lcword dot quot|capword dot quot|num dot num|capword num dot|year rpar colon\n",
      "Most correlated fourgrams: capword capword num dot|capword num dot num|num dot num lpar|year rpar colon num|lpar year rpar colon\n",
      "\n",
      "Style: springer-basic-author-date\n",
      "Most correlated bigrams: uclett comma|ucword lpar|num colon|rpar capword|uclett lpar\n",
      "Most correlated trigrams: capword uclett lpar|rpar capword lcword|uclett lpar year|capword num colon|year rpar capword\n",
      "Most correlated fourgrams: capword uclett lpar year|uclett lpar year rpar|year rpar capword lcword|capword num colon num|lpar year rpar capword\n",
      "\n",
      "Style: springer-lecture-notes-in-computer-science\n",
      "Most correlated bigrams: start dot|colon capword|rpar end|dot comma|dot colon\n",
      "Most correlated trigrams: comma capword comma|dot comma capword|dash num lpar|dot colon capword|uclett dot colon\n",
      "Most correlated fourgrams: dot comma capword comma|comma uclett dot colon|num dash num lpar|dash num lpar year|uclett dot colon capword\n",
      "\n",
      "Style: vancouver\n",
      "Most correlated bigrams: num semicolon|year semicolon|capword semicolon|semicolon num|semicolon year\n",
      "Most correlated trigrams: semicolon year capword|year semicolon num|capword semicolon year|semicolon year semicolon|semicolon num lpar\n",
      "Most correlated fourgrams: semicolon year capword num|capword semicolon year semicolon|year semicolon num lpar|semicolon year semicolon num|semicolon num lpar num\n"
     ]
    }
   ],
   "source": [
    "for style in STYLES:\n",
    "    print()\n",
    "    print('Style: {}'.format(style))\n",
    "    features_chi2 = chi2(tfidf_features, train_dataset['style'] == style)[0]\n",
    "    indices = np.argsort(features_chi2)\n",
    "    feature_names = np.array(count_vectorizer.get_feature_names())[indices]\n",
    "    bigrams = [v for v in feature_names if len(v.split(' '))  == 2]\n",
    "    trigrams = [v for v in feature_names if len(v.split(' '))  == 3]\n",
    "    fourgrams = [v for v in feature_names if len(v.split(' '))  == 4]\n",
    "    print('Most correlated bigrams: {}'.format('|'.join(bigrams[-5:])))\n",
    "    print('Most correlated trigrams: {}'.format('|'.join(trigrams[-5:])))\n",
    "    print('Most correlated fourgrams: {}'.format('|'.join(fourgrams[-5:])))"
   ]
  },
  {
   "cell_type": "markdown",
   "metadata": {},
   "source": [
    "## Feature selection\n",
    "\n",
    "So far we used all n-grams present in the training set. Some of them are very rare and don't provide a lot of information for the training algorithm. Let's try using only n most frequent ngrams for different values of n, and see how it affects the accuracy."
   ]
  },
  {
   "cell_type": "code",
   "execution_count": 16,
   "metadata": {
    "scrolled": false
   },
   "outputs": [
    {
     "name": "stdout",
     "output_type": "stream",
     "text": [
      "Accuracy for 100 features: 0.8716815163000708\n",
      "Accuracy for 200 features: 0.9004707079427142\n",
      "Accuracy for 300 features: 0.9138195866316675\n",
      "Accuracy for 400 features: 0.9215889868275357\n",
      "Accuracy for 500 features: 0.923890963553372\n",
      "Accuracy for 600 features: 0.9263781970616743\n",
      "Accuracy for 700 features: 0.9284868695535926\n",
      "Accuracy for 800 features: 0.9310421563829615\n",
      "Accuracy for 900 features: 0.9326357957445073\n",
      "Accuracy for 1000 features: 0.9333000762445869\n",
      "Accuracy for 1100 features: 0.9339281978155156\n",
      "Accuracy for 1200 features: 0.9349407862777173\n",
      "Accuracy for 1300 features: 0.9362189738610232\n",
      "Accuracy for 1400 features: 0.9371947919666492\n",
      "Accuracy for 1500 features: 0.9376187781969534\n",
      "Accuracy for 1600 features: 0.9380792907436738\n",
      "Accuracy for 1700 features: 0.9385450976738527\n",
      "Accuracy for 1800 features: 0.9388448891423313\n",
      "Accuracy for 1900 features: 0.9391445614267183\n",
      "Accuracy for 2000 features: 0.9395482048053834\n",
      "Accuracy for 2100 features: 0.9397363886661683\n",
      "Accuracy for 2200 features: 0.9400016439904779\n",
      "Accuracy for 2300 features: 0.9400588205141823\n",
      "Accuracy for 2400 features: 0.9402181200249371\n",
      "Accuracy for 2500 features: 0.9404426895382482\n",
      "Accuracy for 2600 features: 0.9405428356178821\n",
      "Accuracy for 2700 features: 0.9406038893013322\n",
      "Accuracy for 2800 features: 0.9404843436631182\n",
      "Accuracy for 2900 features: 0.9406066454663407\n",
      "Accuracy for 3000 features: 0.9407089335178193\n",
      "Accuracy for 3100 features: 0.9407091729149638\n",
      "Accuracy for 3200 features: 0.9407292594888476\n",
      "Accuracy for 3300 features: 0.9408282946714561\n",
      "Accuracy for 3400 features: 0.9409887716366113\n",
      "Accuracy for 3500 features: 0.9410293901166867\n",
      "Accuracy for 3600 features: 0.9410482674324584\n",
      "Accuracy for 3700 features: 0.9413089044079064\n",
      "Accuracy for 3800 features: 0.9413290443820544\n",
      "Accuracy for 3900 features: 0.9413902498268556\n",
      "Accuracy for 4000 features: 0.9414105834637779\n",
      "Accuracy for 4100 features: 0.9414496363903562\n",
      "Accuracy for 4200 features: 0.9414896134435317\n",
      "Accuracy for 4300 features: 0.9416899784249394\n",
      "Accuracy for 4400 features: 0.9418524913349586\n",
      "Accuracy for 4500 features: 0.941851458749563\n",
      "Accuracy for 4600 features: 0.9418922352557542\n",
      "Accuracy for 4700 features: 0.9419340374549947\n",
      "Accuracy for 4800 features: 0.9420148569441551\n",
      "Accuracy for 4900 features: 0.9421366195145114\n",
      "Accuracy for 5000 features: 0.9420965509925954\n"
     ]
    }
   ],
   "source": [
    "nfeatures_results = []\n",
    "nfeatures_values = range(100, 5100, 100)\n",
    "for n in nfeatures_values:\n",
    "    accuracies, _ = evaluate_cv(train_dataset, LogisticRegression(random_state=0), feature_fun=get_tfidf_features,\n",
    "                                nfeatures=n, ngrams=(2, 4))\n",
    "    nfeatures_results.append(mean(accuracies))\n",
    "    print('Accuracy for {} features: {}'.format(n, mean(accuracies)))"
   ]
  },
  {
   "cell_type": "code",
   "execution_count": 17,
   "metadata": {},
   "outputs": [
    {
     "data": {
      "image/png": "[encoded data removed]",
      "text/plain": [
       "<Figure size 432x288 with 1 Axes>"
      ]
     },
     "metadata": {
      "needs_background": "light"
     },
     "output_type": "display_data"
    }
   ],
   "source": [
    "plt.plot(nfeatures_values, nfeatures_results)\n",
    "plt.xticks(list(range(200, 5100, 600)))\n",
    "plt.xlabel('Number of features')\n",
    "plt.ylabel('Accuracy')\n",
    "plt.show()"
   ]
  },
  {
   "cell_type": "markdown",
   "metadata": {},
   "source": [
    "It seems that the more features we have the higher accuracy.\n",
    "\n",
    "Choosing the most frequent features might not be optimal. Some frequent features will be useless because they don't provide any information about the target style. We can perform feature selection to choose a number of most useful features.\n",
    "\n",
    "By passing *feature_selector* to the evaluation function we make sure the best features are selected in the training phase. In this case, the selection is done using feature importance scores from Random Forest.\n",
    "\n",
    "Similarly as before, we will test this with varying number of chosen features:"
   ]
  },
  {
   "cell_type": "code",
   "execution_count": 18,
   "metadata": {},
   "outputs": [
    {
     "name": "stdout",
     "output_type": "stream",
     "text": [
      "Accuracy for 100 features: 0.8201437778590942\n",
      "Accuracy for 200 features: 0.8857741114242094\n",
      "Accuracy for 300 features: 0.9093692345586915\n",
      "Accuracy for 400 features: 0.9228769901084384\n",
      "Accuracy for 500 features: 0.9277330578022498\n",
      "Accuracy for 600 features: 0.9300710001318375\n",
      "Accuracy for 700 features: 0.9313533419008833\n",
      "Accuracy for 800 features: 0.9314323685293047\n",
      "Accuracy for 900 features: 0.9312910648826958\n",
      "Accuracy for 1000 features: 0.9315976747898136\n",
      "Accuracy for 1100 features: 0.9320240045760444\n",
      "Accuracy for 1200 features: 0.9320891211607066\n",
      "Accuracy for 1300 features: 0.9324098255961608\n",
      "Accuracy for 1400 features: 0.9323671737490058\n",
      "Accuracy for 1500 features: 0.9323473628365067\n",
      "Accuracy for 1600 features: 0.9326710048638741\n",
      "Accuracy for 1700 features: 0.9329877585438949\n",
      "Accuracy for 1800 features: 0.9334990522374937\n",
      "Accuracy for 1900 features: 0.9333970276115302\n",
      "Accuracy for 2000 features: 0.9333133736457315\n",
      "Accuracy for 2100 features: 0.9333593133708339\n",
      "Accuracy for 2200 features: 0.933396511779453\n",
      "Accuracy for 2300 features: 0.9335371548709466\n",
      "Accuracy for 2400 features: 0.9337195310265213\n",
      "Accuracy for 2500 features: 0.9337004040699267\n",
      "Accuracy for 2600 features: 0.9338622692882813\n",
      "Accuracy for 2700 features: 0.9338842567420758\n",
      "Accuracy for 2800 features: 0.9340445756811152\n",
      "Accuracy for 2900 features: 0.9343294953541297\n",
      "Accuracy for 3000 features: 0.9343105297749832\n",
      "Accuracy for 3100 features: 0.9342657615331766\n",
      "Accuracy for 3200 features: 0.9343866558090177\n",
      "Accuracy for 3300 features: 0.9346285664564971\n",
      "Accuracy for 3400 features: 0.9346694477345062\n",
      "Accuracy for 3500 features: 0.934873542574837\n",
      "Accuracy for 3600 features: 0.9349762644597825\n",
      "Accuracy for 3700 features: 0.9348156161654342\n",
      "Accuracy for 3800 features: 0.9349573839386452\n",
      "Accuracy for 3900 features: 0.9349163609969968\n",
      "Accuracy for 4000 features: 0.9349559988908116\n",
      "Accuracy for 4100 features: 0.9350756807031749\n",
      "Accuracy for 4200 features: 0.9351968583062946\n",
      "Accuracy for 4300 features: 0.9351972425724442\n",
      "Accuracy for 4400 features: 0.9350770054583981\n",
      "Accuracy for 4500 features: 0.9351370435465104\n",
      "Accuracy for 4600 features: 0.9350973918680034\n",
      "Accuracy for 4700 features: 0.9351394379249172\n",
      "Accuracy for 4800 features: 0.9349962526725796\n",
      "Accuracy for 4900 features: 0.9349548053675946\n",
      "Accuracy for 5000 features: 0.9346924624301729\n"
     ]
    }
   ],
   "source": [
    "nfeatures_results_rf = []\n",
    "nfeatures_values = range(100, 5100, 100)\n",
    "for n in nfeatures_values:\n",
    "    accuracies, _ = evaluate_cv(train_dataset, LogisticRegression(random_state=0),\n",
    "                                feature_fun=get_tfidf_features, feature_selector=select_features_rf,\n",
    "                                nfeatures=n, ngrams=(2, 4))\n",
    "    nfeatures_results_rf.append(mean(accuracies))\n",
    "    print('Accuracy for {} features: {}'.format(n, mean(accuracies)))"
   ]
  },
  {
   "cell_type": "code",
   "execution_count": 19,
   "metadata": {},
   "outputs": [
    {
     "data": {
      "image/png": "[encoded data removed]",
      "text/plain": [
       "<Figure size 432x288 with 1 Axes>"
      ]
     },
     "metadata": {
      "needs_background": "light"
     },
     "output_type": "display_data"
    }
   ],
   "source": [
    "plt.plot(nfeatures_values, nfeatures_results)\n",
    "plt.plot(nfeatures_values, nfeatures_results_rf)\n",
    "plt.legend(['without selection', 'with selection (RF)'], bbox_to_anchor=(0.9, 1.2), ncol=3)\n",
    "plt.xticks(list(range(200, 5100, 600)))\n",
    "plt.xlabel('Number of features')\n",
    "plt.ylabel('Accuracy')\n",
    "plt.show()"
   ]
  },
  {
   "cell_type": "markdown",
   "metadata": {},
   "source": [
    "We can see that in a small range RF selection results in slightly better performance, but as we increase the number of features, no selection outperforms RF-based selection.\n",
    "\n",
    "We will also try a simpler selection method, based on chi-squared correlations:"
   ]
  },
  {
   "cell_type": "code",
   "execution_count": 20,
   "metadata": {},
   "outputs": [
    {
     "name": "stdout",
     "output_type": "stream",
     "text": [
      "Accuracy for 100 features: 0.7935188732093367\n",
      "Accuracy for 200 features: 0.8392004953352691\n",
      "Accuracy for 300 features: 0.8667627112876439\n",
      "Accuracy for 400 features: 0.8844353849757735\n",
      "Accuracy for 500 features: 0.8923603908340263\n",
      "Accuracy for 600 features: 0.90092517973674\n",
      "Accuracy for 700 features: 0.9232960510369541\n",
      "Accuracy for 800 features: 0.9274317786777477\n",
      "Accuracy for 900 features: 0.9299651857768189\n",
      "Accuracy for 1000 features: 0.9343727305777104\n",
      "Accuracy for 1100 features: 0.9356028620412625\n",
      "Accuracy for 1200 features: 0.9363385326945943\n",
      "Accuracy for 1300 features: 0.9371505633973355\n",
      "Accuracy for 1400 features: 0.9381590742541179\n",
      "Accuracy for 1500 features: 0.9387364825272259\n",
      "Accuracy for 1600 features: 0.938937860190539\n",
      "Accuracy for 1700 features: 0.9396539594744828\n",
      "Accuracy for 1800 features: 0.9397551503753819\n",
      "Accuracy for 1900 features: 0.9396299028327373\n",
      "Accuracy for 2000 features: 0.9399123943314424\n",
      "Accuracy for 2100 features: 0.9399523883746757\n",
      "Accuracy for 2200 features: 0.9398339406240696\n",
      "Accuracy for 2300 features: 0.9400133599135488\n",
      "Accuracy for 2400 features: 0.9403410207643013\n",
      "Accuracy for 2500 features: 0.9404651157639108\n",
      "Accuracy for 2600 features: 0.9406509087855761\n",
      "Accuracy for 2700 features: 0.9410728236897714\n",
      "Accuracy for 2800 features: 0.9410299913369528\n",
      "Accuracy for 2900 features: 0.9410307014593856\n",
      "Accuracy for 3000 features: 0.9411537011491714\n",
      "Accuracy for 3100 features: 0.9415377569436654\n",
      "Accuracy for 3200 features: 0.9416370849236829\n",
      "Accuracy for 3300 features: 0.9416371173549758\n",
      "Accuracy for 3400 features: 0.9416579762941056\n",
      "Accuracy for 3500 features: 0.9417155323680177\n",
      "Accuracy for 3600 features: 0.9417167236071105\n",
      "Accuracy for 3700 features: 0.9415942034851618\n",
      "Accuracy for 3800 features: 0.9416748224192018\n",
      "Accuracy for 3900 features: 0.9415339316370882\n",
      "Accuracy for 4000 features: 0.9416525799428147\n",
      "Accuracy for 4100 features: 0.941936358865295\n",
      "Accuracy for 4200 features: 0.9419562384733271\n",
      "Accuracy for 4300 features: 0.9419737734162363\n",
      "Accuracy for 4400 features: 0.9417713633134943\n",
      "Accuracy for 4500 features: 0.9417909271629548\n",
      "Accuracy for 4600 features: 0.9419539202683924\n",
      "Accuracy for 4700 features: 0.942097654851308\n",
      "Accuracy for 4800 features: 0.9423626097123146\n",
      "Accuracy for 4900 features: 0.9423421674706273\n",
      "Accuracy for 5000 features: 0.9424237453943749\n"
     ]
    }
   ],
   "source": [
    "nfeatures_results_chi2 = []\n",
    "nfeatures_values = range(100, 5100, 100)\n",
    "for n in nfeatures_values:\n",
    "    accuracies, _ = evaluate_cv(train_dataset, LogisticRegression(random_state=0),\n",
    "                                feature_fun=get_tfidf_features, feature_selector=select_features_chi2,\n",
    "                                nfeatures=n, ngrams=(2, 4))\n",
    "    nfeatures_results_chi2.append(mean(accuracies))\n",
    "    print('Accuracy for {} features: {}'.format(n, mean(accuracies)))"
   ]
  },
  {
   "cell_type": "code",
   "execution_count": 21,
   "metadata": {},
   "outputs": [
    {
     "data": {
      "image/png": "[encoded data removed]",
      "text/plain": [
       "<Figure size 432x288 with 1 Axes>"
      ]
     },
     "metadata": {
      "needs_background": "light"
     },
     "output_type": "display_data"
    }
   ],
   "source": [
    "plt.plot(nfeatures_values, nfeatures_results)\n",
    "plt.plot(nfeatures_values, nfeatures_results_rf)\n",
    "plt.plot(nfeatures_values, nfeatures_results_chi2)\n",
    "plt.legend(['without selection', 'with selection (RF)', 'with selection (Chi^2)'], bbox_to_anchor=(1.1, 1.2), ncol=3)\n",
    "plt.xticks(list(range(200, 5100, 600)))\n",
    "plt.xlabel('Number of features')\n",
    "plt.ylabel('Accuracy')\n",
    "plt.show()"
   ]
  },
  {
   "cell_type": "markdown",
   "metadata": {},
   "source": [
    "The best accuracy was given by chi-squared selection with 5000 features. We will use that from now on.\n",
    "\n",
    "## Final model"
   ]
  },
  {
   "cell_type": "code",
   "execution_count": 22,
   "metadata": {},
   "outputs": [
    {
     "name": "stdout",
     "output_type": "stream",
     "text": [
      "Fold accuracies: [0.9428744448930158, 0.9450606406136622, 0.9407867916836526, 0.9425414364640884, 0.9408554133174556]\n",
      "Mean accuracy: 0.9424237453943749\n"
     ]
    }
   ],
   "source": [
    "accuracies, _ = evaluate_cv(train_dataset, LogisticRegression(random_state=0),\n",
    "                            feature_fun=get_tfidf_features, feature_selector=select_features_chi2,\n",
    "                            nfeatures=5000, ngrams=(2, 4))\n",
    "print('Fold accuracies: {}'.format(accuracies))\n",
    "print('Mean accuracy: {}'.format(mean(accuracies)))"
   ]
  },
  {
   "cell_type": "markdown",
   "metadata": {},
   "source": [
    "Let's also add one more feature (string length) to our feature representation."
   ]
  },
  {
   "cell_type": "code",
   "execution_count": 23,
   "metadata": {},
   "outputs": [
    {
     "name": "stdout",
     "output_type": "stream",
     "text": [
      "Fold accuracies: [0.9428744448930158, 0.9455789364569296, 0.9401752955564615, 0.942340532395781, 0.9422447156891932]\n",
      "Mean accuracy: 0.9426427849982763\n"
     ]
    }
   ],
   "source": [
    "accuracies, dataset_results_cv = evaluate_cv(train_dataset, LogisticRegression(random_state=0),\n",
    "                                             feature_fun=get_features, feature_selector=select_features_chi2,\n",
    "                                             nfeatures=5000, ngrams=(2, 4))\n",
    "print('Fold accuracies: {}'.format(accuracies))\n",
    "print('Mean accuracy: {}'.format(mean(accuracies)))"
   ]
  },
  {
   "cell_type": "markdown",
   "metadata": {},
   "source": [
    "Let's see the confusion matrix:"
   ]
  },
  {
   "cell_type": "code",
   "execution_count": 24,
   "metadata": {},
   "outputs": [
    {
     "data": {
      "image/png": "[encoded data removed]",
      "text/plain": [
       "<Figure size 720x720 with 2 Axes>"
      ]
     },
     "metadata": {
      "needs_background": "light"
     },
     "output_type": "display_data"
    }
   ],
   "source": [
    "matrix = confusion_matrix(dataset_results_cv['style_true'], dataset_results_cv['style_pred'])\n",
    "\n",
    "fig, ax = plt.subplots(figsize=(10,10))\n",
    "sns.heatmap(matrix, annot=True, fmt='d', xticklabels=STYLES, yticklabels=STYLES)\n",
    "plt.ylabel('Actual')\n",
    "plt.xlabel('Predicted')\n",
    "plt.show()"
   ]
  },
  {
   "cell_type": "markdown",
   "metadata": {},
   "source": [
    "Everything looks pretty good apart from the pair (chicago-author-date, american-sociological-association), which seem to be confused a lot by the classifier.\n",
    "\n",
    "This function will show the reference string pairs from the two given  styles for all DOI that were mislabelled."
   ]
  },
  {
   "cell_type": "code",
   "execution_count": 25,
   "metadata": {},
   "outputs": [],
   "source": [
    "def get_diff(actual, predicted):\n",
    "    diff_df = dataset_results_cv.loc[dataset_results_cv['style_true'] == actual]\n",
    "    diff_dois = diff_df.loc[diff_df['style_pred'] == predicted]['doi']\n",
    "    diff_df = dataset_results_cv.loc[dataset_results_cv['doi'].isin(diff_dois)]\n",
    "    diff_df = diff_df.loc[diff_df['style_true'].isin([actual, predicted])].sort_values(by='doi')\n",
    "    strings = [re.sub('^\\(1\\)', '', re.sub('^\\[1\\]', '', re.sub('^1', '', re.sub('\\.$', '', s)))).strip()\n",
    "               for s in diff_df['string']]\n",
    "    strings_0 = [s for i, s in enumerate(strings) if i%2 == 0]\n",
    "    strings_1 = [s for i, s in enumerate(strings) if i%2 == 1]\n",
    "    return list(zip(strings_0, strings_1))"
   ]
  },
  {
   "cell_type": "code",
   "execution_count": 26,
   "metadata": {},
   "outputs": [
    {
     "data": {
      "text/plain": [
       "[('Runne, Uee. 1977. “Cutaneous Neural Proliferation in Highly Pruritic Lesions of Chronic Prurigo.” Archives of Dermatology 113 (6) : 787',\n",
       "  'Runne, Uee. 1977. “Cutaneous Neural Proliferation in Highly Pruritic Lesions of Chronic Prurigo.” Archives of Dermatology 113(6):787'),\n",
       " ('Silver, Bruce. 1979. “Double Contrast Gastrointestinal Radiology With Endoscopic Correlation.” JAMA: The Journal of the American Medical Association 242 (17) : 1917',\n",
       "  'Silver, Bruce. 1979. “Double Contrast Gastrointestinal Radiology With Endoscopic Correlation.” JAMA: The Journal of the American Medical Association 242(17):1917'),\n",
       " ('Greenfield, Sheldon. 1992. “Specialists or Generalists? The Medical Outcomes Study-Reply.” JAMA: The Journal of the American Medical Association 268(12):1538',\n",
       "  'Greenfield, Sheldon. 1992. “Specialists or Generalists? The Medical Outcomes Study-Reply.” JAMA: The Journal of the American Medical Association 268 (12) : 1538'),\n",
       " ('Kaiser, Harry M. 2003. “Distribution of Benefits and Costs of Commodity Checkoff Programs: Introductory Remarks.” Agribusiness 19 (3): 273–275',\n",
       "  'Kaiser, Harry M. 2003. “Distribution of Benefits and Costs of Commodity Checkoff Programs: Introductory Remarks.” Agribusiness 19(3):273–75'),\n",
       " ('Abraham, Otto. 1919. “Zur Akustik Des Knalles.” Annalen Der Physik 365 (17): 55–76',\n",
       "  'Abraham, Otto. 1919. “Zur Akustik Des Knalles.” Annalen der Physik 365(17):55–76'),\n",
       " ('Bradlow, Eric T. 2005. “Current Issues and a ‘wish List’ for Conjoint Analysis.” Applied Stochastic Models in Business and Industry 21 (4-5): 319–323',\n",
       "  'Bradlow, Eric T. 2005. “Current Issues and a ‘wish List’ for Conjoint Analysis.” Applied Stochastic Models in Business and Industry 21(4-5):319–23'),\n",
       " ('Marx, Steffen. 2011. “Versuch Macht Klug.” Bautechnik 88(11):739–739',\n",
       "  'Marx, Steffen. 2011. “Versuch Macht Klug.” Bautechnik 88 (11) : 739–739'),\n",
       " ('Sheppard, John D., and David G. Cooper. 1990. “Development of Computerized Feedback Control for the Continuous Phasing ofBacillus Subtilis.” Biotechnology and Bioengineering 36 (5) : 539–545',\n",
       "  'Sheppard, John D., and David G. Cooper. 1990. “Development of Computerized Feedback Control for the Continuous Phasing ofBacillus Subtilis.” Biotechnology and Bioengineering 36(5):539–45'),\n",
       " ('Jagjivan, B., D. J. Moore, and D. R. Naik. 1988. “Relative Merits of Ultrasound and Intravenous Urography in the Investigation of the Urinary Tract.” British Journal of Surgery 75(3):246–48',\n",
       "  'Jagjivan, B., D. J. Moore, and D. R. Naik. 1988. “Relative Merits of Ultrasound and Intravenous Urography in the Investigation of the Urinary Tract.” British Journal of Surgery 75 (3) : 246–248'),\n",
       " ('Hofmann, A. W. 1887. “General-Versammlung Vom 16. 1887.” Berichte Der Deutschen Chemischen Gesellschaft 20 (2) : 3425–3431',\n",
       "  'Hofmann, A. W. 1887. “General-Versammlung Vom 16. 1887.” Berichte der deutschen chemischen Gesellschaft 20(2):3425–31'),\n",
       " ('Borsche, W., and G. Heimbürger. 1915. “Katalytische Reduktion Organischer Halogenverbindungen. (Nachtrag.).” Berichte der deutschen chemischen Gesellschaft 48(1):850–850',\n",
       "  'Borsche, W., and G. Heimbürger. 1915. “Katalytische Reduktion Organischer Halogenverbindungen. (Nachtrag.).” Berichte Der Deutschen Chemischen Gesellschaft 48 (1) : 850–850'),\n",
       " ('KANDIYOTI, R., E. MCLAUGHLIN, and J. F. T. PITTMAN. 1972. “ChemInform Abstract: WAERMELEITFAEHIGKEIT VON N-PARAFFIN-KOHLENWASSERSTOFFEN IN FLUESSIGEM ZUSTAND.” Chemischer Informationsdienst 3(24):no–no',\n",
       "  'KANDIYOTI, R., E. MCLAUGHLIN, and J. F. T. PITTMAN. 1972. “ChemInform Abstract: WAERMELEITFAEHIGKEIT VON N-PARAFFIN-KOHLENWASSERSTOFFEN IN FLUESSIGEM ZUSTAND.” Chemischer Informationsdienst 3 (24) : no–no. Portico'),\n",
       " ('CLESSE, FRANCOISE, and HERVE QUINIOU. 1973. “ChemInform Abstract: ORGANOSCHWEFELVERBINDUNGEN 13. MITT. RK. PRIMAERER ARYLAMINE MIT AROYLDITHIOESSIGSAEUREN, IHREN MONO- UND DIMETHYL-DERIVATEN.” Chemischer Informationsdienst 4 (20) : no–no. Portico',\n",
       "  'CLESSE, FRANCOISE, and HERVE QUINIOU. 1973. “ChemInform Abstract: ORGANOSCHWEFELVERBINDUNGEN 13. MITT. RK. PRIMAERER ARYLAMINE MIT AROYLDITHIOESSIGSAEUREN, IHREN MONO- UND DIMETHYL-DERIVATEN.” Chemischer Informationsdienst 4(20):no–no'),\n",
       " ('KUMAR, V. B. MOHAN, and P. K. BHATTACHARYA. 1975. “ChemInform Abstract: FORMATION OF SCHIFF BASE COMPLEXES PART 2, CU(II) AND NI(II) COMPLEXES OF SCHIFF BASES DERIVED FROM 2-HYDROXYBENZOPHENONE.” Chemischer Informationsdienst 6 (52) : no–no. Portico',\n",
       "  'KUMAR, V. B. MOHAN, and P. K. BHATTACHARYA. 1975. “ChemInform Abstract: FORMATION OF SCHIFF BASE COMPLEXES PART 2, CU(II) AND NI(II) COMPLEXES OF SCHIFF BASES DERIVED FROM 2-HYDROXYBENZOPHENONE.” Chemischer Informationsdienst 6(52):no–no'),\n",
       " ('STRANKS, D. R., and N. VANDERHOEK. 1977. “ChemInform Abstract: OXALATE-AQUO LIGAND INTERCHANGE REACTIONS OF AQUOBIS(ETHYLENEDIAMINE)COBALT(III) IONS. PRESSURE EFFECTS AND MECHANISMS.” Chemischer Informationsdienst 8 (4) : no–no. Portico',\n",
       "  'STRANKS, D. R., and N. VANDERHOEK. 1977. “ChemInform Abstract: OXALATE-AQUO LIGAND INTERCHANGE REACTIONS OF AQUOBIS(ETHYLENEDIAMINE)COBALT(III) IONS. PRESSURE EFFECTS AND MECHANISMS.” Chemischer Informationsdienst 8(4):no–no'),\n",
       " ...\n",   
       " ('940. “Insect Questions and Answers.”',\n",
       "  '940. “Insect Questions and Answers.”'),\n",
       " ('Pitts, Joseph W. 1966. “Galvanic Corrosion of Metals in Cementing Materials\\u202f: .”',\n",
       "  'Pitts, Joseph W. 1966. “Galvanic Corrosion of Metals in Cementing Materials\\u202f: .”'),\n",
       " ('Hansen, André Wang. 1989. “Sølvklar Tåge - i Spejlet Bag Spejlet.” Passage - Tidsskrift for litteratur og kritik 4(7)',\n",
       "  'Hansen, André Wang. 1989. “Sølvklar Tåge - i Spejlet Bag Spejlet.” Passage - Tidsskrift for Litteratur Og Kritik 4 (7)'),\n",
       " ('Thériault, Yvon. 1962. “Les Patriotes Aux Bermudes En 1838.” Revue d’histoire de l’Amérique française 16(3):436',\n",
       "  'Thériault, Yvon. 1962. “Les Patriotes Aux Bermudes En 1838.” Revue D’histoire de l’Amérique Française 16 (3): 436'),\n",
       " ('Matthews, Miriam, Coreen Farris, Margaret Tankard, and Michael Dunbar. 2018. “Needs of Male Sexual Assault Victims in the U.S. Armed Forces.”',\n",
       "  'Matthews, Miriam, Coreen Farris, Margaret Tankard, and Michael Dunbar. 2018. “Needs of Male Sexual Assault Victims in the U.S. Armed Forces.”'),\n",
       " ('Köln, OLG. 2018. “Gewinnabschöpfung Bei Unzulässig Überhöhten Schadenspauschalen.” JurPC 9–9',\n",
       "  'Köln, OLG. 2018. “Gewinnabschöpfung Bei Unzulässig Überhöhten Schadenspauschalen.” JurPC: 9–9'),\n",
       " ('Editor, Editor. 1982. “Eigil Reimers; Body Composition, Mortality and Population Regulation of Svalbard Reindeer.” Rangifer 2(2):48',\n",
       "  'Editor, Editor. 1982. “Eigil Reimers; Body Composition, Mortality and Population Regulation of Svalbard Reindeer.” Rangifer 2 (2) : 48'),\n",
       " ('Dawson, Jeremy, and Michael West. 2012. “A Closer Look at How We Feel.” Nursing Standard 26 (43) : 62–63',\n",
       "  'Dawson, Jeremy, and Michael West. 2012. “A Closer Look at How We Feel.” Nursing Standard 26(43):62–63'),\n",
       " ('Gurovich, L.A., L.M. Vergara, and Y. Ton. 2006. “Rrigation Scheduling of Avocado Using Phytomonitoring Techniques.” Ciencia e Investigación Agraria 33 (2) : 97–104',\n",
       "  'Gurovich, L. A., L. M. Vergara, and Y. Ton. 2006. “Rrigation Scheduling of Avocado Using Phytomonitoring Techniques.” Ciencia e investigación agraria 33(2):97–104'),\n",
       " ('Fauser, Markus. 2004. “Wissen Als Unterhaltung” edited by Richard van Dülmen and Sina Rauschenbach. Macht des Wissens',\n",
       "  'Fauser, Markus. 2004. “Wissen Als Unterhaltung.” Edited by Richard van Dülmen and Sina Rauschenbach. Macht Des Wissens'),\n",
       " ('Afanasyeva, Olga. 2014. “Temporal and Modal Nominal Constructions in Chinese.” Journal of Language and Literature 5 (3) : 100–105',\n",
       "  'Afanasyeva, Olga. 2014. “Temporal and Modal Nominal Constructions in Chinese.” Journal of Language and Literature 5(3):100–105'),\n",
       " ('YANAGISAWA, Ken, Naoyuki SATO, Teruo TACHIBANA, and Koomi KANAI. 1956. “A NEW ANTIBIOTIC AGAINST TUBERCLE BACILLI (HOMOMYCIN).” Japanese Journal of Medical Science and Biology 9(3):129–32',\n",
       "  'YANAGISAWA, Ken, Naoyuki SATO, Teruo TACHIBANA, and Koomi KANAI. 1956. “A NEW ANTIBIOTIC AGAINST TUBERCLE BACILLI (HOMOMYCIN).” Japanese Journal of Medical Science and Biology 9 (3): 129–132')]"
      ]
     },
     "execution_count": 26,
     "metadata": {},
     "output_type": "execute_result"
    }
   ],
   "source": [
    "get_diff('chicago-author-date', 'american-sociological-association')"
   ]
  },
  {
   "cell_type": "markdown",
   "metadata": {},
   "source": [
    "In a lot of cases the reference strings are very similar, or identical. No wonder the classifier has problems differentiating between the styles.\n",
    "\n",
    "Finally, let's test a few learning algorithms using previously chosen parameters:"
   ]
  },
  {
   "cell_type": "code",
   "execution_count": 27,
   "metadata": {},
   "outputs": [
    {
     "name": "stdout",
     "output_type": "stream",
     "text": [
      "Accuracy for Naive Bayes algorithm 0.9104665355044338\n",
      "Accuracy for Logistic Regression algorithm 0.9426427849982763\n",
      "Accuracy for Linear SVC algorithm 0.9230936618282144\n",
      "Accuracy for Random Forest algorithm 0.8320529639086772\n"
     ]
    }
   ],
   "source": [
    "algo_results = []\n",
    "for name, algo in [('Naive Bayes', MultinomialNB()),\n",
    "                   ('Logistic Regression', LogisticRegression(random_state=0)),\n",
    "                   ('Linear SVC', LinearSVC(random_state=0)),\n",
    "                   ('Random Forest', RandomForestClassifier(n_estimators=200, max_depth=3, random_state=0))]:\n",
    "    accuracies, _ = evaluate_cv(train_dataset, algo, feature_fun=get_features, feature_selector=select_features_chi2,\n",
    "                                nfeatures=5000, ngrams=(2, 4))\n",
    "    algo_results.extend([(name, fold, accuracy) for fold, accuracy in enumerate(accuracies)])\n",
    "    print('Accuracy for {} algorithm {}'.format(name, mean(accuracies)))"
   ]
  },
  {
   "cell_type": "code",
   "execution_count": 28,
   "metadata": {},
   "outputs": [
    {
     "data": {
      "image/png": "[encoded data removed]",
      "text/plain": [
       "<Figure size 432x288 with 1 Axes>"
      ]
     },
     "metadata": {
      "needs_background": "light"
     },
     "output_type": "display_data"
    }
   ],
   "source": [
    "cv_df = pd.DataFrame(algo_results, columns=['model name', 'fold', 'accuracy'])\n",
    "ax = sns.boxplot(x='model name', y='accuracy', data=cv_df)\n",
    "plt.setp(ax.get_xticklabels(), rotation=45)\n",
    "plt.show()"
   ]
  },
  {
   "cell_type": "markdown",
   "metadata": {},
   "source": [
    "It seems logistic regression results in the best accuracy averaged over the folds. Also the variance of the results in this case is small.\n",
    "\n",
    "Finally, let's fit the model to the entire train set and evaluate on the main test set:"
   ]
  },
  {
   "cell_type": "code",
   "execution_count": 29,
   "metadata": {},
   "outputs": [
    {
     "name": "stdout",
     "output_type": "stream",
     "text": [
      "The final accuracy: 0.941838903713084\n"
     ]
    }
   ],
   "source": [
    "count_vectorizer, tfidf_transformer, train_features = get_features(train_dataset['string'], nfeatures=5000,\n",
    "                                                                   feature_selector=select_features_chi2,\n",
    "                                                                   ngrams=(2, 4))\n",
    "_, _, test_features = get_features(test_dataset['string'], count_vectorizer=count_vectorizer,\n",
    "                                   tfidf_transformer=tfidf_transformer)\n",
    "model = LogisticRegression(random_state=0).fit(train_features, train_dataset['style'])\n",
    "prediction = model.predict(test_features)\n",
    "print('The final accuracy: {}'.format(accuracy_score(test_dataset['style'], prediction)))"
   ]
  },
  {
   "cell_type": "markdown",
   "metadata": {},
   "source": [
    "The final unbiased accuracy estimate is 94.2%."
   ]
  }
 ],
 "metadata": {
  "kernelspec": {
   "display_name": "Python 3",
   "language": "python",
   "name": "python3"
  },
  "language_info": {
   "codemirror_mode": {
    "name": "ipython",
    "version": 3
   },
   "file_extension": ".py",
   "mimetype": "text/x-python",
   "name": "python",
   "nbconvert_exporter": "python",
   "pygments_lexer": "ipython3",
   "version": "3.6.6"
  }
 },
 "nbformat": 4,
 "nbformat_minor": 2
}
