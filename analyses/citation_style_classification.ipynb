{
 "cells": [
  {
   "cell_type": "markdown",
   "metadata": {},
   "source": [
    "# Inferring citation style from the reference string\n",
    "Dominika Tkaczyk\n",
    "\n",
    "16.11.2018\n",
    "\n",
    "This notebook contains the experiments related to inferring citation style from the reference string. The main goal is to build a supervised classifier able to classify the given reference string into one of the known styles."
   ]
  },
  {
   "cell_type": "code",
   "execution_count": 1,
   "metadata": {},
   "outputs": [
    {
     "name": "stderr",
     "output_type": "stream",
     "text": [
      "/home/dtkaczyk/.local/lib/python3.6/site-packages/sklearn/ensemble/weight_boosting.py:29: DeprecationWarning: numpy.core.umath_tests is an internal NumPy module and should not be imported. It will be removed in a future NumPy release.\n",
      "  from numpy.core.umath_tests import inner1d\n"
     ]
    }
   ],
   "source": [
    "import sys\n",
    "sys.path.append('..')\n",
    "\n",
    "%matplotlib inline\n",
    "\n",
    "import warnings\n",
    "warnings.simplefilter('ignore')\n",
    "\n",
    "import matplotlib.pyplot as plt\n",
    "import numpy as np\n",
    "import pandas as pd\n",
    "import re\n",
    "import seaborn as sns\n",
    "\n",
    "from config import STYLES\n",
    "from dataset import add_noise, clean_data, read_ref_strings_data, remove_technical_parts, \\\n",
    "    rearrange_tokens, generate_unknown\n",
    "from evaluation import evaluate_cv\n",
    "from features import get_features, get_tfidf_features, select_features_chi2, select_features_rf, \\\n",
    "    tokens_to_classes\n",
    "from random import randint, seed\n",
    "from sklearn.ensemble import RandomForestClassifier\n",
    "from sklearn.feature_selection import chi2\n",
    "from sklearn.linear_model import LogisticRegression\n",
    "from sklearn.metrics import accuracy_score, confusion_matrix\n",
    "from sklearn.model_selection import train_test_split\n",
    "from sklearn.naive_bayes import MultinomialNB\n",
    "from sklearn.svm import LinearSVC\n",
    "from statistics import mean"
   ]
  },
  {
   "cell_type": "markdown",
   "metadata": {},
   "source": [
    "## Preparing the data\n",
    "\n",
    "### Reading the data\n",
    "\n",
    "We are considering the following 17 styles in these experiments:"
   ]
  },
  {
   "cell_type": "code",
   "execution_count": 2,
   "metadata": {},
   "outputs": [
    {
     "data": {
      "text/plain": [
       "['acm-sig-proceedings',\n",
       " 'american-chemical-society',\n",
       " 'american-chemical-society-with-titles',\n",
       " 'american-institute-of-physics',\n",
       " 'american-sociological-association',\n",
       " 'apa',\n",
       " 'bmc-bioinformatics',\n",
       " 'chicago-author-date',\n",
       " 'elsevier-without-titles',\n",
       " 'elsevier-with-titles',\n",
       " 'harvard3',\n",
       " 'ieee',\n",
       " 'iso690-author-date-en',\n",
       " 'modern-language-association',\n",
       " 'springer-basic-author-date',\n",
       " 'springer-lecture-notes-in-computer-science',\n",
       " 'vancouver']"
      ]
     },
     "execution_count": 2,
     "metadata": {},
     "output_type": "execute_result"
    }
   ],
   "source": [
    "STYLES"
   ]
  },
  {
   "cell_type": "markdown",
   "metadata": {},
   "source": [
    "The data for the experiments was generated automatically by formatting 5k metadata records (randomly chosen from the Crossref collection) into 17 styles. This resulted in 85k pairs (reference string, citation style name). We also keep the DOI of the metadata record used to generate the reference string."
   ]
  },
  {
   "cell_type": "code",
   "execution_count": 3,
   "metadata": {},
   "outputs": [
    {
     "name": "stdout",
     "output_type": "stream",
     "text": [
      "Dataset size: 85000\n"
     ]
    },
    {
     "data": {
      "text/html": [
       "<div>\n",
       "<style scoped>\n",
       "    .dataframe tbody tr th:only-of-type {\n",
       "        vertical-align: middle;\n",
       "    }\n",
       "\n",
       "    .dataframe tbody tr th {\n",
       "        vertical-align: top;\n",
       "    }\n",
       "\n",
       "    .dataframe thead th {\n",
       "        text-align: right;\n",
       "    }\n",
       "</style>\n",
       "<table border=\"1\" class=\"dataframe\">\n",
       "  <thead>\n",
       "    <tr style=\"text-align: right;\">\n",
       "      <th></th>\n",
       "      <th>doi</th>\n",
       "      <th>style</th>\n",
       "      <th>string</th>\n",
       "    </tr>\n",
       "  </thead>\n",
       "  <tbody>\n",
       "    <tr>\n",
       "      <th>0</th>\n",
       "      <td>10.1016/s0002-9394(14)70125-4</td>\n",
       "      <td>acm-sig-proceedings</td>\n",
       "      <td>[1]LEE, S.-H. and TSENG, S.C.G. 1997. Amniotic...</td>\n",
       "    </tr>\n",
       "    <tr>\n",
       "      <th>1</th>\n",
       "      <td>10.1016/0920-9964(95)95073-i</td>\n",
       "      <td>acm-sig-proceedings</td>\n",
       "      <td>[1]Scheffer, R. et al. 1995. History of premor...</td>\n",
       "    </tr>\n",
       "    <tr>\n",
       "      <th>2</th>\n",
       "      <td>10.1075/cilt.97.22vek</td>\n",
       "      <td>acm-sig-proceedings</td>\n",
       "      <td>[1]Vekerdi, J. 1993. 4. Word formation in Gips...</td>\n",
       "    </tr>\n",
       "    <tr>\n",
       "      <th>3</th>\n",
       "      <td>10.1080/19761597.2013.810947</td>\n",
       "      <td>acm-sig-proceedings</td>\n",
       "      <td>[1]Kang, J. et al. 2013. Determinants of succe...</td>\n",
       "    </tr>\n",
       "    <tr>\n",
       "      <th>4</th>\n",
       "      <td>10.1016/0378-1119(79)90090-8</td>\n",
       "      <td>acm-sig-proceedings</td>\n",
       "      <td>[1]Wickens, M.P. et al. 1979. Restriction map ...</td>\n",
       "    </tr>\n",
       "  </tbody>\n",
       "</table>\n",
       "</div>"
      ],
      "text/plain": [
       "                             doi                style  \\\n",
       "0  10.1016/s0002-9394(14)70125-4  acm-sig-proceedings   \n",
       "1   10.1016/0920-9964(95)95073-i  acm-sig-proceedings   \n",
       "2          10.1075/cilt.97.22vek  acm-sig-proceedings   \n",
       "3   10.1080/19761597.2013.810947  acm-sig-proceedings   \n",
       "4   10.1016/0378-1119(79)90090-8  acm-sig-proceedings   \n",
       "\n",
       "                                              string  \n",
       "0  [1]LEE, S.-H. and TSENG, S.C.G. 1997. Amniotic...  \n",
       "1  [1]Scheffer, R. et al. 1995. History of premor...  \n",
       "2  [1]Vekerdi, J. 1993. 4. Word formation in Gips...  \n",
       "3  [1]Kang, J. et al. 2013. Determinants of succe...  \n",
       "4  [1]Wickens, M.P. et al. 1979. Restriction map ...  "
      ]
     },
     "execution_count": 3,
     "metadata": {},
     "output_type": "execute_result"
    }
   ],
   "source": [
    "dataset = read_ref_strings_data('../data/dataset/')\n",
    "print('Dataset size: {}'.format(dataset.shape[0]))\n",
    "dataset.head()"
   ]
  },
  {
   "cell_type": "markdown",
   "metadata": {},
   "source": [
    "Let's see example entries for each style:"
   ]
  },
  {
   "cell_type": "code",
   "execution_count": 4,
   "metadata": {},
   "outputs": [
    {
     "name": "stdout",
     "output_type": "stream",
     "text": [
      "acm-sig-proceedings\n",
      "[1]Dorofeev, Y.G. et al. 1990. Effect of carbonyl iron powder additions on the properties of materials produced by dynamic hot pressing. Soviet Powder Metallurgy and Metal Ceramics. 29, 6 (Jun. 1990), 427–430.\n",
      "\n",
      "american-chemical-society\n",
      "(1) Dorofeev, Y. G.; Marinenko, L. G.; Ustimenko, V. I. Soviet Powder Metallurgy and Metal Ceramics 1990, 29, 427–430.\n",
      "\n",
      "american-chemical-society-with-titles\n",
      "(1) Dorofeev, Y. G.; Marinenko, L. G.; Ustimenko, V. I. Effect of Carbonyl Iron Powder Additions on the Properties of Materials Produced by Dynamic Hot Pressing. Soviet Powder Metallurgy and Metal Ceramics 1990, 29, 427–430.\n",
      "\n",
      "american-institute-of-physics\n",
      "1 Y.G. Dorofeev, L.G. Marinenko, and V.I. Ustimenko, Soviet Powder Metallurgy and Metal Ceramics 29, 427 (1990).\n",
      "\n",
      "american-sociological-association\n",
      "Dorofeev, Yu. G., L. G. Marinenko, and V. I. Ustimenko. 1990. “Effect of Carbonyl Iron Powder Additions on the Properties of Materials Produced by Dynamic Hot Pressing.” Soviet Powder Metallurgy and Metal Ceramics 29(6):427–30. Retrieved\n",
      "\n",
      "apa\n",
      "Dorofeev, Y. G., Marinenko, L. G., & Ustimenko, V. I. (1990). Effect of carbonyl iron powder additions on the properties of materials produced by dynamic hot pressing. Soviet Powder Metallurgy and Metal Ceramics, 29(6), 427–430.\n",
      "\n",
      "bmc-bioinformatics\n",
      "1. Dorofeev YG, Marinenko LG, Ustimenko VI: Effect of carbonyl iron powder additions on the properties of materials produced by dynamic hot pressing. Soviet Powder Metallurgy and Metal Ceramics 1990, 29:427–430.\n",
      "\n",
      "chicago-author-date\n",
      "Dorofeev, Yu. G., L. G. Marinenko, and V. I. Ustimenko. 1990. “Effect of Carbonyl Iron Powder Additions on the Properties of Materials Produced by Dynamic Hot Pressing.” Soviet Powder Metallurgy and Metal Ceramics 29 (6) (June): 427–430.\n",
      "\n",
      "elsevier-with-titles\n",
      "[1] Y.G. Dorofeev, L.G. Marinenko, V.I. Ustimenko, Effect of carbonyl iron powder additions on the properties of materials produced by dynamic hot pressing, Soviet Powder Metallurgy and Metal Ceramics. 29 (1990) 427–430.\n",
      "\n",
      "elsevier-without-titles\n",
      "[1] Y.G. Dorofeev, L.G. Marinenko, V.I. Ustimenko, Soviet Powder Metallurgy and Metal Ceramics 29 (1990) 427.\n",
      "\n",
      "harvard3\n",
      "Dorofeev, Y.G., Marinenko, L.G. & Ustimenko, V.I., 1990. Effect of carbonyl iron powder additions on the properties of materials produced by dynamic hot pressing. Soviet Powder Metallurgy and Metal Ceramics, 29(6), pp.427–430.\n",
      "\n",
      "ieee\n",
      "[1]Y. G. Dorofeev, L. G. Marinenko, and V. I. Ustimenko, “Effect of carbonyl iron powder additions on the properties of materials produced by dynamic hot pressing,” Soviet Powder Metallurgy and Metal Ceramics, vol. 29, no. 6, pp. 427–430, Jun. 1990.\n",
      "\n",
      "iso690-author-date-en\n",
      "DOROFEEV, Yu. G., MARINENKO, L. G. and USTIMENKO, V. I., 1990, Effect of carbonyl iron powder additions on the properties of materials produced by dynamic hot pressing. Soviet Powder Metallurgy and Metal Ceramics [online]. June 1990. Vol. 29, no. 6, p. 427–430. Available from:\n",
      "\n",
      "modern-language-association\n",
      "Dorofeev, Yu. G., L. G. Marinenko, and V. I. Ustimenko. “Effect of Carbonyl Iron Powder Additions on the Properties of Materials Produced by Dynamic Hot Pressing.” Soviet Powder Metallurgy and Metal Ceramics 29.6 (1990): 427–430.\n",
      "\n",
      "springer-basic-author-date\n",
      "Dorofeev YG, Marinenko LG, Ustimenko VI (1990) Effect of carbonyl iron powder additions on the properties of materials produced by dynamic hot pressing. Soviet Powder Metallurgy and Metal Ceramics 29:427–430. doi:\n",
      "\n",
      "springer-lecture-notes-in-computer-science\n",
      "1. Dorofeev, Y.G., Marinenko, L.G., Ustimenko, V.I.: Effect of carbonyl iron powder additions on the properties of materials produced by dynamic hot pressing. Soviet Powder Metallurgy and Metal Ceramics. 29, 427–430 (1990).\n",
      "\n",
      "vancouver\n",
      "1. Dorofeev YG, Marinenko LG, Ustimenko VI. Effect of carbonyl iron powder additions on the properties of materials produced by dynamic hot pressing. Soviet Powder Metallurgy and Metal Ceramics [Internet]. Springer Nature; 1990 Jun;29(6):427–30. Available from:\n"
     ]
    }
   ],
   "source": [
    "seed(10)\n",
    "examples = dataset.groupby('style').nth(randint(0, 4999)).reset_index()\n",
    "print('\\n\\n'.join(['{}\\n{}'.format(s, t) for s, t in zip(examples['style'].tolist(),\n",
    "                                                         examples['string'].tolist())]))"
   ]
  },
  {
   "cell_type": "markdown",
   "metadata": {},
   "source": [
    "### Data cleaning\n",
    "\n",
    "First, let's get rid of null and very short reference strings:"
   ]
  },
  {
   "cell_type": "code",
   "execution_count": 5,
   "metadata": {},
   "outputs": [
    {
     "name": "stdout",
     "output_type": "stream",
     "text": [
      "Dataset size: 82834\n"
     ]
    }
   ],
   "source": [
    "seed(0)\n",
    "dataset = clean_data(dataset)\n",
    "print('Dataset size: {}'.format(dataset.shape[0]))"
   ]
  },
  {
   "cell_type": "markdown",
   "metadata": {},
   "source": [
    "We also have some remains from DOI stripping and other \"technical\" fragments in the strings. We will remove those parts."
   ]
  },
  {
   "cell_type": "code",
   "execution_count": 6,
   "metadata": {},
   "outputs": [],
   "source": [
    "dataset['string'] = dataset['string'].apply(remove_technical_parts)"
   ]
  },
  {
   "cell_type": "markdown",
   "metadata": {},
   "source": [
    "Reference strings generated automatically are also a bit too perfect. For example, all strings of american-chemical-society style are prefixed by \"(1)\". This prefix alone would be enough for the learning algorithm to assign a string to this style. On the other hand, we cannot expect all strings \"in real life\" to have a proper prefix (some tools/extractors might strip this).\n",
    "\n",
    "Also, the strings were generated from rich metadata records, and as a result, contain fragments such as the names of the months from the publication date. In practise, however, the dates are typically given as years only (\"(1997)\" instead of \"(Mar 1997)\").\n",
    "\n",
    "To make the dataset a bit less perfect, let's remove such fragments from some of the references:"
   ]
  },
  {
   "cell_type": "code",
   "execution_count": 7,
   "metadata": {},
   "outputs": [
    {
     "data": {
      "text/html": [
       "<div>\n",
       "<style scoped>\n",
       "    .dataframe tbody tr th:only-of-type {\n",
       "        vertical-align: middle;\n",
       "    }\n",
       "\n",
       "    .dataframe tbody tr th {\n",
       "        vertical-align: top;\n",
       "    }\n",
       "\n",
       "    .dataframe thead th {\n",
       "        text-align: right;\n",
       "    }\n",
       "</style>\n",
       "<table border=\"1\" class=\"dataframe\">\n",
       "  <thead>\n",
       "    <tr style=\"text-align: right;\">\n",
       "      <th></th>\n",
       "      <th>doi</th>\n",
       "      <th>style</th>\n",
       "      <th>string</th>\n",
       "    </tr>\n",
       "  </thead>\n",
       "  <tbody>\n",
       "    <tr>\n",
       "      <th>0</th>\n",
       "      <td>10.1016/s0002-9394(14)70125-4</td>\n",
       "      <td>acm-sig-proceedings</td>\n",
       "      <td>LEE, S.-H. and TSENG, S.C.G. 1997. Amniotic Me...</td>\n",
       "    </tr>\n",
       "    <tr>\n",
       "      <th>1</th>\n",
       "      <td>10.1016/0920-9964(95)95073-i</td>\n",
       "      <td>acm-sig-proceedings</td>\n",
       "      <td>Scheffer, R. et al. 1995. History of premorbid...</td>\n",
       "    </tr>\n",
       "    <tr>\n",
       "      <th>2</th>\n",
       "      <td>10.1075/cilt.97.22vek</td>\n",
       "      <td>acm-sig-proceedings</td>\n",
       "      <td>[1]Vekerdi, J. 1993. 4. Word formation in Gips...</td>\n",
       "    </tr>\n",
       "    <tr>\n",
       "      <th>3</th>\n",
       "      <td>10.1080/19761597.2013.810947</td>\n",
       "      <td>acm-sig-proceedings</td>\n",
       "      <td>[1]Kang, J. et al. 2013. Determinants of succe...</td>\n",
       "    </tr>\n",
       "    <tr>\n",
       "      <th>4</th>\n",
       "      <td>10.1016/0378-1119(79)90090-8</td>\n",
       "      <td>acm-sig-proceedings</td>\n",
       "      <td>Wickens, M.P. et al. 1979. Restriction map of ...</td>\n",
       "    </tr>\n",
       "  </tbody>\n",
       "</table>\n",
       "</div>"
      ],
      "text/plain": [
       "                             doi                style  \\\n",
       "0  10.1016/s0002-9394(14)70125-4  acm-sig-proceedings   \n",
       "1   10.1016/0920-9964(95)95073-i  acm-sig-proceedings   \n",
       "2          10.1075/cilt.97.22vek  acm-sig-proceedings   \n",
       "3   10.1080/19761597.2013.810947  acm-sig-proceedings   \n",
       "4   10.1016/0378-1119(79)90090-8  acm-sig-proceedings   \n",
       "\n",
       "                                              string  \n",
       "0  LEE, S.-H. and TSENG, S.C.G. 1997. Amniotic Me...  \n",
       "1  Scheffer, R. et al. 1995. History of premorbid...  \n",
       "2  [1]Vekerdi, J. 1993. 4. Word formation in Gips...  \n",
       "3  [1]Kang, J. et al. 2013. Determinants of succe...  \n",
       "4  Wickens, M.P. et al. 1979. Restriction map of ...  "
      ]
     },
     "execution_count": 7,
     "metadata": {},
     "output_type": "execute_result"
    }
   ],
   "source": [
    "dataset['string'] = dataset['string'].apply(add_noise)\n",
    "dataset.head()"
   ]
  },
  {
   "cell_type": "markdown",
   "metadata": {},
   "source": [
    "Finally, we will add the \"unknown\" category to the dataset. The reference strings in this category will be generated by randomly swapping tokens in the \"proper\" reference strings."
   ]
  },
  {
   "cell_type": "code",
   "execution_count": 8,
   "metadata": {},
   "outputs": [
    {
     "name": "stdout",
     "output_type": "stream",
     "text": [
      "Dataset size: 87834\n"
     ]
    }
   ],
   "source": [
    "dataset_unknown = generate_unknown(dataset, 5000, random_state=0)\n",
    "dataset = pd.concat([dataset, dataset_unknown])\n",
    "print('Dataset size: {}'.format(dataset.shape[0]))"
   ]
  },
  {
   "cell_type": "markdown",
   "metadata": {},
   "source": [
    "### Splitting the data\n",
    "\n",
    "We will split the dataset randomly into training (75%) and test (25%) sets. The training set will be used to find the best learning algorithm and its meta-parameters. The test set will be used once to evaluate the final chosen model. This provides a fair, unbiased estimate of the model performance.\n",
    "\n",
    "The data will be split based on DOIs, for better separation (i.e. all strings generated from a specific DOI will belong either to the train set or the test set)."
   ]
  },
  {
   "cell_type": "code",
   "execution_count": 9,
   "metadata": {},
   "outputs": [
    {
     "name": "stdout",
     "output_type": "stream",
     "text": [
      "Train dataset size: 65723\n",
      "Test dataset size: 22111\n"
     ]
    }
   ],
   "source": [
    "train_doi, test_doi = train_test_split(dataset['doi'].drop_duplicates(), random_state=0)\n",
    "train_dataset = dataset.loc[dataset['doi'].isin(train_doi)]\n",
    "test_dataset = dataset.loc[dataset['doi'].isin(test_doi)]\n",
    "print('Train dataset size: {}'.format(train_dataset.shape[0]))\n",
    "print('Test dataset size: {}'.format(test_dataset.shape[0]))"
   ]
  },
  {
   "cell_type": "markdown",
   "metadata": {},
   "source": [
    "## Feature representation\n",
    "\n",
    "We will use a TF-IDF bag-of-ngrams representation of the reference strings. In this case, however, the tokens will be different from the typical use case. We will leave punctuation characters as tokens, and map the actual words into word classes such as \"capitalized word\", or \"uppercase letter\". This is done to preserve the style-related information. We will also mark the beginning and the end of the string with special tokens.\n",
    "\n",
    "This function maps the tokens in the string into our token classes:"
   ]
  },
  {
   "cell_type": "code",
   "execution_count": 10,
   "metadata": {},
   "outputs": [
    {
     "data": {
      "text/plain": [
       "'start capword comma uclett dot uclett dot capword lcword capword year comma year comma num dash num dot end'"
      ]
     },
     "execution_count": 10,
     "metadata": {},
     "output_type": "execute_result"
    }
   ],
   "source": [
    "tokens_to_classes('Eberlein, T. J. Yearbook of Surgery 2006, 2006, 322–324.')"
   ]
  },
  {
   "cell_type": "markdown",
   "metadata": {},
   "source": [
    "## The basic model\n",
    "\n",
    "Let's now build some models and evaluate them. We will use logistic regression algorithm to predict the style from TF-IDFs of the tokens. We will use all {1,2}-grams we have in the train set. We will perform a 5-fold cross-validation on the train set, and look at the resulting accuracy.\n",
    "\n",
    "Function *get_tfidf_features* passed to the evaluation function calculates a matrix of TD-IDF features for the list of strings. It is typically called twice, first on the training set and then on the test set (in this case, it will be called twice for every cross-validation split). When called on the training set, it calculates the vocabulary and IDFs using the entire training set (this is called fitting). When called on the test set, nothing is learned from the entire test set, but we reuse the vocabulary and IDFs calculated previously on the training set."
   ]
  },
  {
   "cell_type": "code",
   "execution_count": 11,
   "metadata": {},
   "outputs": [
    {
     "name": "stdout",
     "output_type": "stream",
     "text": [
      "Fold accuracies: [0.9077513120710536, 0.9201824401368301, 0.9118426416632694, 0.9150175791059769, 0.9160464423935695]\n",
      "Mean accuracy: 0.9141680830741399\n"
     ]
    }
   ],
   "source": [
    "accuracies, _ = evaluate_cv(train_dataset, LogisticRegression(random_state=0),\n",
    "                            feature_fun=get_tfidf_features, ngrams=(1, 2), nfeatures=None,\n",
    "                            feature_selector=None)\n",
    "print('Fold accuracies: {}'.format(accuracies))\n",
    "print('Mean accuracy: {}'.format(mean(accuracies)))"
   ]
  },
  {
   "cell_type": "markdown",
   "metadata": {},
   "source": [
    "The accuracy is already decent.\n",
    "\n",
    "## Choosing the ngram range\n",
    "\n",
    "Let's now see how the ngram range affects the accuracy:"
   ]
  },
  {
   "cell_type": "code",
   "execution_count": 12,
   "metadata": {},
   "outputs": [
    {
     "name": "stdout",
     "output_type": "stream",
     "text": [
      "Accuracy for ngrams range (1, 1): 0.6482246421100516\n",
      "Accuracy for ngrams range (1, 2): 0.9141680830741399\n",
      "Accuracy for ngrams range (1, 3): 0.9368879505816792\n",
      "Accuracy for ngrams range (1, 4): 0.9406751354648324\n",
      "Accuracy for ngrams range (2, 2): 0.9178265634878906\n",
      "Accuracy for ngrams range (2, 3): 0.9383641075913313\n",
      "Accuracy for ngrams range (2, 4): 0.9415191581989689\n",
      "Accuracy for ngrams range (3, 3): 0.9393893773387965\n",
      "Accuracy for ngrams range (3, 4): 0.9403296983895553\n",
      "Accuracy for ngrams range (4, 4): 0.9374504290088487\n"
     ]
    }
   ],
   "source": [
    "results = np.zeros((4, 4))\n",
    "for min_r in range(1, 5):\n",
    "    for max_r in range(min_r, 5):\n",
    "        accuracies, _ = evaluate_cv(train_dataset, LogisticRegression(random_state=0),\n",
    "                                    feature_fun=get_tfidf_features, ngrams=(min_r, max_r))\n",
    "        results[min_r-1, max_r-1] = mean(accuracies)\n",
    "        print('Accuracy for ngrams range ({}, {}): {}'.format(min_r, max_r, mean(accuracies)))"
   ]
  },
  {
   "cell_type": "code",
   "execution_count": 13,
   "metadata": {},
   "outputs": [
    {
     "data": {
      "image/png": "[encoded data removed]",
      "text/plain": [
       "<Figure size 288x288 with 2 Axes>"
      ]
     },
     "metadata": {
      "needs_background": "light"
     },
     "output_type": "display_data"
    }
   ],
   "source": [
    "fig, ax = plt.subplots(figsize=(4,4))\n",
    "sns.heatmap(results, annot=True, fmt='.4g', xticklabels=[1,2,3,4], yticklabels=[1,2,3,4],\n",
    "            cmap='Blues')\n",
    "plt.ylabel('Ngram min')\n",
    "plt.xlabel('Ngram max')\n",
    "plt.show()"
   ]
  },
  {
   "cell_type": "markdown",
   "metadata": {},
   "source": [
    "Based on this, we will choose the range (2, 4).\n",
    " \n",
    "Let's calculate the features for our training set and look at the most frequent n-grams:"
   ]
  },
  {
   "cell_type": "code",
   "execution_count": 14,
   "metadata": {},
   "outputs": [
    {
     "name": "stdout",
     "output_type": "stream",
     "text": [
      "Number of features: 23956\n",
      "capword capword: 195164\n",
      "uclett dot: 149612\n",
      "lcword lcword: 137550\n",
      "capword comma: 123393\n",
      "capword lcword: 117591\n",
      "lcword capword: 107489\n",
      "dot capword: 104056\n",
      "lcword lcword lcword: 86565\n",
      "comma uclett: 79783\n",
      "capword lcword capword: 77247\n",
      "comma uclett dot: 77209\n",
      "comma capword: 67107\n",
      "capword comma uclett: 66162\n",
      "capword comma uclett dot: 65498\n",
      "lcword lcword lcword lcword: 63583\n",
      "capword capword capword: 59982\n",
      "capword dot: 57306\n",
      "lcword capword capword: 53554\n",
      "uclett dot capword: 49383\n",
      "capword capword lcword: 47637\n",
      "num dash: 43067\n",
      "dash num: 41997\n",
      "dot uclett: 41868\n",
      "capword lcword capword capword: 40854\n",
      "dot uclett dot: 39433\n",
      "num dash num: 39354\n",
      "uclett dot uclett: 39183\n",
      "uclett dot uclett dot: 38238\n",
      "dot capword comma: 38229\n",
      "capword capword lcword capword: 37645\n",
      "uclett dot capword comma: 35182\n",
      "lcword dot: 33125\n",
      "comma num: 32657\n",
      "dot end: 31561\n",
      "num dot: 30467\n",
      "start capword: 30378\n",
      "capword capword dot: 29627\n",
      "year rpar: 29383\n",
      "num lpar: 29117\n",
      "num comma: 28748\n",
      "lpar year: 28330\n",
      "lpar year rpar: 28156\n",
      "comma lcword: 27995\n",
      "capword lcword lcword: 27123\n",
      "comma uclett dot uclett: 27112\n",
      "capword comma capword: 26262\n",
      "dot num: 25794\n",
      "dot capword capword: 25539\n",
      "quot capword: 25473\n",
      "capword uclett: 24670\n"
     ]
    }
   ],
   "source": [
    "count_vectorizer, _, tfidf_features = get_tfidf_features(train_dataset['string'], ngrams=(2, 4))\n",
    "tfidf_feature_names = count_vectorizer.get_feature_names()\n",
    "print('Number of features: {}'.format(len(tfidf_feature_names)))\n",
    "\n",
    "occurrences = count_vectorizer.fit_transform(train_dataset['string']).toarray().sum(axis=0)\n",
    "indices = np.argsort(occurrences)[::-1]\n",
    "tfidf_feature_names = np.array(tfidf_feature_names)[indices]\n",
    "occurrences = np.array(occurrences)[indices]\n",
    "print('\\n'.join(['{}: {}'.format(p[0], p[1])\n",
    "                 for p in list(zip(tfidf_feature_names, occurrences))[:50]]))"
   ]
  },
  {
   "cell_type": "markdown",
   "metadata": {},
   "source": [
    "We can see all types of ngrams. In most cases we can guess where they came from, eg. \"lcword lcword lcword lcword\" is typically a fragment of the title, and \"uclett dot capword comma\" looks like a fragment from the authors' list.\n",
    "\n",
    "We can also check which features are the most correlated with the styles. We will use chi-squared statistic for this:"
   ]
  },
  {
   "cell_type": "code",
   "execution_count": 15,
   "metadata": {},
   "outputs": [
    {
     "name": "stdout",
     "output_type": "stream",
     "text": [
      "\n",
      "Style: acm-sig-proceedings\n",
      "Most correlated bigrams: dot lcword|rbracket year|dot year|rpar comma|rbracket capword\n",
      "Most correlated trigrams: uclett dot year|num rbracket capword|rpar comma num|rbracket capword comma|year rpar comma\n",
      "Most correlated fourgrams: num rbracket capword comma|dot year dot capword|rbracket capword comma uclett|lpar year rpar comma|year rpar comma num\n",
      "\n",
      "Style: american-chemical-society\n",
      "Most correlated bigrams: year comma|capword year|start lpar|semicolon capword|dot semicolon\n",
      "Most correlated trigrams: start lpar num|comma num comma|semicolon capword comma|dot semicolon capword|uclett dot semicolon\n",
      "Most correlated fourgrams: comma uclett dot semicolon|year comma num comma|dot semicolon capword comma|semicolon capword comma uclett|uclett dot semicolon capword\n",
      "\n",
      "Style: american-chemical-society-with-titles\n",
      "Most correlated bigrams: year comma|capword year|start lpar|semicolon capword|dot semicolon\n",
      "Most correlated trigrams: start lpar num|comma num comma|semicolon capword comma|dot semicolon capword|uclett dot semicolon\n",
      "Most correlated fourgrams: year comma num comma|comma uclett dot semicolon|dot semicolon capword comma|semicolon capword comma uclett|uclett dot semicolon capword\n",
      "\n",
      "Style: american-institute-of-physics\n",
      "Most correlated bigrams: start uclett|lcword uclett|rpar end|start num|num uclett\n",
      "Most correlated trigrams: rpar dot end|year rpar end|num uclett dot|start num uclett|capword num comma\n",
      "Most correlated fourgrams: num comma num lpar|comma num lpar year|start num uclett dot|capword capword num comma|capword num comma num\n",
      "\n",
      "Style: american-sociological-association\n",
      "Most correlated bigrams: rpar colon|dot lclett|dot year|quot capword|dot quot\n",
      "Most correlated trigrams: num rpar colon|dot year dot|start capword dot|dot quot capword|year dot quot\n",
      "Most correlated fourgrams: dot quot capword capword|start capword dot year|capword num lpar num|year dot quot capword|dot year dot quot\n",
      "\n",
      "Style: apa\n",
      "Most correlated bigrams: rpar comma|dot comma|rpar dot|dot lpar|comma and\n",
      "Most correlated trigrams: dot lpar year|comma and capword|dot comma and|rpar dot capword|uclett dot lpar\n",
      "Most correlated fourgrams: uclett dot comma and|comma uclett dot lpar|num rpar comma num|uclett dot lpar year|year rpar dot capword\n",
      "\n",
      "Style: bmc-bioinformatics\n",
      "Most correlated bigrams: year colon|uclett comma|num colon|ucword colon|uclett colon\n",
      "Most correlated trigrams: ucword colon capword|uclett colon capword|capword uclett colon|capword ucword colon|comma num colon\n",
      "Most correlated fourgrams: comma capword uclett colon|capword uclett colon capword|capword ucword colon capword|comma num colon num|year comma num colon\n",
      "\n",
      "Style: chicago-author-date\n",
      "Most correlated bigrams: start quot|quot year|rpar lpar|quot capword|dot quot\n",
      "Most correlated trigrams: num rpar lpar|quot year dot|rpar lpar capword|dot quot capword|year dot quot\n",
      "Most correlated fourgrams: num rpar lpar capword|dot quot year dot|year dot quot capword|capword num lpar num|dot year dot quot\n",
      "\n",
      "Style: elsevier-without-titles\n",
      "Most correlated bigrams: lbracket num|num rbracket|start lbracket|rbracket uclett|rpar num\n",
      "Most correlated trigrams: capword num lpar|dot capword comma|year rpar num|rpar num dot|rpar num end\n",
      "Most correlated fourgrams: lpar year rpar num|year rpar num dot|year rpar num end|rpar num dot end|capword num lpar year\n",
      "\n",
      "Style: elsevier-with-titles\n",
      "Most correlated bigrams: lbracket num|num rbracket|start lbracket|rbracket uclett|rpar num\n",
      "Most correlated trigrams: dot capword comma|lcword comma capword|year rpar num|dot num lpar|rpar num dash\n",
      "Most correlated fourgrams: lcword lcword comma capword|dot num lpar year|year rpar num dash|capword dot num lpar|rpar num dash num\n",
      "\n",
      "Style: harvard3\n",
      "Most correlated bigrams: lcword dot|dot comma|rpar comma|comma year|dot and\n",
      "Most correlated trigrams: dot and capword|uclett dot and|rpar comma lcword|comma year dot|dot comma year\n",
      "Most correlated fourgrams: uclett dot comma year|num rpar comma lcword|rpar comma lcword dot|comma year dot capword|dot comma year dot\n",
      "\n",
      "Style: ieee\n",
      "Most correlated bigrams: num comma|dot num|year end|comma lcword|comma quot\n",
      "Most correlated trigrams: num comma year|comma lcword dot|lcword dot num|capword comma quot|comma quot capword\n",
      "Most correlated fourgrams: comma quot capword capword|capword comma quot capword|comma lcword dot num|dot num comma lcword|lcword dot num comma\n",
      "\n",
      "Style: iso690-author-date-en\n",
      "Most correlated bigrams: start ucword|comma lclett|ucword comma|other num|dot other\n",
      "Most correlated trigrams: capword dot other|lclett dot other|comma year comma|other num comma|dot other num\n",
      "Most correlated fourgrams: comma lcword dot other|comma year comma capword|comma lclett dot other|ucword comma capword comma|dot other num comma\n",
      "\n",
      "Style: modern-language-association\n",
      "Most correlated bigrams: start quot|colon lclett|rpar colon|quot capword|dot quot\n",
      "Most correlated trigrams: lcword dot quot|capword dot quot|num dot num|capword num dot|year rpar colon\n",
      "Most correlated fourgrams: capword capword num dot|capword num dot num|num dot num lpar|year rpar colon num|lpar year rpar colon\n",
      "\n",
      "Style: springer-basic-author-date\n",
      "Most correlated bigrams: uclett comma|ucword lpar|num colon|rpar capword|uclett lpar\n",
      "Most correlated trigrams: rpar capword lcword|capword uclett lpar|uclett lpar year|capword num colon|year rpar capword\n",
      "Most correlated fourgrams: capword uclett lpar year|uclett lpar year rpar|year rpar capword lcword|capword num colon num|lpar year rpar capword\n",
      "\n",
      "Style: springer-lecture-notes-in-computer-science\n",
      "Most correlated bigrams: start dot|colon capword|rpar end|dot comma|dot colon\n",
      "Most correlated trigrams: comma capword comma|dot comma capword|dash num lpar|dot colon capword|uclett dot colon\n",
      "Most correlated fourgrams: dot comma capword comma|comma uclett dot colon|num dash num lpar|dash num lpar year|uclett dot colon capword\n",
      "\n",
      "Style: vancouver\n",
      "Most correlated bigrams: num semicolon|year semicolon|capword semicolon|semicolon num|semicolon year\n",
      "Most correlated trigrams: semicolon year capword|year semicolon num|capword semicolon year|semicolon year semicolon|semicolon num lpar\n",
      "Most correlated fourgrams: semicolon year capword num|capword semicolon year semicolon|year semicolon num lpar|semicolon year semicolon num|semicolon num lpar num\n"
     ]
    }
   ],
   "source": [
    "for style in STYLES:\n",
    "    print()\n",
    "    print('Style: {}'.format(style))\n",
    "    features_chi2 = chi2(tfidf_features, train_dataset['style'] == style)[0]\n",
    "    indices = np.argsort(features_chi2)\n",
    "    feature_names = np.array(count_vectorizer.get_feature_names())[indices]\n",
    "    bigrams = [v for v in feature_names if len(v.split(' '))  == 2]\n",
    "    trigrams = [v for v in feature_names if len(v.split(' '))  == 3]\n",
    "    fourgrams = [v for v in feature_names if len(v.split(' '))  == 4]\n",
    "    print('Most correlated bigrams: {}'.format('|'.join(bigrams[-5:])))\n",
    "    print('Most correlated trigrams: {}'.format('|'.join(trigrams[-5:])))\n",
    "    print('Most correlated fourgrams: {}'.format('|'.join(fourgrams[-5:])))"
   ]
  },
  {
   "cell_type": "markdown",
   "metadata": {},
   "source": [
    "## Feature selection\n",
    "\n",
    "So far we used all n-grams present in the training set. Some of them are very rare and don't provide a lot of information for the training algorithm. Let's try using only n most frequent ngrams for different values of n, and see how it affects the accuracy."
   ]
  },
  {
   "cell_type": "code",
   "execution_count": 16,
   "metadata": {
    "scrolled": false
   },
   "outputs": [
    {
     "name": "stdout",
     "output_type": "stream",
     "text": [
      "Accuracy for 100 features: 0.8721954769529638\n",
      "Accuracy for 200 features: 0.8992913487496175\n",
      "Accuracy for 300 features: 0.9137712175830867\n",
      "Accuracy for 400 features: 0.9209941148582688\n",
      "Accuracy for 500 features: 0.923914638174846\n",
      "Accuracy for 600 features: 0.9265445837363919\n",
      "Accuracy for 700 features: 0.9290112923348272\n",
      "Accuracy for 800 features: 0.9305629786418896\n",
      "Accuracy for 900 features: 0.9318012002694811\n",
      "Accuracy for 1000 features: 0.93237355267328\n",
      "Accuracy for 1100 features: 0.932981417224127\n",
      "Accuracy for 1200 features: 0.9346690120779283\n",
      "Accuracy for 1300 features: 0.9358484521204661\n",
      "Accuracy for 1400 features: 0.9363924256360385\n",
      "Accuracy for 1500 features: 0.937070955968546\n",
      "Accuracy for 1600 features: 0.9372124766787184\n",
      "Accuracy for 1700 features: 0.9375163426566973\n",
      "Accuracy for 1800 features: 0.9375393413912676\n",
      "Accuracy for 1900 features: 0.9384692621111146\n",
      "Accuracy for 2000 features: 0.9387350722572188\n",
      "Accuracy for 2100 features: 0.9387547384466796\n",
      "Accuracy for 2200 features: 0.9388806289268006\n",
      "Accuracy for 2300 features: 0.9389201163144271\n",
      "Accuracy for 2400 features: 0.9388578706183363\n",
      "Accuracy for 2500 features: 0.9392025261119238\n",
      "Accuracy for 2600 features: 0.939278059511101\n",
      "Accuracy for 2700 features: 0.939362855148675\n",
      "Accuracy for 2800 features: 0.9394046015158336\n",
      "Accuracy for 2900 features: 0.9395260047314058\n",
      "Accuracy for 3000 features: 0.9395263857921897\n",
      "Accuracy for 3100 features: 0.9397076542561047\n",
      "Accuracy for 3200 features: 0.9397295991808945\n",
      "Accuracy for 3300 features: 0.9395883311709441\n",
      "Accuracy for 3400 features: 0.9396680088423623\n",
      "Accuracy for 3500 features: 0.9397271459110067\n",
      "Accuracy for 3600 features: 0.9399697639151798\n",
      "Accuracy for 3700 features: 0.9400077314836796\n",
      "Accuracy for 3800 features: 0.9400490998494533\n",
      "Accuracy for 3900 features: 0.940049952075152\n",
      "Accuracy for 4000 features: 0.9402480836159745\n",
      "Accuracy for 4100 features: 0.9402680585256941\n",
      "Accuracy for 4200 features: 0.9404481564275546\n",
      "Accuracy for 4300 features: 0.9403482962529836\n",
      "Accuracy for 4400 features: 0.9406735953025888\n",
      "Accuracy for 4500 features: 0.9405925495733947\n",
      "Accuracy for 4600 features: 0.940572025333097\n",
      "Accuracy for 4700 features: 0.9405514452607173\n",
      "Accuracy for 4800 features: 0.9405488896508293\n",
      "Accuracy for 4900 features: 0.9405498200421911\n",
      "Accuracy for 5000 features: 0.9405905368833531\n"
     ]
    }
   ],
   "source": [
    "nfeatures_results = []\n",
    "nfeatures_values = range(100, 5100, 100)\n",
    "for n in nfeatures_values:\n",
    "    accuracies, _ = evaluate_cv(train_dataset, LogisticRegression(random_state=0),\n",
    "                                feature_fun=get_tfidf_features, nfeatures=n, ngrams=(2, 4))\n",
    "    nfeatures_results.append(mean(accuracies))\n",
    "    print('Accuracy for {} features: {}'.format(n, mean(accuracies)))"
   ]
  },
  {
   "cell_type": "code",
   "execution_count": 17,
   "metadata": {},
   "outputs": [
    {
     "data": {
      "image/png": "[encoded data removed]",
      "text/plain": [
       "<Figure size 432x288 with 1 Axes>"
      ]
     },
     "metadata": {
      "needs_background": "light"
     },
     "output_type": "display_data"
    }
   ],
   "source": [
    "plt.plot(nfeatures_values, nfeatures_results, color='#4f5858')\n",
    "plt.xticks(list(range(200, 5100, 600)))\n",
    "plt.xlabel('Number of features')\n",
    "plt.ylabel('Accuracy')\n",
    "plt.show()"
   ]
  },
  {
   "cell_type": "markdown",
   "metadata": {},
   "source": [
    "It seems that the more features we have the higher accuracy.\n",
    "\n",
    "Choosing the most frequent features might not be optimal. Some frequent features will be useless because they don't provide any information about the target style. We can perform feature selection to choose a number of most useful features.\n",
    "\n",
    "By passing *feature_selector* to the evaluation function we make sure the best features are selected in the training phase. In this case, the selection is done using feature importance scores from Random Forest.\n",
    "\n",
    "Similarly as before, we will test this with varying number of chosen features:"
   ]
  },
  {
   "cell_type": "code",
   "execution_count": 18,
   "metadata": {},
   "outputs": [
    {
     "name": "stdout",
     "output_type": "stream",
     "text": [
      "Accuracy for 100 features: 0.8278846998283068\n",
      "Accuracy for 200 features: 0.8929027509268933\n",
      "Accuracy for 300 features: 0.9104214286857175\n",
      "Accuracy for 400 features: 0.9219471461755656\n",
      "Accuracy for 500 features: 0.927425784560871\n",
      "Accuracy for 600 features: 0.9293075756412965\n",
      "Accuracy for 700 features: 0.9300168481948522\n",
      "Accuracy for 800 features: 0.930257775196672\n",
      "Accuracy for 900 features: 0.9303785236822667\n",
      "Accuracy for 1000 features: 0.9306647464045046\n",
      "Accuracy for 1100 features: 0.9309245713991342\n",
      "Accuracy for 1200 features: 0.9312472351243654\n",
      "Accuracy for 1300 features: 0.9315315500743464\n",
      "Accuracy for 1400 features: 0.9317705272565194\n",
      "Accuracy for 1500 features: 0.93185290817257\n",
      "Accuracy for 1600 features: 0.9316738598461629\n",
      "Accuracy for 1700 features: 0.9318540030007789\n",
      "Accuracy for 1800 features: 0.9320542569456041\n",
      "Accuracy for 1900 features: 0.9321135157761241\n",
      "Accuracy for 2000 features: 0.9322958455697472\n",
      "Accuracy for 2100 features: 0.9321496415021607\n",
      "Accuracy for 2200 features: 0.9319861022715107\n",
      "Accuracy for 2300 features: 0.9323789729781755\n",
      "Accuracy for 2400 features: 0.9326257153510995\n",
      "Accuracy for 2500 features: 0.9329091787029633\n",
      "Accuracy for 2600 features: 0.9328666296774233\n",
      "Accuracy for 2700 features: 0.9329885401761836\n",
      "Accuracy for 2800 features: 0.9331281442715502\n",
      "Accuracy for 2900 features: 0.9330286752554747\n",
      "Accuracy for 3000 features: 0.9331688750433711\n",
      "Accuracy for 3100 features: 0.933291132367386\n",
      "Accuracy for 3200 features: 0.9333132949833206\n",
      "Accuracy for 3300 features: 0.9334329266007853\n",
      "Accuracy for 3400 features: 0.9332509780139127\n",
      "Accuracy for 3500 features: 0.9332487190343807\n",
      "Accuracy for 3600 features: 0.9332878571649348\n",
      "Accuracy for 3700 features: 0.9331268372799328\n",
      "Accuracy for 3800 features: 0.9330865047049204\n",
      "Accuracy for 3900 features: 0.933186897847593\n",
      "Accuracy for 4000 features: 0.9331663171476319\n",
      "Accuracy for 4100 features: 0.9331879767949403\n",
      "Accuracy for 4200 features: 0.9331081473621708\n",
      "Accuracy for 4300 features: 0.9330899417664343\n",
      "Accuracy for 4400 features: 0.9330485409693677\n",
      "Accuracy for 4500 features: 0.9330708446213603\n",
      "Accuracy for 4600 features: 0.9330108762959887\n",
      "Accuracy for 4700 features: 0.9329697511603066\n",
      "Accuracy for 4800 features: 0.93313121114354\n",
      "Accuracy for 4900 features: 0.9329489822887879\n",
      "Accuracy for 5000 features: 0.9331350750002083\n"
     ]
    }
   ],
   "source": [
    "nfeatures_results_rf = []\n",
    "nfeatures_values = range(100, 5100, 100)\n",
    "for n in nfeatures_values:\n",
    "    accuracies, _ = evaluate_cv(train_dataset, LogisticRegression(random_state=0),\n",
    "                                feature_fun=get_tfidf_features,\n",
    "                                feature_selector=select_features_rf,\n",
    "                                nfeatures=n, ngrams=(2, 4))\n",
    "    nfeatures_results_rf.append(mean(accuracies))\n",
    "    print('Accuracy for {} features: {}'.format(n, mean(accuracies)))"
   ]
  },
  {
   "cell_type": "code",
   "execution_count": 19,
   "metadata": {},
   "outputs": [
    {
     "data": {
      "image/png": "[encoded data removed]",
      "text/plain": [
       "<Figure size 432x288 with 1 Axes>"
      ]
     },
     "metadata": {
      "needs_background": "light"
     },
     "output_type": "display_data"
    }
   ],
   "source": [
    "plt.plot(nfeatures_values, nfeatures_results, color='#4f5858')\n",
    "plt.plot(nfeatures_values, nfeatures_results_rf, color='#3eb1c8')\n",
    "plt.legend(['without selection', 'with selection (RF)'], bbox_to_anchor=(0.9, 1.2), ncol=3)\n",
    "plt.xticks(list(range(200, 5100, 600)))\n",
    "plt.xlabel('Number of features')\n",
    "plt.ylabel('Accuracy')\n",
    "plt.show()"
   ]
  },
  {
   "cell_type": "markdown",
   "metadata": {},
   "source": [
    "We can see that in a small range RF selection results in slightly better performance, but as we increase the number of features, no selection outperforms RF-based selection.\n",
    "\n",
    "We will also try a simpler selection method, based on chi-squared correlations:"
   ]
  },
  {
   "cell_type": "code",
   "execution_count": 20,
   "metadata": {},
   "outputs": [
    {
     "name": "stdout",
     "output_type": "stream",
     "text": [
      "Accuracy for 100 features: 0.7948929833593388\n",
      "Accuracy for 200 features: 0.8372554144415618\n",
      "Accuracy for 300 features: 0.8650424907162075\n",
      "Accuracy for 400 features: 0.882024272384472\n",
      "Accuracy for 500 features: 0.8900917276085779\n",
      "Accuracy for 600 features: 0.9000633307326\n",
      "Accuracy for 700 features: 0.9231930407366201\n",
      "Accuracy for 800 features: 0.9270940325441933\n",
      "Accuracy for 900 features: 0.9297021469815446\n",
      "Accuracy for 1000 features: 0.9337379251532074\n",
      "Accuracy for 1100 features: 0.9349876883438596\n",
      "Accuracy for 1200 features: 0.9356350104670708\n",
      "Accuracy for 1300 features: 0.9365328655581078\n",
      "Accuracy for 1400 features: 0.937075811831808\n",
      "Accuracy for 1500 features: 0.9373012637179863\n",
      "Accuracy for 1600 features: 0.937863906034656\n",
      "Accuracy for 1700 features: 0.9382887869814172\n",
      "Accuracy for 1800 features: 0.9384117935635491\n",
      "Accuracy for 1900 features: 0.938412934607743\n",
      "Accuracy for 2000 features: 0.9385547254880834\n",
      "Accuracy for 2100 features: 0.9389572819980935\n",
      "Accuracy for 2200 features: 0.9391164337281375\n",
      "Accuracy for 2300 features: 0.9392180245206341\n",
      "Accuracy for 2400 features: 0.9394134557285302\n",
      "Accuracy for 2500 features: 0.9396974720979523\n",
      "Accuracy for 2600 features: 0.9396597739260725\n",
      "Accuracy for 2700 features: 0.9397846350261635\n",
      "Accuracy for 2800 features: 0.9398225493403655\n",
      "Accuracy for 2900 features: 0.9399463313471426\n",
      "Accuracy for 3000 features: 0.9403276481126525\n",
      "Accuracy for 3100 features: 0.940447516695444\n",
      "Accuracy for 3200 features: 0.9405518604475834\n",
      "Accuracy for 3300 features: 0.94069390082278\n",
      "Accuracy for 3400 features: 0.9405903533182907\n",
      "Accuracy for 3500 features: 0.940506512100449\n",
      "Accuracy for 3600 features: 0.9407109523649051\n",
      "Accuracy for 3700 features: 0.9406894088422892\n",
      "Accuracy for 3800 features: 0.9407922095204794\n",
      "Accuracy for 3900 features: 0.9409329376699822\n",
      "Accuracy for 4000 features: 0.9408499942662429\n",
      "Accuracy for 4100 features: 0.940806570681423\n",
      "Accuracy for 4200 features: 0.9410098862641616\n",
      "Accuracy for 4300 features: 0.9409701887053177\n",
      "Accuracy for 4400 features: 0.940969441251437\n",
      "Accuracy for 4500 features: 0.9411513372115932\n",
      "Accuracy for 4600 features: 0.9411950705838799\n",
      "Accuracy for 4700 features: 0.9413150537425412\n",
      "Accuracy for 4800 features: 0.9412738961755661\n",
      "Accuracy for 4900 features: 0.9412738860778543\n",
      "Accuracy for 5000 features: 0.9412946248039312\n"
     ]
    }
   ],
   "source": [
    "nfeatures_results_chi2 = []\n",
    "nfeatures_values = range(100, 5100, 100)\n",
    "for n in nfeatures_values:\n",
    "    accuracies, _ = evaluate_cv(train_dataset, LogisticRegression(random_state=0),\n",
    "                                feature_fun=get_tfidf_features,\n",
    "                                feature_selector=select_features_chi2,\n",
    "                                nfeatures=n, ngrams=(2, 4))\n",
    "    nfeatures_results_chi2.append(mean(accuracies))\n",
    "    print('Accuracy for {} features: {}'.format(n, mean(accuracies)))"
   ]
  },
  {
   "cell_type": "code",
   "execution_count": 21,
   "metadata": {},
   "outputs": [
    {
     "data": {
      "image/png": "[encoded data removed]",
      "text/plain": [
       "<Figure size 432x288 with 1 Axes>"
      ]
     },
     "metadata": {
      "needs_background": "light"
     },
     "output_type": "display_data"
    }
   ],
   "source": [
    "plt.plot(nfeatures_values, nfeatures_results, color='#4f5858')\n",
    "plt.plot(nfeatures_values, nfeatures_results_rf, color='#3eb1c8')\n",
    "plt.plot(nfeatures_values, nfeatures_results_chi2, color='#ef3340')\n",
    "plt.legend(['without selection', 'with selection (RF)', 'with selection (Chi^2)'],\n",
    "           bbox_to_anchor=(1.1, 1.2), ncol=3)\n",
    "plt.xticks(list(range(200, 5100, 600)))\n",
    "plt.xlabel('Number of features')\n",
    "plt.ylabel('Accuracy')\n",
    "plt.show()"
   ]
  },
  {
   "cell_type": "markdown",
   "metadata": {},
   "source": [
    "The best accuracy was given by chi-squared selection with 5000 features. We will use that from now on.\n",
    "\n",
    "## Final model"
   ]
  },
  {
   "cell_type": "code",
   "execution_count": 22,
   "metadata": {},
   "outputs": [
    {
     "name": "stdout",
     "output_type": "stream",
     "text": [
      "Fold accuracies: [0.9400484457004441, 0.9454752772882762, 0.9391561353444762, 0.9412355600200905, 0.940557705666369]\n",
      "Mean accuracy: 0.9412946248039312\n"
     ]
    }
   ],
   "source": [
    "accuracies, _ = evaluate_cv(train_dataset, LogisticRegression(random_state=0),\n",
    "                            feature_fun=get_tfidf_features, feature_selector=select_features_chi2,\n",
    "                            nfeatures=5000, ngrams=(2, 4))\n",
    "print('Fold accuracies: {}'.format(accuracies))\n",
    "print('Mean accuracy: {}'.format(mean(accuracies)))"
   ]
  },
  {
   "cell_type": "markdown",
   "metadata": {},
   "source": [
    "Let's also add one more feature (string length) to our feature representation."
   ]
  },
  {
   "cell_type": "code",
   "execution_count": 23,
   "metadata": {},
   "outputs": [
    {
     "name": "stdout",
     "output_type": "stream",
     "text": [
      "Fold accuracies: [0.9404521598708114, 0.9465118689748109, 0.9390542193232776, 0.9403314917127071, 0.9409546492011511]\n",
      "Mean accuracy: 0.9414608778165516\n"
     ]
    }
   ],
   "source": [
    "accuracies, dataset_results_cv = evaluate_cv(train_dataset, LogisticRegression(random_state=0),\n",
    "                                             feature_fun=get_features,\n",
    "                                             feature_selector=select_features_chi2,\n",
    "                                             nfeatures=5000, ngrams=(2, 4))\n",
    "print('Fold accuracies: {}'.format(accuracies))\n",
    "print('Mean accuracy: {}'.format(mean(accuracies)))"
   ]
  },
  {
   "cell_type": "markdown",
   "metadata": {},
   "source": [
    "Let's see the confusion matrix:"
   ]
  },
  {
   "cell_type": "code",
   "execution_count": 24,
   "metadata": {},
   "outputs": [
    {
     "data": {
      "image/png": "[encoded data removed]",
      "text/plain": [
       "<Figure size 720x720 with 2 Axes>"
      ]
     },
     "metadata": {
      "needs_background": "light"
     },
     "output_type": "display_data"
    }
   ],
   "source": [
    "matrix = confusion_matrix(dataset_results_cv['style_true'], dataset_results_cv['style_pred'])\n",
    "\n",
    "fig, ax = plt.subplots(figsize=(10,10))\n",
    "sns.heatmap(matrix, annot=True, fmt='d', xticklabels=STYLES, yticklabels=STYLES + ['unknown'],\n",
    "            cmap='Blues')\n",
    "plt.ylabel('Actual')\n",
    "plt.xlabel('Predicted')\n",
    "plt.show()"
   ]
  },
  {
   "cell_type": "markdown",
   "metadata": {},
   "source": [
    "Everything looks pretty good apart from the pair (chicago-author-date, american-sociological-association), which seem to be confused a lot by the classifier.\n",
    "\n",
    "This function will show the reference string pairs from the two given  styles for all DOI that were mislabelled."
   ]
  },
  {
   "cell_type": "code",
   "execution_count": 25,
   "metadata": {},
   "outputs": [],
   "source": [
    "def get_diff(actual, predicted):\n",
    "    diff_df = dataset_results_cv.loc[dataset_results_cv['style_true'] == actual]\n",
    "    diff_dois = diff_df.loc[diff_df['style_pred'] == predicted]['doi']\n",
    "    diff_df = dataset_results_cv.loc[dataset_results_cv['doi'].isin(diff_dois)]\n",
    "    diff_df = diff_df.loc[diff_df['style_true'].isin([actual, predicted])].sort_values(by='doi')\n",
    "    strings = [re.sub('^\\(1\\)', '', re.sub('^\\[1\\]', '',\n",
    "                                           re.sub('^1', '', re.sub('\\.$', '', s)))).strip()\n",
    "               for s in diff_df['string']]\n",
    "    strings_0 = [s for i, s in enumerate(strings) if i%2 == 0]\n",
    "    strings_1 = [s for i, s in enumerate(strings) if i%2 == 1]\n",
    "    return list(zip(strings_0, strings_1))"
   ]
  },
  {
   "cell_type": "code",
   "execution_count": 26,
   "metadata": {},
   "outputs": [
    {
     "data": {
      "text/plain": [
       "[('Runne, Uee. 1977. “Cutaneous Neural Proliferation in Highly Pruritic Lesions of Chronic Prurigo.” Archives of Dermatology 113(6):787',\n",
       "  'Runne, Uee. 1977. “Cutaneous Neural Proliferation in Highly Pruritic Lesions of Chronic Prurigo.” Archives of Dermatology 113 (6) : 787'),\n",
       " ('Senders, C. W., and J. M. Sykes. 1993. “Advances in Palatoplasty.” Archives of Otolaryngology - Head and Neck Surgery 119 (4) : 375–377',\n",
       "  'Senders, C. W., and J. M. Sykes. 1993. “Advances in Palatoplasty.” Archives of Otolaryngology - Head and Neck Surgery 119(4):375–77'),\n",
       " ('Moak, Harris. 1905. “Report of Acetanilid Mixtures.” JAMA: The Journal of the American Medical Association XLIV(24):1946',\n",
       "  'Moak, Harris. 1905. “Report of Acetanilid Mixtures.” JAMA: The Journal of the American Medical Association XLIV (24) : 1946'),\n",
       " ('Silver, Bruce. 1979. “Double Contrast Gastrointestinal Radiology With Endoscopic Correlation.” JAMA: The Journal of the American Medical Association 242 (17) : 1917',\n",
       "  'Silver, Bruce. 1979. “Double Contrast Gastrointestinal Radiology With Endoscopic Correlation.” JAMA: The Journal of the American Medical Association 242(17):1917'),\n",
       " ('Cramer, Daniel W. 1987. “The Relationship of Tubal Infertility to Barrier Method and Oral Contraceptive Use.” JAMA: The Journal of the American Medical Association 257(18):2446',\n",
       "  'Cramer, Daniel W. 1987. “The Relationship of Tubal Infertility to Barrier Method and Oral Contraceptive Use.” JAMA: The Journal of the American Medical Association 257 (18) : 2446'),\n",
       " ('Kaiser, Harry M. 2003. “Distribution of Benefits and Costs of Commodity Checkoff Programs: Introductory Remarks.” Agribusiness 19 (3): 273–275',\n",
       "  'Kaiser, Harry M. 2003. “Distribution of Benefits and Costs of Commodity Checkoff Programs: Introductory Remarks.” Agribusiness 19(3):273–75'),\n",
       " ('Abraham, Otto. 1919. “Zur Akustik Des Knalles.” Annalen der Physik 365(17):55–76',\n",
       "  'Abraham, Otto. 1919. “Zur Akustik Des Knalles.” Annalen Der Physik 365 (17): 55–76'),\n",
       " ('Bradlow, Eric T. 2005. “Current Issues and a ‘wish List’ for Conjoint Analysis.” Applied Stochastic Models in Business and Industry 21(4-5):319–23',\n",
       "  'Bradlow, Eric T. 2005. “Current Issues and a ‘wish List’ for Conjoint Analysis.” Applied Stochastic Models in Business and Industry 21 (4-5): 319–323'),\n",
       " ('Marx, Steffen. 2011. “Versuch Macht Klug.” Bautechnik 88(11):739–739',\n",
       "  'Marx, Steffen. 2011. “Versuch Macht Klug.” Bautechnik 88 (11) : 739–739'),\n",
       " ('Sheppard, John D., and David G. Cooper. 1990. “Development of Computerized Feedback Control for the Continuous Phasing ofBacillus Subtilis.” Biotechnology and Bioengineering 36 (5) : 539–545',\n",
       "  'Sheppard, John D., and David G. Cooper. 1990. “Development of Computerized Feedback Control for the Continuous Phasing ofBacillus Subtilis.” Biotechnology and Bioengineering 36(5):539–45'),\n",
       " ('Jagjivan, B., D. J. Moore, and D. R. Naik. 1988. “Relative Merits of Ultrasound and Intravenous Urography in the Investigation of the Urinary Tract.” British Journal of Surgery 75 (3) : 246–248',\n",
       "  'Jagjivan, B., D. J. Moore, and D. R. Naik. 1988. “Relative Merits of Ultrasound and Intravenous Urography in the Investigation of the Urinary Tract.” British Journal of Surgery 75(3):246–48'),\n",
       " ...\n",
       " ('Dawson, Jeremy, and Michael West. 2012. “A Closer Look at How We Feel.” Nursing Standard 26(43):62–63',\n",
       "  'Dawson, Jeremy, and Michael West. 2012. “A Closer Look at How We Feel.” Nursing Standard 26 (43) : 62–63'),\n",
       " ('Gurovich, L.A., L.M. Vergara, and Y. Ton. 2006. “Rrigation Scheduling of Avocado Using Phytomonitoring Techniques.” Ciencia e Investigación Agraria 33 (2) : 97–104',\n",
       "  'Gurovich, L. A., L. M. Vergara, and Y. Ton. 2006. “Rrigation Scheduling of Avocado Using Phytomonitoring Techniques.” Ciencia e investigación agraria 33(2):97–104'),\n",
       " ('Fauser, Markus. 2004. “Wissen Als Unterhaltung.” Edited by Richard van Dülmen and Sina Rauschenbach. Macht Des Wissens',\n",
       "  'Fauser, Markus. 2004. “Wissen Als Unterhaltung” edited by Richard van Dülmen and Sina Rauschenbach. Macht des Wissens'),\n",
       " ('Afanasyeva, Olga. 2014. “Temporal and Modal Nominal Constructions in Chinese.” Journal of Language and Literature 5(3):100–105',\n",
       "  'Afanasyeva, Olga. 2014. “Temporal and Modal Nominal Constructions in Chinese.” Journal of Language and Literature 5 (3) : 100–105'),\n",
       " ('YANAGISAWA, Ken, Naoyuki SATO, Teruo TACHIBANA, and Koomi KANAI. 1956. “A NEW ANTIBIOTIC AGAINST TUBERCLE BACILLI (HOMOMYCIN).” Japanese Journal of Medical Science and Biology 9(3):129–32',\n",
       "  'YANAGISAWA, Ken, Naoyuki SATO, Teruo TACHIBANA, and Koomi KANAI. 1956. “A NEW ANTIBIOTIC AGAINST TUBERCLE BACILLI (HOMOMYCIN).” Japanese Journal of Medical Science and Biology 9 (3): 129–132')]"
      ]
     },
     "execution_count": 26,
     "metadata": {},
     "output_type": "execute_result"
    }
   ],
   "source": [
    "get_diff('chicago-author-date', 'american-sociological-association')"
   ]
  },
  {
   "cell_type": "markdown",
   "metadata": {},
   "source": [
    "In a lot of cases the reference strings are very similar, or identical. No wonder the classifier has problems differentiating between the styles.\n",
    "\n",
    "Finally, let's test a few learning algorithms using previously chosen parameters:"
   ]
  },
  {
   "cell_type": "code",
   "execution_count": 27,
   "metadata": {},
   "outputs": [
    {
     "name": "stdout",
     "output_type": "stream",
     "text": [
      "Accuracy for Naive Bayes algorithm 0.9103134389822651\n",
      "Accuracy for Logistic Regression algorithm 0.9414608778165516\n",
      "Accuracy for Linear SVC algorithm 0.8785711019559472\n",
      "Accuracy for Random Forest algorithm 0.8366014976871423\n"
     ]
    }
   ],
   "source": [
    "algo_results = []\n",
    "for name, algo in [('Naive Bayes', MultinomialNB()),\n",
    "                   ('Logistic Regression', LogisticRegression(random_state=0)),\n",
    "                   ('Linear SVC', LinearSVC(random_state=0)),\n",
    "                   ('Random Forest', RandomForestClassifier(n_estimators=200, max_depth=3,\n",
    "                                                            random_state=0))]:\n",
    "    accuracies, _ = evaluate_cv(train_dataset, algo, feature_fun=get_features,\n",
    "                                feature_selector=select_features_chi2,\n",
    "                                nfeatures=5000, ngrams=(2, 4))\n",
    "    algo_results.extend([(name, fold, accuracy) for fold, accuracy in enumerate(accuracies)])\n",
    "    print('Accuracy for {} algorithm {}'.format(name, mean(accuracies)))"
   ]
  },
  {
   "cell_type": "code",
   "execution_count": 28,
   "metadata": {},
   "outputs": [
    {
     "data": {
      "image/png": "[encoded data removed]",
      "text/plain": [
       "<Figure size 432x288 with 1 Axes>"
      ]
     },
     "metadata": {
      "needs_background": "light"
     },
     "output_type": "display_data"
    }
   ],
   "source": [
    "cv_df = pd.DataFrame(algo_results, columns=['model', 'fold', 'accuracy'])\n",
    "ax = sns.boxplot(x='model', y='accuracy', data=cv_df, color=\"#d8d2c4\")\n",
    "ax.set_xlabel('')\n",
    "plt.setp(ax.get_xticklabels(), rotation=45)\n",
    "plt.show()"
   ]
  },
  {
   "cell_type": "markdown",
   "metadata": {},
   "source": [
    "It seems logistic regression results in the best accuracy averaged over the folds. Also the variance of the results in this case is small.\n",
    "\n",
    "Finally, let's fit the model to the entire train set and evaluate on the main test set:"
   ]
  },
  {
   "cell_type": "code",
   "execution_count": 29,
   "metadata": {},
   "outputs": [
    {
     "name": "stdout",
     "output_type": "stream",
     "text": [
      "The final accuracy: 0.941838903713084\n"
     ]
    }
   ],
   "source": [
    "count_vectorizer, tfidf_transformer, train_features = \\\n",
    "    get_features(train_dataset['string'], nfeatures=5000, feature_selector=select_features_chi2,\n",
    "                 ngrams=(2, 4))\n",
    "_, _, test_features = get_features(test_dataset['string'], count_vectorizer=count_vectorizer,\n",
    "                                   tfidf_transformer=tfidf_transformer)\n",
    "model = LogisticRegression(random_state=0).fit(train_features, train_dataset['style'])\n",
    "prediction = model.predict(test_features)\n",
    "print('The final accuracy: {}'.format(accuracy_score(test_dataset['style'], prediction)))"
   ]
  },
  {
   "cell_type": "markdown",
   "metadata": {},
   "source": [
    "The final unbiased accuracy estimate is 94.2%."
   ]
  }
 ],
 "metadata": {
  "kernelspec": {
   "display_name": "Python 3",
   "language": "python",
   "name": "python3"
  },
  "language_info": {
   "codemirror_mode": {
    "name": "ipython",
    "version": 3
   },
   "file_extension": ".py",
   "mimetype": "text/x-python",
   "name": "python",
   "nbconvert_exporter": "python",
   "pygments_lexer": "ipython3",
   "version": "3.6.6"
  }
 },
 "nbformat": 4,
 "nbformat_minor": 2
}
