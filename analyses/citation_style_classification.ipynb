{
 "cells": [
  {
   "cell_type": "markdown",
   "metadata": {},
   "source": [
    "# Inferring citation style from the reference string\n",
    "Dominika Tkaczyk\n",
    "\n",
    "16.11.2018\n",
    "\n",
    "This notebook contains the experiments related to inferring citation style from the reference string. The main goal is to build a supervised classifier able to classify the given reference string into one of the known styles."
   ]
  },
  {
   "cell_type": "code",
   "execution_count": 1,
   "metadata": {},
   "outputs": [
    {
     "name": "stderr",
     "output_type": "stream",
     "text": [
      "/home/dtkaczyk/.local/lib/python3.6/site-packages/sklearn/ensemble/weight_boosting.py:29: DeprecationWarning: numpy.core.umath_tests is an internal NumPy module and should not be imported. It will be removed in a future NumPy release.\n",
      "  from numpy.core.umath_tests import inner1d\n"
     ]
    }
   ],
   "source": [
    "import sys\n",
    "sys.path.append('..')\n",
    "\n",
    "%matplotlib inline\n",
    "\n",
    "import warnings\n",
    "warnings.simplefilter('ignore')\n",
    "\n",
    "import matplotlib.pyplot as plt\n",
    "import numpy as np\n",
    "import pandas as pd\n",
    "import re\n",
    "import seaborn as sns\n",
    "\n",
    "from config import STYLES\n",
    "from dataset import add_noise, clean_data, read_ref_strings_data, remove_technical_parts, rearrange_tokens, \\\n",
    "    generate_unknown\n",
    "from evaluation import evaluate_cv\n",
    "from features import get_features, get_tfidf_features, select_features_chi2, select_features_rf, tokens_to_classes\n",
    "from random import randint, seed\n",
    "from sklearn.ensemble import RandomForestClassifier\n",
    "from sklearn.feature_selection import chi2\n",
    "from sklearn.linear_model import LogisticRegression\n",
    "from sklearn.metrics import accuracy_score, confusion_matrix\n",
    "from sklearn.model_selection import train_test_split\n",
    "from sklearn.naive_bayes import MultinomialNB\n",
    "from sklearn.svm import LinearSVC\n",
    "from statistics import mean"
   ]
  },
  {
   "cell_type": "markdown",
   "metadata": {},
   "source": [
    "## Preparing the data\n",
    "\n",
    "### Reading the data\n",
    "\n",
    "We are considering the following 17 styles in these experiments:"
   ]
  },
  {
   "cell_type": "code",
   "execution_count": 2,
   "metadata": {},
   "outputs": [
    {
     "data": {
      "text/plain": [
       "['acm-sig-proceedings',\n",
       " 'american-chemical-society',\n",
       " 'american-chemical-society-with-titles',\n",
       " 'american-institute-of-physics',\n",
       " 'american-sociological-association',\n",
       " 'apa',\n",
       " 'bmc-bioinformatics',\n",
       " 'chicago-author-date',\n",
       " 'elsevier-without-titles',\n",
       " 'elsevier-with-titles',\n",
       " 'harvard3',\n",
       " 'ieee',\n",
       " 'iso690-author-date-en',\n",
       " 'modern-language-association',\n",
       " 'springer-basic-author-date',\n",
       " 'springer-lecture-notes-in-computer-science',\n",
       " 'vancouver']"
      ]
     },
     "execution_count": 2,
     "metadata": {},
     "output_type": "execute_result"
    }
   ],
   "source": [
    "STYLES"
   ]
  },
  {
   "cell_type": "markdown",
   "metadata": {},
   "source": [
    "The data for the experiments was generated automatically by formatting 5k metadata records (randomly chosen from the Crossref collection) into 17 styles. This resulted in 85k pairs (reference string, citation style name). We also keep the DOI of the metadata record used to generate the reference string."
   ]
  },
  {
   "cell_type": "code",
   "execution_count": 3,
   "metadata": {},
   "outputs": [
    {
     "name": "stdout",
     "output_type": "stream",
     "text": [
      "Dataset size: 85000\n"
     ]
    },
    {
     "data": {
      "text/html": [
       "<div>\n",
       "<style scoped>\n",
       "    .dataframe tbody tr th:only-of-type {\n",
       "        vertical-align: middle;\n",
       "    }\n",
       "\n",
       "    .dataframe tbody tr th {\n",
       "        vertical-align: top;\n",
       "    }\n",
       "\n",
       "    .dataframe thead th {\n",
       "        text-align: right;\n",
       "    }\n",
       "</style>\n",
       "<table border=\"1\" class=\"dataframe\">\n",
       "  <thead>\n",
       "    <tr style=\"text-align: right;\">\n",
       "      <th></th>\n",
       "      <th>doi</th>\n",
       "      <th>style</th>\n",
       "      <th>string</th>\n",
       "    </tr>\n",
       "  </thead>\n",
       "  <tbody>\n",
       "    <tr>\n",
       "      <th>0</th>\n",
       "      <td>10.1016/s0002-9394(14)70125-4</td>\n",
       "      <td>acm-sig-proceedings</td>\n",
       "      <td>[1]LEE, S.-H. and TSENG, S.C.G. 1997. Amniotic...</td>\n",
       "    </tr>\n",
       "    <tr>\n",
       "      <th>1</th>\n",
       "      <td>10.1016/0920-9964(95)95073-i</td>\n",
       "      <td>acm-sig-proceedings</td>\n",
       "      <td>[1]Scheffer, R. et al. 1995. History of premor...</td>\n",
       "    </tr>\n",
       "    <tr>\n",
       "      <th>2</th>\n",
       "      <td>10.1075/cilt.97.22vek</td>\n",
       "      <td>acm-sig-proceedings</td>\n",
       "      <td>[1]Vekerdi, J. 1993. 4. Word formation in Gips...</td>\n",
       "    </tr>\n",
       "    <tr>\n",
       "      <th>3</th>\n",
       "      <td>10.1080/19761597.2013.810947</td>\n",
       "      <td>acm-sig-proceedings</td>\n",
       "      <td>[1]Kang, J. et al. 2013. Determinants of succe...</td>\n",
       "    </tr>\n",
       "    <tr>\n",
       "      <th>4</th>\n",
       "      <td>10.1016/0378-1119(79)90090-8</td>\n",
       "      <td>acm-sig-proceedings</td>\n",
       "      <td>[1]Wickens, M.P. et al. 1979. Restriction map ...</td>\n",
       "    </tr>\n",
       "  </tbody>\n",
       "</table>\n",
       "</div>"
      ],
      "text/plain": [
       "                             doi                style  \\\n",
       "0  10.1016/s0002-9394(14)70125-4  acm-sig-proceedings   \n",
       "1   10.1016/0920-9964(95)95073-i  acm-sig-proceedings   \n",
       "2          10.1075/cilt.97.22vek  acm-sig-proceedings   \n",
       "3   10.1080/19761597.2013.810947  acm-sig-proceedings   \n",
       "4   10.1016/0378-1119(79)90090-8  acm-sig-proceedings   \n",
       "\n",
       "                                              string  \n",
       "0  [1]LEE, S.-H. and TSENG, S.C.G. 1997. Amniotic...  \n",
       "1  [1]Scheffer, R. et al. 1995. History of premor...  \n",
       "2  [1]Vekerdi, J. 1993. 4. Word formation in Gips...  \n",
       "3  [1]Kang, J. et al. 2013. Determinants of succe...  \n",
       "4  [1]Wickens, M.P. et al. 1979. Restriction map ...  "
      ]
     },
     "execution_count": 3,
     "metadata": {},
     "output_type": "execute_result"
    }
   ],
   "source": [
    "dataset = read_ref_strings_data('../data/dataset/')\n",
    "print('Dataset size: {}'.format(dataset.shape[0]))\n",
    "dataset.head()"
   ]
  },
  {
   "cell_type": "markdown",
   "metadata": {},
   "source": [
    "Let's see example entries for each style:"
   ]
  },
  {
   "cell_type": "code",
   "execution_count": 4,
   "metadata": {},
   "outputs": [
    {
     "name": "stdout",
     "output_type": "stream",
     "text": [
      "acm-sig-proceedings\n",
      "[1]Dorofeev, Y.G. et al. 1990. Effect of carbonyl iron powder additions on the properties of materials produced by dynamic hot pressing. Soviet Powder Metallurgy and Metal Ceramics. 29, 6 (Jun. 1990), 427–430.\n",
      "\n",
      "american-chemical-society\n",
      "(1) Dorofeev, Y. G.; Marinenko, L. G.; Ustimenko, V. I. Soviet Powder Metallurgy and Metal Ceramics 1990, 29, 427–430.\n",
      "\n",
      "american-chemical-society-with-titles\n",
      "(1) Dorofeev, Y. G.; Marinenko, L. G.; Ustimenko, V. I. Effect of Carbonyl Iron Powder Additions on the Properties of Materials Produced by Dynamic Hot Pressing. Soviet Powder Metallurgy and Metal Ceramics 1990, 29, 427–430.\n",
      "\n",
      "american-institute-of-physics\n",
      "1 Y.G. Dorofeev, L.G. Marinenko, and V.I. Ustimenko, Soviet Powder Metallurgy and Metal Ceramics 29, 427 (1990).\n",
      "\n",
      "american-sociological-association\n",
      "Dorofeev, Yu. G., L. G. Marinenko, and V. I. Ustimenko. 1990. “Effect of Carbonyl Iron Powder Additions on the Properties of Materials Produced by Dynamic Hot Pressing.” Soviet Powder Metallurgy and Metal Ceramics 29(6):427–30. Retrieved\n",
      "\n",
      "apa\n",
      "Dorofeev, Y. G., Marinenko, L. G., & Ustimenko, V. I. (1990). Effect of carbonyl iron powder additions on the properties of materials produced by dynamic hot pressing. Soviet Powder Metallurgy and Metal Ceramics, 29(6), 427–430.\n",
      "\n",
      "bmc-bioinformatics\n",
      "1. Dorofeev YG, Marinenko LG, Ustimenko VI: Effect of carbonyl iron powder additions on the properties of materials produced by dynamic hot pressing. Soviet Powder Metallurgy and Metal Ceramics 1990, 29:427–430.\n",
      "\n",
      "chicago-author-date\n",
      "Dorofeev, Yu. G., L. G. Marinenko, and V. I. Ustimenko. 1990. “Effect of Carbonyl Iron Powder Additions on the Properties of Materials Produced by Dynamic Hot Pressing.” Soviet Powder Metallurgy and Metal Ceramics 29 (6) (June): 427–430.\n",
      "\n",
      "elsevier-with-titles\n",
      "[1] Y.G. Dorofeev, L.G. Marinenko, V.I. Ustimenko, Effect of carbonyl iron powder additions on the properties of materials produced by dynamic hot pressing, Soviet Powder Metallurgy and Metal Ceramics. 29 (1990) 427–430.\n",
      "\n",
      "elsevier-without-titles\n",
      "[1] Y.G. Dorofeev, L.G. Marinenko, V.I. Ustimenko, Soviet Powder Metallurgy and Metal Ceramics 29 (1990) 427.\n",
      "\n",
      "harvard3\n",
      "Dorofeev, Y.G., Marinenko, L.G. & Ustimenko, V.I., 1990. Effect of carbonyl iron powder additions on the properties of materials produced by dynamic hot pressing. Soviet Powder Metallurgy and Metal Ceramics, 29(6), pp.427–430.\n",
      "\n",
      "ieee\n",
      "[1]Y. G. Dorofeev, L. G. Marinenko, and V. I. Ustimenko, “Effect of carbonyl iron powder additions on the properties of materials produced by dynamic hot pressing,” Soviet Powder Metallurgy and Metal Ceramics, vol. 29, no. 6, pp. 427–430, Jun. 1990.\n",
      "\n",
      "iso690-author-date-en\n",
      "DOROFEEV, Yu. G., MARINENKO, L. G. and USTIMENKO, V. I., 1990, Effect of carbonyl iron powder additions on the properties of materials produced by dynamic hot pressing. Soviet Powder Metallurgy and Metal Ceramics [online]. June 1990. Vol. 29, no. 6, p. 427–430. Available from:\n",
      "\n",
      "modern-language-association\n",
      "Dorofeev, Yu. G., L. G. Marinenko, and V. I. Ustimenko. “Effect of Carbonyl Iron Powder Additions on the Properties of Materials Produced by Dynamic Hot Pressing.” Soviet Powder Metallurgy and Metal Ceramics 29.6 (1990): 427–430.\n",
      "\n",
      "springer-basic-author-date\n",
      "Dorofeev YG, Marinenko LG, Ustimenko VI (1990) Effect of carbonyl iron powder additions on the properties of materials produced by dynamic hot pressing. Soviet Powder Metallurgy and Metal Ceramics 29:427–430. doi:\n",
      "\n",
      "springer-lecture-notes-in-computer-science\n",
      "1. Dorofeev, Y.G., Marinenko, L.G., Ustimenko, V.I.: Effect of carbonyl iron powder additions on the properties of materials produced by dynamic hot pressing. Soviet Powder Metallurgy and Metal Ceramics. 29, 427–430 (1990).\n",
      "\n",
      "vancouver\n",
      "1. Dorofeev YG, Marinenko LG, Ustimenko VI. Effect of carbonyl iron powder additions on the properties of materials produced by dynamic hot pressing. Soviet Powder Metallurgy and Metal Ceramics [Internet]. Springer Nature; 1990 Jun;29(6):427–30. Available from:\n"
     ]
    }
   ],
   "source": [
    "seed(10)\n",
    "examples = dataset.groupby('style').nth(randint(0, 4999)).reset_index()\n",
    "print('\\n\\n'.join(['{}\\n{}'.format(s, t) for s, t in zip(examples['style'].tolist(), examples['string'].tolist())]))"
   ]
  },
  {
   "cell_type": "markdown",
   "metadata": {},
   "source": [
    "### Data cleaning\n",
    "\n",
    "First, let's get rid of null and very short reference strings:"
   ]
  },
  {
   "cell_type": "code",
   "execution_count": 5,
   "metadata": {},
   "outputs": [
    {
     "name": "stdout",
     "output_type": "stream",
     "text": [
      "Dataset size: 82834\n"
     ]
    }
   ],
   "source": [
    "dataset = clean_data(dataset)\n",
    "print('Dataset size: {}'.format(dataset.shape[0]))"
   ]
  },
  {
   "cell_type": "markdown",
   "metadata": {},
   "source": [
    "We also have some remains from DOI stripping and other \"technical\" fragments in the strings. We will remove those parts."
   ]
  },
  {
   "cell_type": "code",
   "execution_count": 6,
   "metadata": {},
   "outputs": [],
   "source": [
    "seed(0)\n",
    "dataset['string'] = dataset['string'].apply(remove_technical_parts)"
   ]
  },
  {
   "cell_type": "markdown",
   "metadata": {},
   "source": [
    "Reference strings generated automatically are also a bit too perfect. For example, all strings of american-chemical-society style are prefixed by \"(1)\". This prefix alone would be enough for the learning algorithm to assign a string to this style. On the other hand, we cannot expect all strings \"in real life\" to have a proper prefix (some tools/extractors might strip this).\n",
    "\n",
    "Also, the strings were generated from rich metadata records, and as a result, contain fragments such as the names of the months from the publication date. In practise, however, the dates are typically given as years only (\"(1997)\" instead of \"(Mar 1997)\").\n",
    "\n",
    "To make the dataset a bit less perfect, let's remove such fragments from some of the references:"
   ]
  },
  {
   "cell_type": "code",
   "execution_count": 7,
   "metadata": {},
   "outputs": [
    {
     "data": {
      "text/html": [
       "<div>\n",
       "<style scoped>\n",
       "    .dataframe tbody tr th:only-of-type {\n",
       "        vertical-align: middle;\n",
       "    }\n",
       "\n",
       "    .dataframe tbody tr th {\n",
       "        vertical-align: top;\n",
       "    }\n",
       "\n",
       "    .dataframe thead th {\n",
       "        text-align: right;\n",
       "    }\n",
       "</style>\n",
       "<table border=\"1\" class=\"dataframe\">\n",
       "  <thead>\n",
       "    <tr style=\"text-align: right;\">\n",
       "      <th></th>\n",
       "      <th>doi</th>\n",
       "      <th>style</th>\n",
       "      <th>string</th>\n",
       "    </tr>\n",
       "  </thead>\n",
       "  <tbody>\n",
       "    <tr>\n",
       "      <th>0</th>\n",
       "      <td>10.1016/s0002-9394(14)70125-4</td>\n",
       "      <td>acm-sig-proceedings</td>\n",
       "      <td>[1]LEE, S.-H. and TSENG, S.C.G. 1997. Amniotic...</td>\n",
       "    </tr>\n",
       "    <tr>\n",
       "      <th>1</th>\n",
       "      <td>10.1016/0920-9964(95)95073-i</td>\n",
       "      <td>acm-sig-proceedings</td>\n",
       "      <td>[1]Scheffer, R. et al. 1995. History of premor...</td>\n",
       "    </tr>\n",
       "    <tr>\n",
       "      <th>2</th>\n",
       "      <td>10.1075/cilt.97.22vek</td>\n",
       "      <td>acm-sig-proceedings</td>\n",
       "      <td>Vekerdi, J. 1993. 4. Word formation in Gipsy l...</td>\n",
       "    </tr>\n",
       "    <tr>\n",
       "      <th>3</th>\n",
       "      <td>10.1080/19761597.2013.810947</td>\n",
       "      <td>acm-sig-proceedings</td>\n",
       "      <td>Kang, J. et al. 2013. Determinants of successf...</td>\n",
       "    </tr>\n",
       "    <tr>\n",
       "      <th>4</th>\n",
       "      <td>10.1016/0378-1119(79)90090-8</td>\n",
       "      <td>acm-sig-proceedings</td>\n",
       "      <td>[1]Wickens, M.P. et al. 1979. Restriction map ...</td>\n",
       "    </tr>\n",
       "  </tbody>\n",
       "</table>\n",
       "</div>"
      ],
      "text/plain": [
       "                             doi                style  \\\n",
       "0  10.1016/s0002-9394(14)70125-4  acm-sig-proceedings   \n",
       "1   10.1016/0920-9964(95)95073-i  acm-sig-proceedings   \n",
       "2          10.1075/cilt.97.22vek  acm-sig-proceedings   \n",
       "3   10.1080/19761597.2013.810947  acm-sig-proceedings   \n",
       "4   10.1016/0378-1119(79)90090-8  acm-sig-proceedings   \n",
       "\n",
       "                                              string  \n",
       "0  [1]LEE, S.-H. and TSENG, S.C.G. 1997. Amniotic...  \n",
       "1  [1]Scheffer, R. et al. 1995. History of premor...  \n",
       "2  Vekerdi, J. 1993. 4. Word formation in Gipsy l...  \n",
       "3  Kang, J. et al. 2013. Determinants of successf...  \n",
       "4  [1]Wickens, M.P. et al. 1979. Restriction map ...  "
      ]
     },
     "execution_count": 7,
     "metadata": {},
     "output_type": "execute_result"
    }
   ],
   "source": [
    "seed(10)\n",
    "dataset['string'] = dataset['string'].apply(add_noise)\n",
    "dataset.head()"
   ]
  },
  {
   "cell_type": "markdown",
   "metadata": {},
   "source": [
    "Finally, we will add the \"unknown\" category to the dataset. The reference strings in this category will be generated by randomly swapping tokens in the \"proper\" reference strings."
   ]
  },
  {
   "cell_type": "code",
   "execution_count": 8,
   "metadata": {},
   "outputs": [
    {
     "name": "stdout",
     "output_type": "stream",
     "text": [
      "Dataset size: 87834\n"
     ]
    }
   ],
   "source": [
    "seed(0)\n",
    "dataset_unknown = generate_unknown(dataset, 5000, random_state=0)\n",
    "dataset = pd.concat([dataset, dataset_unknown])\n",
    "print('Dataset size: {}'.format(dataset.shape[0]))"
   ]
  },
  {
   "cell_type": "markdown",
   "metadata": {},
   "source": [
    "### Splitting the data\n",
    "\n",
    "We will split the dataset randomly into training (75%) and test (25%) sets. The training set will be used to find the best learning algorithm and its meta-parameters. The test set will be used once to evaluate the final chosen model. This provides a fair, unbiased estimate of the model performance.\n",
    "\n",
    "The data will be split based on DOIs, for better separation (i.e. all strings generated from a specific DOI will belong either to the train set or the test set)."
   ]
  },
  {
   "cell_type": "code",
   "execution_count": 9,
   "metadata": {},
   "outputs": [
    {
     "name": "stdout",
     "output_type": "stream",
     "text": [
      "Train dataset size: 65723\n",
      "Test dataset size: 22111\n"
     ]
    }
   ],
   "source": [
    "train_doi, test_doi = train_test_split(dataset['doi'].drop_duplicates(), random_state=0)\n",
    "train_dataset = dataset.loc[dataset['doi'].isin(train_doi)]\n",
    "test_dataset = dataset.loc[dataset['doi'].isin(test_doi)]\n",
    "print('Train dataset size: {}'.format(train_dataset.shape[0]))\n",
    "print('Test dataset size: {}'.format(test_dataset.shape[0]))"
   ]
  },
  {
   "cell_type": "markdown",
   "metadata": {},
   "source": [
    "## Feature representation\n",
    "\n",
    "We will use a TF-IDF bag-of-ngrams representation of the reference strings. In this case, however, the tokens will be different from the typical use case. We will leave punctuation characters as tokens, and map the actual words into word classes such as \"capitalized word\", or \"uppercase letter\". This is done to preserve the style-related information. We will also mark the beginning and the end of the string with special tokens.\n",
    "\n",
    "This function maps the tokens in the string into our token classes:"
   ]
  },
  {
   "cell_type": "code",
   "execution_count": 10,
   "metadata": {},
   "outputs": [
    {
     "data": {
      "text/plain": [
       "'start capword comma uclett dot uclett dot capword lcword capword year comma year comma num dash num dot end'"
      ]
     },
     "execution_count": 10,
     "metadata": {},
     "output_type": "execute_result"
    }
   ],
   "source": [
    "tokens_to_classes('Eberlein, T. J. Yearbook of Surgery 2006, 2006, 322–324.')"
   ]
  },
  {
   "cell_type": "markdown",
   "metadata": {},
   "source": [
    "## The basic model\n",
    "\n",
    "Let's now build some models and evaluate them. We will use logistic regression algorithm to predict the style from TF-IDFs of the tokens. We will use all {1,2}-grams we have in the train set. We will perform a 5-fold cross-validation on the train set, and look at the resulting accuracy.\n",
    "\n",
    "Function *get_tfidf_features* passed to the evaluation function calculates a matrix of TD-IDF features for the list of strings. It is typically called twice, first on the training set and then on the test set (in this case, it will be called twice for every cross-validation split). When called on the training set, it calculates the vocabulary and IDFs using the entire training set (this is called fitting). When called on the test set, nothing is learned from the entire test set, but we reuse the vocabulary and IDFs calculated previously on the training set."
   ]
  },
  {
   "cell_type": "code",
   "execution_count": 11,
   "metadata": {},
   "outputs": [
    {
     "name": "stdout",
     "output_type": "stream",
     "text": [
      "Fold accuracies: [0.9092652402099314, 0.9194568259562559, 0.9114349775784754, 0.9162230035158212, 0.9134663094174854]\n",
      "Mean accuracy: 0.9139692713355938\n"
     ]
    }
   ],
   "source": [
    "accuracies, _ = evaluate_cv(train_dataset, LogisticRegression(random_state=0), feature_fun=get_tfidf_features,\n",
    "                            ngrams=(1, 2), nfeatures=None, feature_selector=None)\n",
    "print('Fold accuracies: {}'.format(accuracies))\n",
    "print('Mean accuracy: {}'.format(mean(accuracies)))"
   ]
  },
  {
   "cell_type": "markdown",
   "metadata": {},
   "source": [
    "The accuracy is already decent.\n",
    "\n",
    "## Choosing the ngram range\n",
    "\n",
    "Let's now see how the ngram range affects the accuracy:"
   ]
  },
  {
   "cell_type": "code",
   "execution_count": 12,
   "metadata": {},
   "outputs": [
    {
     "name": "stdout",
     "output_type": "stream",
     "text": [
      "Accuracy for ngrams range (1, 1): 0.6465053840737089\n",
      "Accuracy for ngrams range (1, 2): 0.9139692713355938\n",
      "Accuracy for ngrams range (1, 3): 0.9361278289261937\n",
      "Accuracy for ngrams range (1, 4): 0.9404986946495688\n",
      "Accuracy for ngrams range (2, 2): 0.9175321081510199\n",
      "Accuracy for ngrams range (2, 3): 0.93820971684657\n",
      "Accuracy for ngrams range (2, 4): 0.9413294390030559\n",
      "Accuracy for ngrams range (3, 3): 0.9384542907874611\n",
      "Accuracy for ngrams range (3, 4): 0.9403969245628565\n",
      "Accuracy for ngrams range (4, 4): 0.9377062093109668\n"
     ]
    }
   ],
   "source": [
    "results = np.zeros((4, 4))\n",
    "for min_r in range(1, 5):\n",
    "    for max_r in range(min_r, 5):\n",
    "        accuracies, _ = evaluate_cv(train_dataset, LogisticRegression(random_state=0), feature_fun=get_tfidf_features,\n",
    "                                    ngrams=(min_r, max_r))\n",
    "        results[min_r-1, max_r-1] = mean(accuracies)\n",
    "        print('Accuracy for ngrams range ({}, {}): {}'.format(min_r, max_r, mean(accuracies)))"
   ]
  },
  {
   "cell_type": "code",
   "execution_count": 13,
   "metadata": {},
   "outputs": [
    {
     "data": {
      "image/png": "[encoded data removed]",
      "text/plain": [
       "<Figure size 288x288 with 2 Axes>"
      ]
     },
     "metadata": {
      "needs_background": "light"
     },
     "output_type": "display_data"
    }
   ],
   "source": [
    "fig, ax = plt.subplots(figsize=(4,4))\n",
    "sns.heatmap(results, annot=True, fmt='.4g', xticklabels=[1,2,3,4], yticklabels=[1,2,3,4])\n",
    "plt.ylabel('Ngram min')\n",
    "plt.xlabel('Ngram max')\n",
    "plt.show()"
   ]
  },
  {
   "cell_type": "markdown",
   "metadata": {},
   "source": [
    "Based on this, we will choose the range (2, 4).\n",
    " \n",
    "Let's calculate the features for our training set and look at the most frequent n-grams:"
   ]
  },
  {
   "cell_type": "code",
   "execution_count": 14,
   "metadata": {},
   "outputs": [
    {
     "name": "stdout",
     "output_type": "stream",
     "text": [
      "Number of features: 24003\n",
      "capword capword: 195121\n",
      "uclett dot: 149610\n",
      "lcword lcword: 137573\n",
      "capword comma: 123389\n",
      "capword lcword: 117669\n",
      "lcword capword: 107533\n",
      "dot capword: 103985\n",
      "lcword lcword lcword: 86536\n",
      "comma uclett: 79855\n",
      "capword lcword capword: 77304\n",
      "comma uclett dot: 77278\n",
      "comma capword: 67113\n",
      "capword comma uclett: 66191\n",
      "capword comma uclett dot: 65530\n",
      "lcword lcword lcword lcword: 63551\n",
      "capword capword capword: 59855\n",
      "capword dot: 57203\n",
      "lcword capword capword: 53550\n",
      "uclett dot capword: 49408\n",
      "capword capword lcword: 47698\n",
      "num dash: 43068\n",
      "dash num: 41990\n",
      "dot uclett: 41811\n",
      "capword lcword capword capword: 40863\n",
      "dot uclett dot: 39392\n",
      "num dash num: 39353\n",
      "uclett dot uclett: 39180\n",
      "uclett dot uclett dot: 38241\n",
      "dot capword comma: 38191\n",
      "capword capword lcword capword: 37662\n",
      "uclett dot capword comma: 35189\n",
      "lcword dot: 33134\n",
      "comma num: 32692\n",
      "dot end: 31597\n",
      "start capword: 30403\n",
      "num dot: 30352\n",
      "capword capword dot: 29571\n",
      "year rpar: 29383\n",
      "num lpar: 29126\n",
      "num comma: 28748\n",
      "lpar year: 28319\n",
      "lpar year rpar: 28144\n",
      "comma lcword: 27880\n",
      "capword lcword lcword: 27202\n",
      "comma uclett dot uclett: 27126\n",
      "capword comma capword: 26271\n",
      "dot num: 25803\n",
      "dot capword capword: 25553\n",
      "quot capword: 25500\n",
      "capword uclett: 24638\n"
     ]
    }
   ],
   "source": [
    "count_vectorizer, _, tfidf_features = get_tfidf_features(train_dataset['string'], ngrams=(2, 4))\n",
    "tfidf_feature_names = count_vectorizer.get_feature_names()\n",
    "print('Number of features: {}'.format(len(tfidf_feature_names)))\n",
    "\n",
    "occurrences = count_vectorizer.fit_transform(train_dataset['string']).toarray().sum(axis=0)\n",
    "indices = np.argsort(occurrences)[::-1]\n",
    "tfidf_feature_names = np.array(tfidf_feature_names)[indices]\n",
    "occurrences = np.array(occurrences)[indices]\n",
    "print('\\n'.join(['{}: {}'.format(p[0], p[1]) for p in list(zip(tfidf_feature_names, occurrences))[:50]]))"
   ]
  },
  {
   "cell_type": "markdown",
   "metadata": {},
   "source": [
    "We can see all types of ngrams. In most cases we can guess where they came from, eg. \"lcword lcword lcword lcword\" is typically a fragment of the title, and \"uclett dot capword comma\" looks like a fragment from the authors' list.\n",
    "\n",
    "We can also check which features are the most correlated with the styles. We will use chi-squared statistic for this:"
   ]
  },
  {
   "cell_type": "code",
   "execution_count": 15,
   "metadata": {},
   "outputs": [
    {
     "name": "stdout",
     "output_type": "stream",
     "text": [
      "\n",
      "Style: acm-sig-proceedings\n",
      "Most correlated bigrams: dot lcword|dot year|rbracket year|rpar comma|rbracket capword\n",
      "Most correlated trigrams: dot year rpar|num rbracket capword|rpar comma num|rbracket capword comma|year rpar comma\n",
      "Most correlated fourgrams: num rbracket capword comma|dot year dot capword|rbracket capword comma uclett|lpar year rpar comma|year rpar comma num\n",
      "\n",
      "Style: american-chemical-society\n",
      "Most correlated bigrams: year comma|capword year|start lpar|semicolon capword|dot semicolon\n",
      "Most correlated trigrams: start lpar num|comma num comma|semicolon capword comma|dot semicolon capword|uclett dot semicolon\n",
      "Most correlated fourgrams: comma uclett dot semicolon|year comma num comma|dot semicolon capword comma|semicolon capword comma uclett|uclett dot semicolon capword\n",
      "\n",
      "Style: american-chemical-society-with-titles\n",
      "Most correlated bigrams: year comma|capword year|start lpar|semicolon capword|dot semicolon\n",
      "Most correlated trigrams: start lpar num|comma num comma|semicolon capword comma|dot semicolon capword|uclett dot semicolon\n",
      "Most correlated fourgrams: year comma num comma|comma uclett dot semicolon|dot semicolon capword comma|semicolon capword comma uclett|uclett dot semicolon capword\n",
      "\n",
      "Style: american-institute-of-physics\n",
      "Most correlated bigrams: start uclett|lcword uclett|start num|rpar end|num uclett\n",
      "Most correlated trigrams: rpar dot end|year rpar end|num uclett dot|start num uclett|capword num comma\n",
      "Most correlated fourgrams: num comma num lpar|comma num lpar year|start num uclett dot|capword capword num comma|capword num comma num\n",
      "\n",
      "Style: american-sociological-association\n",
      "Most correlated bigrams: rpar colon|dot lclett|dot year|quot capword|dot quot\n",
      "Most correlated trigrams: num rpar colon|dot year dot|start capword dot|dot quot capword|year dot quot\n",
      "Most correlated fourgrams: dot quot capword capword|start capword dot year|capword num lpar num|year dot quot capword|dot year dot quot\n",
      "\n",
      "Style: apa\n",
      "Most correlated bigrams: rpar comma|dot comma|rpar dot|dot lpar|comma and\n",
      "Most correlated trigrams: dot lpar year|comma and capword|dot comma and|rpar dot capword|uclett dot lpar\n",
      "Most correlated fourgrams: uclett dot comma and|comma uclett dot lpar|num rpar comma num|uclett dot lpar year|year rpar dot capword\n",
      "\n",
      "Style: bmc-bioinformatics\n",
      "Most correlated bigrams: year colon|uclett comma|num colon|ucword colon|uclett colon\n",
      "Most correlated trigrams: ucword colon capword|uclett colon capword|capword ucword colon|capword uclett colon|comma num colon\n",
      "Most correlated fourgrams: comma capword uclett colon|capword uclett colon capword|capword ucword colon capword|comma num colon num|year comma num colon\n",
      "\n",
      "Style: chicago-author-date\n",
      "Most correlated bigrams: start quot|rpar lpar|quot year|quot capword|dot quot\n",
      "Most correlated trigrams: num rpar lpar|rpar lpar capword|quot year dot|dot quot capword|year dot quot\n",
      "Most correlated fourgrams: quot year dot capword|dot quot year dot|year dot quot capword|capword num lpar num|dot year dot quot\n",
      "\n",
      "Style: elsevier-without-titles\n",
      "Most correlated bigrams: lbracket num|num rbracket|start lbracket|rbracket uclett|rpar num\n",
      "Most correlated trigrams: capword num lpar|dot capword comma|year rpar num|rpar num dot|rpar num end\n",
      "Most correlated fourgrams: lpar year rpar num|year rpar num dot|year rpar num end|rpar num dot end|capword num lpar year\n",
      "\n",
      "Style: elsevier-with-titles\n",
      "Most correlated bigrams: lbracket num|num rbracket|start lbracket|rbracket uclett|rpar num\n",
      "Most correlated trigrams: dot capword comma|lcword comma capword|year rpar num|dot num lpar|rpar num dash\n",
      "Most correlated fourgrams: lcword lcword comma capword|dot num lpar year|capword dot num lpar|year rpar num dash|rpar num dash num\n",
      "\n",
      "Style: harvard3\n",
      "Most correlated bigrams: lcword dot|dot comma|rpar comma|comma year|dot and\n",
      "Most correlated trigrams: dot and capword|uclett dot and|comma year dot|rpar comma lcword|dot comma year\n",
      "Most correlated fourgrams: uclett dot comma year|num rpar comma lcword|rpar comma lcword dot|comma year dot capword|dot comma year dot\n",
      "\n",
      "Style: ieee\n",
      "Most correlated bigrams: num comma|dot num|year end|comma lcword|comma quot\n",
      "Most correlated trigrams: num comma year|comma lcword dot|lcword dot num|capword comma quot|comma quot capword\n",
      "Most correlated fourgrams: comma quot capword lcword|capword comma quot capword|comma lcword dot num|dot num comma lcword|lcword dot num comma\n",
      "\n",
      "Style: iso690-author-date-en\n",
      "Most correlated bigrams: start ucword|comma lclett|ucword comma|other num|dot other\n",
      "Most correlated trigrams: capword dot other|lclett dot other|comma year comma|other num comma|dot other num\n",
      "Most correlated fourgrams: comma lcword dot other|comma year comma capword|comma lclett dot other|ucword comma capword comma|dot other num comma\n",
      "\n",
      "Style: modern-language-association\n",
      "Most correlated bigrams: start quot|colon lclett|rpar colon|quot capword|dot quot\n",
      "Most correlated trigrams: lcword dot quot|capword dot quot|num dot num|capword num dot|year rpar colon\n",
      "Most correlated fourgrams: capword capword num dot|capword num dot num|num dot num lpar|year rpar colon num|lpar year rpar colon\n",
      "\n",
      "Style: springer-basic-author-date\n",
      "Most correlated bigrams: uclett comma|ucword lpar|num colon|rpar capword|uclett lpar\n",
      "Most correlated trigrams: capword uclett lpar|rpar capword lcword|uclett lpar year|capword num colon|year rpar capword\n",
      "Most correlated fourgrams: capword uclett lpar year|uclett lpar year rpar|year rpar capword lcword|capword num colon num|lpar year rpar capword\n",
      "\n",
      "Style: springer-lecture-notes-in-computer-science\n",
      "Most correlated bigrams: start dot|colon capword|rpar end|dot comma|dot colon\n",
      "Most correlated trigrams: comma capword comma|dot comma capword|dash num lpar|dot colon capword|uclett dot colon\n",
      "Most correlated fourgrams: dot comma capword comma|comma uclett dot colon|num dash num lpar|dash num lpar year|uclett dot colon capword\n",
      "\n",
      "Style: vancouver\n",
      "Most correlated bigrams: num semicolon|year semicolon|capword semicolon|semicolon num|semicolon year\n",
      "Most correlated trigrams: semicolon year capword|year semicolon num|capword semicolon year|semicolon year semicolon|semicolon num lpar\n",
      "Most correlated fourgrams: semicolon year capword num|capword semicolon year semicolon|year semicolon num lpar|semicolon year semicolon num|semicolon num lpar num\n"
     ]
    }
   ],
   "source": [
    "for style in STYLES:\n",
    "    print()\n",
    "    print('Style: {}'.format(style))\n",
    "    features_chi2 = chi2(tfidf_features, train_dataset['style'] == style)[0]\n",
    "    indices = np.argsort(features_chi2)\n",
    "    feature_names = np.array(count_vectorizer.get_feature_names())[indices]\n",
    "    bigrams = [v for v in feature_names if len(v.split(' '))  == 2]\n",
    "    trigrams = [v for v in feature_names if len(v.split(' '))  == 3]\n",
    "    fourgrams = [v for v in feature_names if len(v.split(' '))  == 4]\n",
    "    print('Most correlated bigrams: {}'.format('|'.join(bigrams[-5:])))\n",
    "    print('Most correlated trigrams: {}'.format('|'.join(trigrams[-5:])))\n",
    "    print('Most correlated fourgrams: {}'.format('|'.join(fourgrams[-5:])))"
   ]
  },
  {
   "cell_type": "markdown",
   "metadata": {},
   "source": [
    "## Feature selection\n",
    "\n",
    "So far we used all n-grams present in the training set. Some of them are very rare and don't provide a lot of information for the training algorithm. Let's try using only n most frequent ngrams for different values of n, and see how it affects the accuracy."
   ]
  },
  {
   "cell_type": "code",
   "execution_count": null,
   "metadata": {},
   "outputs": [],
   "source": []
  },
  {
   "cell_type": "code",
   "execution_count": 16,
   "metadata": {
    "scrolled": false
   },
   "outputs": [
    {
     "name": "stdout",
     "output_type": "stream",
     "text": [
      "Accuracy for 100 features: 0.8714592103362673\n",
      "Accuracy for 200 features: 0.899295723284521\n",
      "Accuracy for 300 features: 0.9132328055269486\n",
      "Accuracy for 400 features: 0.9202133168611143\n",
      "Accuracy for 500 features: 0.9235217854889272\n",
      "Accuracy for 600 features: 0.9257211866436673\n",
      "Accuracy for 700 features: 0.9277922960669052\n",
      "Accuracy for 800 features: 0.9311097469991566\n",
      "Accuracy for 900 features: 0.931776823909125\n",
      "Accuracy for 1000 features: 0.9323640704650827\n",
      "Accuracy for 1100 features: 0.9327465722049206\n",
      "Accuracy for 1200 features: 0.934091375888872\n",
      "Accuracy for 1300 features: 0.9351249959822796\n",
      "Accuracy for 1400 features: 0.9356526669201841\n",
      "Accuracy for 1500 features: 0.9362607187613203\n",
      "Accuracy for 1600 features: 0.9364010306147609\n",
      "Accuracy for 1700 features: 0.9372463657222844\n",
      "Accuracy for 1800 features: 0.9377316860133652\n",
      "Accuracy for 1900 features: 0.9381105098934152\n",
      "Accuracy for 2000 features: 0.9383800824757019\n",
      "Accuracy for 2100 features: 0.9385856143630013\n",
      "Accuracy for 2200 features: 0.9388477007672539\n",
      "Accuracy for 2300 features: 0.9390491277059512\n",
      "Accuracy for 2400 features: 0.9394539818915509\n",
      "Accuracy for 2500 features: 0.9395706078491507\n",
      "Accuracy for 2600 features: 0.939756304941547\n",
      "Accuracy for 2700 features: 0.9398985103811721\n",
      "Accuracy for 2800 features: 0.9400191875934497\n",
      "Accuracy for 2900 features: 0.9397784606651356\n",
      "Accuracy for 3000 features: 0.9398010438114597\n",
      "Accuracy for 3100 features: 0.9399214878913575\n",
      "Accuracy for 3200 features: 0.9399612247738404\n",
      "Accuracy for 3300 features: 0.9399199191324947\n",
      "Accuracy for 3400 features: 0.9401620901460901\n",
      "Accuracy for 3500 features: 0.9404022060866061\n",
      "Accuracy for 3600 features: 0.9403212657568113\n",
      "Accuracy for 3700 features: 0.9405834256107852\n",
      "Accuracy for 3800 features: 0.9406860676352782\n",
      "Accuracy for 3900 features: 0.940481707085308\n",
      "Accuracy for 4000 features: 0.9405827479196452\n",
      "Accuracy for 4100 features: 0.9406623697589817\n",
      "Accuracy for 4200 features: 0.9408224330860935\n",
      "Accuracy for 4300 features: 0.9408629167948757\n",
      "Accuracy for 4400 features: 0.9408429775218146\n",
      "Accuracy for 4500 features: 0.9408027471408357\n",
      "Accuracy for 4600 features: 0.9408426389900353\n",
      "Accuracy for 4700 features: 0.9407614453324371\n",
      "Accuracy for 4800 features: 0.9410049874632074\n",
      "Accuracy for 4900 features: 0.9407827093607214\n",
      "Accuracy for 5000 features: 0.9410425600402644\n"
     ]
    }
   ],
   "source": [
    "nfeatures_results = []\n",
    "nfeatures_values = range(100, 5100, 100)\n",
    "for n in nfeatures_values:\n",
    "    accuracies, _ = evaluate_cv(train_dataset, LogisticRegression(random_state=0), feature_fun=get_tfidf_features,\n",
    "                                nfeatures=n, ngrams=(2, 4))\n",
    "    nfeatures_results.append(mean(accuracies))\n",
    "    print('Accuracy for {} features: {}'.format(n, mean(accuracies)))"
   ]
  },
  {
   "cell_type": "code",
   "execution_count": 17,
   "metadata": {},
   "outputs": [
    {
     "data": {
      "image/png": "[encoded data removed]",
      "text/plain": [
       "<Figure size 432x288 with 1 Axes>"
      ]
     },
     "metadata": {
      "needs_background": "light"
     },
     "output_type": "display_data"
    }
   ],
   "source": [
    "plt.plot(nfeatures_values, nfeatures_results)\n",
    "plt.xticks(list(range(200, 5100, 600)))\n",
    "plt.xlabel('Number of features')\n",
    "plt.ylabel('Accuracy')\n",
    "plt.show()"
   ]
  },
  {
   "cell_type": "markdown",
   "metadata": {},
   "source": [
    "It seems that the more features we have the higher accuracy.\n",
    "\n",
    "Choosing the most frequent features might not be optimal. Some frequent features will be useless because they don't provide any information about the target style. We can perform feature selection to choose a number of most useful features.\n",
    "\n",
    "By passing *feature_selector* to the evaluation function we make sure the best features are selected in the training phase. In this case, the selection is done using feature importance scores from Random Forest.\n",
    "\n",
    "Similarly as before, we will test this with varying number of chosen features:"
   ]
  },
  {
   "cell_type": "code",
   "execution_count": 18,
   "metadata": {},
   "outputs": [
    {
     "name": "stdout",
     "output_type": "stream",
     "text": [
      "Accuracy for 100 features: 0.8287167385388481\n",
      "Accuracy for 200 features: 0.8941625711248739\n",
      "Accuracy for 300 features: 0.9099479743412275\n",
      "Accuracy for 400 features: 0.921684968741279\n",
      "Accuracy for 500 features: 0.92715564721287\n",
      "Accuracy for 600 features: 0.9286958585579617\n",
      "Accuracy for 700 features: 0.930492911381718\n",
      "Accuracy for 800 features: 0.9309843545455188\n",
      "Accuracy for 900 features: 0.9311046367663538\n",
      "Accuracy for 1000 features: 0.9312874172375348\n",
      "Accuracy for 1100 features: 0.9314329205068522\n",
      "Accuracy for 1200 features: 0.9315725934437185\n",
      "Accuracy for 1300 features: 0.9315867228734116\n",
      "Accuracy for 1400 features: 0.9316290936774124\n",
      "Accuracy for 1500 features: 0.9320996750998245\n",
      "Accuracy for 1600 features: 0.9321765571366288\n",
      "Accuracy for 1700 features: 0.9325635534347418\n",
      "Accuracy for 1800 features: 0.9328268171474284\n",
      "Accuracy for 1900 features: 0.932849384224936\n",
      "Accuracy for 2000 features: 0.9326653533312479\n",
      "Accuracy for 2100 features: 0.9326259618728904\n",
      "Accuracy for 2200 features: 0.9328056585185435\n",
      "Accuracy for 2300 features: 0.9330119086337963\n",
      "Accuracy for 2400 features: 0.9329922690504903\n",
      "Accuracy for 2500 features: 0.9329085858587643\n",
      "Accuracy for 2600 features: 0.9328276742732821\n",
      "Accuracy for 2700 features: 0.9329717613186357\n",
      "Accuracy for 2800 features: 0.933235255104303\n",
      "Accuracy for 2900 features: 0.9333160266826891\n",
      "Accuracy for 3000 features: 0.9333328062504099\n",
      "Accuracy for 3100 features: 0.9334551357689834\n",
      "Accuracy for 3200 features: 0.9335360574521775\n",
      "Accuracy for 3300 features: 0.9334370227511837\n",
      "Accuracy for 3400 features: 0.9335109517548396\n",
      "Accuracy for 3500 features: 0.9334110915802685\n",
      "Accuracy for 3600 features: 0.9334690271661418\n",
      "Accuracy for 3700 features: 0.9333879187125195\n",
      "Accuracy for 3800 features: 0.9334102781965941\n",
      "Accuracy for 3900 features: 0.9333895819995219\n",
      "Accuracy for 4000 features: 0.9334903369287962\n",
      "Accuracy for 4100 features: 0.9335514401795637\n",
      "Accuracy for 4200 features: 0.9335338983443083\n",
      "Accuracy for 4300 features: 0.9335517849761077\n",
      "Accuracy for 4400 features: 0.9336939648767858\n",
      "Accuracy for 4500 features: 0.9337746193015177\n",
      "Accuracy for 4600 features: 0.9336939121041029\n",
      "Accuracy for 4700 features: 0.9337346987080057\n",
      "Accuracy for 4800 features: 0.9335925885700683\n",
      "Accuracy for 4900 features: 0.9336750185735481\n",
      "Accuracy for 5000 features: 0.9339183600032314\n"
     ]
    }
   ],
   "source": [
    "nfeatures_results_rf = []\n",
    "nfeatures_values = range(100, 5100, 100)\n",
    "for n in nfeatures_values:\n",
    "    accuracies, _ = evaluate_cv(train_dataset, LogisticRegression(random_state=0),\n",
    "                                feature_fun=get_tfidf_features, feature_selector=select_features_rf,\n",
    "                                nfeatures=n, ngrams=(2, 4))\n",
    "    nfeatures_results_rf.append(mean(accuracies))\n",
    "    print('Accuracy for {} features: {}'.format(n, mean(accuracies)))"
   ]
  },
  {
   "cell_type": "code",
   "execution_count": 19,
   "metadata": {},
   "outputs": [
    {
     "data": {
      "image/png": "[encoded data removed]",
      "text/plain": [
       "<Figure size 432x288 with 1 Axes>"
      ]
     },
     "metadata": {
      "needs_background": "light"
     },
     "output_type": "display_data"
    }
   ],
   "source": [
    "plt.plot(nfeatures_values, nfeatures_results)\n",
    "plt.plot(nfeatures_values, nfeatures_results_rf)\n",
    "plt.legend(['without selection', 'with selection (RF)'], bbox_to_anchor=(0.9, 1.2), ncol=3)\n",
    "plt.xticks(list(range(200, 5100, 600)))\n",
    "plt.xlabel('Number of features')\n",
    "plt.ylabel('Accuracy')\n",
    "plt.show()"
   ]
  },
  {
   "cell_type": "markdown",
   "metadata": {},
   "source": [
    "We can see that in a small range RF selection results in slightly better performance, but as we increase the number of features, no selection outperforms RF-based selection.\n",
    "\n",
    "We will also try a simpler selection method, based on chi-squared correlations:"
   ]
  },
  {
   "cell_type": "code",
   "execution_count": 20,
   "metadata": {},
   "outputs": [
    {
     "name": "stdout",
     "output_type": "stream",
     "text": [
      "Accuracy for 100 features: 0.7984828408164626\n",
      "Accuracy for 200 features: 0.8373753365858937\n",
      "Accuracy for 300 features: 0.8674431041065864\n",
      "Accuracy for 400 features: 0.8828535433916689\n",
      "Accuracy for 500 features: 0.8899990633290411\n",
      "Accuracy for 600 features: 0.9004321540293843\n",
      "Accuracy for 700 features: 0.9216004639947383\n",
      "Accuracy for 800 features: 0.9269758520984099\n",
      "Accuracy for 900 features: 0.9295687247001928\n",
      "Accuracy for 1000 features: 0.9335113525714204\n",
      "Accuracy for 1100 features: 0.9343683763913921\n",
      "Accuracy for 1200 features: 0.9353166244688512\n",
      "Accuracy for 1300 features: 0.9359079868081511\n",
      "Accuracy for 1400 features: 0.9368223047870962\n",
      "Accuracy for 1500 features: 0.9368940304973354\n",
      "Accuracy for 1600 features: 0.9377141292611081\n",
      "Accuracy for 1700 features: 0.9379285492166397\n",
      "Accuracy for 1800 features: 0.9380718683190293\n",
      "Accuracy for 1900 features: 0.9382067125478616\n",
      "Accuracy for 2000 features: 0.9385903955750471\n",
      "Accuracy for 2100 features: 0.9387356530364886\n",
      "Accuracy for 2200 features: 0.9387982562046193\n",
      "Accuracy for 2300 features: 0.9392213267112487\n",
      "Accuracy for 2400 features: 0.9394243493506117\n",
      "Accuracy for 2500 features: 0.9392599819226335\n",
      "Accuracy for 2600 features: 0.9396671701940295\n",
      "Accuracy for 2700 features: 0.9398529593827478\n",
      "Accuracy for 2800 features: 0.9400548574863598\n",
      "Accuracy for 2900 features: 0.9401920871050833\n",
      "Accuracy for 3000 features: 0.940478802552269\n",
      "Accuracy for 3100 features: 0.940519219703676\n",
      "Accuracy for 3200 features: 0.9404960275617449\n",
      "Accuracy for 3300 features: 0.9404743855320757\n",
      "Accuracy for 3400 features: 0.9407774026356882\n",
      "Accuracy for 3500 features: 0.9405952937385756\n",
      "Accuracy for 3600 features: 0.9406361855959112\n",
      "Accuracy for 3700 features: 0.9407350659577697\n",
      "Accuracy for 3800 features: 0.9407742738510647\n",
      "Accuracy for 3900 features: 0.9409372987602139\n",
      "Accuracy for 4000 features: 0.940854249035834\n",
      "Accuracy for 4100 features: 0.9409780737175824\n",
      "Accuracy for 4200 features: 0.9410168269544056\n",
      "Accuracy for 4300 features: 0.9411792675238997\n",
      "Accuracy for 4400 features: 0.9410150313279276\n",
      "Accuracy for 4500 features: 0.941035777092317\n",
      "Accuracy for 4600 features: 0.9409362522441596\n",
      "Accuracy for 4700 features: 0.9411409235028378\n",
      "Accuracy for 4800 features: 0.9413425581809347\n",
      "Accuracy for 4900 features: 0.9413663421824485\n",
      "Accuracy for 5000 features: 0.9413462447373051\n"
     ]
    }
   ],
   "source": [
    "nfeatures_results_chi2 = []\n",
    "nfeatures_values = range(100, 5100, 100)\n",
    "for n in nfeatures_values:\n",
    "    accuracies, _ = evaluate_cv(train_dataset, LogisticRegression(random_state=0),\n",
    "                                feature_fun=get_tfidf_features, feature_selector=select_features_chi2,\n",
    "                                nfeatures=n, ngrams=(2, 4))\n",
    "    nfeatures_results_chi2.append(mean(accuracies))\n",
    "    print('Accuracy for {} features: {}'.format(n, mean(accuracies)))"
   ]
  },
  {
   "cell_type": "code",
   "execution_count": 21,
   "metadata": {},
   "outputs": [
    {
     "data": {
      "image/png": "[encoded data removed]",
      "text/plain": [
       "<Figure size 432x288 with 1 Axes>"
      ]
     },
     "metadata": {
      "needs_background": "light"
     },
     "output_type": "display_data"
    }
   ],
   "source": [
    "plt.plot(nfeatures_values, nfeatures_results)\n",
    "plt.plot(nfeatures_values, nfeatures_results_rf)\n",
    "plt.plot(nfeatures_values, nfeatures_results_chi2)\n",
    "plt.legend(['without selection', 'with selection (RF)', 'with selection (Chi^2)'], bbox_to_anchor=(1.1, 1.2), ncol=3)\n",
    "plt.xticks(list(range(200, 5100, 600)))\n",
    "plt.xlabel('Number of features')\n",
    "plt.ylabel('Accuracy')\n",
    "plt.show()"
   ]
  },
  {
   "cell_type": "markdown",
   "metadata": {},
   "source": [
    "The best accuracy was given by chi-squared selection with 5000 features. We will use that from now on.\n",
    "\n",
    "## Final model"
   ]
  },
  {
   "cell_type": "code",
   "execution_count": 22,
   "metadata": {},
   "outputs": [
    {
     "name": "stdout",
     "output_type": "stream",
     "text": [
      "Fold accuracies: [0.9414614452967299, 0.9437130714211672, 0.9385446392172849, 0.9435459568056254, 0.939466110945718]\n",
      "Mean accuracy: 0.9413462447373051\n"
     ]
    }
   ],
   "source": [
    "accuracies, _ = evaluate_cv(train_dataset, LogisticRegression(random_state=0),\n",
    "                            feature_fun=get_tfidf_features, feature_selector=select_features_chi2,\n",
    "                            nfeatures=5000, ngrams=(2, 4))\n",
    "print('Fold accuracies: {}'.format(accuracies))\n",
    "print('Mean accuracy: {}'.format(mean(accuracies)))"
   ]
  },
  {
   "cell_type": "markdown",
   "metadata": {},
   "source": [
    "Let's also add one more feature (string length) to our feature representation."
   ]
  },
  {
   "cell_type": "code",
   "execution_count": 23,
   "metadata": {},
   "outputs": [
    {
     "name": "stdout",
     "output_type": "stream",
     "text": [
      "Fold accuracies: [0.9423698021800565, 0.9440240489271277, 0.9383408071748879, 0.9431441486690105, 0.9409546492011511]\n",
      "Mean accuracy: 0.9417666912304468\n"
     ]
    }
   ],
   "source": [
    "accuracies, dataset_results_cv = evaluate_cv(train_dataset, LogisticRegression(random_state=0),\n",
    "                                             feature_fun=get_features, feature_selector=select_features_chi2,\n",
    "                                             nfeatures=5000, ngrams=(2, 4))\n",
    "print('Fold accuracies: {}'.format(accuracies))\n",
    "print('Mean accuracy: {}'.format(mean(accuracies)))"
   ]
  },
  {
   "cell_type": "markdown",
   "metadata": {},
   "source": [
    "Let's see the confusion matrix:"
   ]
  },
  {
   "cell_type": "code",
   "execution_count": 24,
   "metadata": {},
   "outputs": [
    {
     "data": {
      "image/png": "[encoded data removed]",
      "text/plain": [
       "<Figure size 720x720 with 2 Axes>"
      ]
     },
     "metadata": {
      "needs_background": "light"
     },
     "output_type": "display_data"
    }
   ],
   "source": [
    "matrix = confusion_matrix(dataset_results_cv['style_true'], dataset_results_cv['style_pred'])\n",
    "\n",
    "fig, ax = plt.subplots(figsize=(10,10))\n",
    "sns.heatmap(matrix, annot=True, fmt='d', xticklabels=STYLES, yticklabels=STYLES)\n",
    "plt.ylabel('Actual')\n",
    "plt.xlabel('Predicted')\n",
    "plt.show()"
   ]
  },
  {
   "cell_type": "markdown",
   "metadata": {},
   "source": [
    "Everything looks pretty good apart from the pair (chicago-author-date, american-sociological-association), which seem to be confused a lot by the classifier.\n",
    "\n",
    "This function will show the reference string pairs from the two given  styles for all DOI that were mislabelled."
   ]
  },
  {
   "cell_type": "code",
   "execution_count": 25,
   "metadata": {},
   "outputs": [],
   "source": [
    "def get_diff(actual, predicted):\n",
    "    diff_df = dataset_results_cv.loc[dataset_results_cv['style_true'] == actual]\n",
    "    diff_dois = diff_df.loc[diff_df['style_pred'] == predicted]['doi']\n",
    "    diff_df = dataset_results_cv.loc[dataset_results_cv['doi'].isin(diff_dois)]\n",
    "    diff_df = diff_df.loc[diff_df['style_true'].isin([actual, predicted])].sort_values(by='doi')\n",
    "    strings = [re.sub('^\\(1\\)', '', re.sub('^\\[1\\]', '', re.sub('^1', '', re.sub('\\.$', '', s)))).strip()\n",
    "               for s in diff_df['string']]\n",
    "    strings_0 = [s for i, s in enumerate(strings) if i%2 == 0]\n",
    "    strings_1 = [s for i, s in enumerate(strings) if i%2 == 1]\n",
    "    return list(zip(strings_0, strings_1))"
   ]
  },
  {
   "cell_type": "code",
   "execution_count": 26,
   "metadata": {},
   "outputs": [
    {
     "data": {
      "text/plain": [
       "[('Runne, Uee. 1977. “Cutaneous Neural Proliferation in Highly Pruritic Lesions of Chronic Prurigo.” Archives of Dermatology 113 (6) : 787',\n",
       "  'Runne, Uee. 1977. “Cutaneous Neural Proliferation in Highly Pruritic Lesions of Chronic Prurigo.” Archives of Dermatology 113(6):787'),\n",
       " ('Silver, Bruce. 1979. “Double Contrast Gastrointestinal Radiology With Endoscopic Correlation.” JAMA: The Journal of the American Medical Association 242(17):1917',\n",
       "  'Silver, Bruce. 1979. “Double Contrast Gastrointestinal Radiology With Endoscopic Correlation.” JAMA: The Journal of the American Medical Association 242 (17) : 1917'),\n",
       " ('Greenfield, Sheldon. 1992. “Specialists or Generalists? The Medical Outcomes Study-Reply.” JAMA: The Journal of the American Medical Association 268(12):1538',\n",
       "  'Greenfield, Sheldon. 1992. “Specialists or Generalists? The Medical Outcomes Study-Reply.” JAMA: The Journal of the American Medical Association 268 (12) : 1538'),\n",
       " ('Kaiser, Harry M. 2003. “Distribution of Benefits and Costs of Commodity Checkoff Programs: Introductory Remarks.” Agribusiness 19(3):273–75',\n",
       "  'Kaiser, Harry M. 2003. “Distribution of Benefits and Costs of Commodity Checkoff Programs: Introductory Remarks.” Agribusiness 19 (3): 273–275'),\n",
       " ('Abraham, Otto. 1919. “Zur Akustik Des Knalles.” Annalen der Physik 365(17):55–76',\n",
       "  'Abraham, Otto. 1919. “Zur Akustik Des Knalles.” Annalen Der Physik 365 (17): 55–76'),\n",
       " ('Bradlow, Eric T. 2005. “Current Issues and a ‘wish List’ for Conjoint Analysis.” Applied Stochastic Models in Business and Industry 21 (4-5): 319–323',\n",
       "  'Bradlow, Eric T. 2005. “Current Issues and a ‘wish List’ for Conjoint Analysis.” Applied Stochastic Models in Business and Industry 21(4-5):319–23'),\n",
       " ('Marx, Steffen. 2011. “Versuch Macht Klug.” Bautechnik 88(11):739–739',\n",
       "  'Marx, Steffen. 2011. “Versuch Macht Klug.” Bautechnik 88 (11) : 739–739'),\n",
       " ('Sheppard, John D., and David G. Cooper. 1990. “Development of Computerized Feedback Control for the Continuous Phasing ofBacillus Subtilis.” Biotechnology and Bioengineering 36 (5) : 539–545',\n",
       "  'Sheppard, John D., and David G. Cooper. 1990. “Development of Computerized Feedback Control for the Continuous Phasing ofBacillus Subtilis.” Biotechnology and Bioengineering 36(5):539–45'),\n",
       " ('Jagjivan, B., D. J. Moore, and D. R. Naik. 1988. “Relative Merits of Ultrasound and Intravenous Urography in the Investigation of the Urinary Tract.” British Journal of Surgery 75 (3) : 246–248',\n",
       "  'Jagjivan, B., D. J. Moore, and D. R. Naik. 1988. “Relative Merits of Ultrasound and Intravenous Urography in the Investigation of the Urinary Tract.” British Journal of Surgery 75(3):246–48'),\n",
       " ('Hofmann, A. W. 1887. “General-Versammlung Vom 16. 1887.” Berichte Der Deutschen Chemischen Gesellschaft 20 (2) : 3425–3431',\n",
       "  'Hofmann, A. W. 1887. “General-Versammlung Vom 16. 1887.” Berichte der deutschen chemischen Gesellschaft 20(2):3425–31'),\n",
       " ('Borsche, W., and G. Heimbürger. 1915. “Katalytische Reduktion Organischer Halogenverbindungen. (Nachtrag.).” Berichte der deutschen chemischen Gesellschaft 48(1):850–850',\n",
       "  'Borsche, W., and G. Heimbürger. 1915. “Katalytische Reduktion Organischer Halogenverbindungen. (Nachtrag.).” Berichte Der Deutschen Chemischen Gesellschaft 48 (1) : 850–850'),\n",
       " ('KANDIYOTI, R., E. MCLAUGHLIN, and J. F. T. PITTMAN. 1972. “ChemInform Abstract: WAERMELEITFAEHIGKEIT VON N-PARAFFIN-KOHLENWASSERSTOFFEN IN FLUESSIGEM ZUSTAND.” Chemischer Informationsdienst 3 (24) : no–no. Portico',\n",
       "  'KANDIYOTI, R., E. MCLAUGHLIN, and J. F. T. PITTMAN. 1972. “ChemInform Abstract: WAERMELEITFAEHIGKEIT VON N-PARAFFIN-KOHLENWASSERSTOFFEN IN FLUESSIGEM ZUSTAND.” Chemischer Informationsdienst 3(24):no–no'),\n",
       " ('CLESSE, FRANCOISE, and HERVE QUINIOU. 1973. “ChemInform Abstract: ORGANOSCHWEFELVERBINDUNGEN 13. MITT. RK. PRIMAERER ARYLAMINE MIT AROYLDITHIOESSIGSAEUREN, IHREN MONO- UND DIMETHYL-DERIVATEN.” Chemischer Informationsdienst 4(20):no–no',\n",
       "  'CLESSE, FRANCOISE, and HERVE QUINIOU. 1973. “ChemInform Abstract: ORGANOSCHWEFELVERBINDUNGEN 13. MITT. RK. PRIMAERER ARYLAMINE MIT AROYLDITHIOESSIGSAEUREN, IHREN MONO- UND DIMETHYL-DERIVATEN.” Chemischer Informationsdienst 4 (20) : no–no. Portico'),\n",
       "...\n",
       " ('Gurovich, L.A., L.M. Vergara, and Y. Ton. 2006. “Rrigation Scheduling of Avocado Using Phytomonitoring Techniques.” Ciencia e Investigación Agraria 33 (2) : 97–104',\n",
       "  'Gurovich, L. A., L. M. Vergara, and Y. Ton. 2006. “Rrigation Scheduling of Avocado Using Phytomonitoring Techniques.” Ciencia e investigación agraria 33(2):97–104'),\n",
       " ('Fauser, Markus. 2004. “Wissen Als Unterhaltung” edited by Richard van Dülmen and Sina Rauschenbach. Macht des Wissens',\n",
       "  'Fauser, Markus. 2004. “Wissen Als Unterhaltung.” Edited by Richard van Dülmen and Sina Rauschenbach. Macht Des Wissens'),\n",
       " ('Afanasyeva, Olga. 2014. “Temporal and Modal Nominal Constructions in Chinese.” Journal of Language and Literature 5 (3) : 100–105',\n",
       "  'Afanasyeva, Olga. 2014. “Temporal and Modal Nominal Constructions in Chinese.” Journal of Language and Literature 5(3):100–105'),\n",
       " ('YANAGISAWA, Ken, Naoyuki SATO, Teruo TACHIBANA, and Koomi KANAI. 1956. “A NEW ANTIBIOTIC AGAINST TUBERCLE BACILLI (HOMOMYCIN).” Japanese Journal of Medical Science and Biology 9(3):129–32',\n",
       "  'YANAGISAWA, Ken, Naoyuki SATO, Teruo TACHIBANA, and Koomi KANAI. 1956. “A NEW ANTIBIOTIC AGAINST TUBERCLE BACILLI (HOMOMYCIN).” Japanese Journal of Medical Science and Biology 9 (3): 129–132')]"
      ]
     },
     "execution_count": 26,
     "metadata": {},
     "output_type": "execute_result"
    }
   ],
   "source": [
    "get_diff('chicago-author-date', 'american-sociological-association')"
   ]
  },
  {
   "cell_type": "markdown",
   "metadata": {},
   "source": [
    "In a lot of cases the reference strings are very similar, or identical. No wonder the classifier has problems differentiating between the styles.\n",
    "\n",
    "Finally, let's test a few learning algorithms using previously chosen parameters:"
   ]
  },
  {
   "cell_type": "code",
   "execution_count": 27,
   "metadata": {},
   "outputs": [
    {
     "name": "stdout",
     "output_type": "stream",
     "text": [
      "Accuracy for Naive Bayes algorithm 0.9101841567371006\n",
      "Accuracy for Logistic Regression algorithm 0.9417666912304468\n",
      "Accuracy for Linear SVC algorithm 0.8650020934653031\n",
      "Accuracy for Random Forest algorithm 0.8382677317812817\n"
     ]
    }
   ],
   "source": [
    "algo_results = []\n",
    "for name, algo in [('Naive Bayes', MultinomialNB()),\n",
    "                   ('Logistic Regression', LogisticRegression(random_state=0)),\n",
    "                   ('Linear SVC', LinearSVC(random_state=0)),\n",
    "                   ('Random Forest', RandomForestClassifier(n_estimators=200, max_depth=3, random_state=0))]:\n",
    "    accuracies, _ = evaluate_cv(train_dataset, algo, feature_fun=get_features, feature_selector=select_features_chi2,\n",
    "                                nfeatures=5000, ngrams=(2, 4))\n",
    "    algo_results.extend([(name, fold, accuracy) for fold, accuracy in enumerate(accuracies)])\n",
    "    print('Accuracy for {} algorithm {}'.format(name, mean(accuracies)))"
   ]
  },
  {
   "cell_type": "code",
   "execution_count": 28,
   "metadata": {},
   "outputs": [
    {
     "data": {
      "image/png": "[encoded data removed]",
      "text/plain": [
       "<Figure size 432x288 with 1 Axes>"
      ]
     },
     "metadata": {
      "needs_background": "light"
     },
     "output_type": "display_data"
    }
   ],
   "source": [
    "cv_df = pd.DataFrame(algo_results, columns=['model name', 'fold', 'accuracy'])\n",
    "ax = sns.boxplot(x='model name', y='accuracy', data=cv_df)\n",
    "plt.setp(ax.get_xticklabels(), rotation=45)\n",
    "plt.show()"
   ]
  },
  {
   "cell_type": "markdown",
   "metadata": {},
   "source": [
    "It seems logistic regression results in the best accuracy averaged over the folds. Also the variance of the results in this case is small.\n",
    "\n",
    "Finally, let's fit the model to the entire train set and evaluate on the main test set:"
   ]
  },
  {
   "cell_type": "code",
   "execution_count": 29,
   "metadata": {},
   "outputs": [
    {
     "name": "stdout",
     "output_type": "stream",
     "text": [
      "The final accuracy: 0.9406630184071276\n"
     ]
    }
   ],
   "source": [
    "count_vectorizer, tfidf_transformer, train_features = get_features(train_dataset['string'], nfeatures=5000,\n",
    "                                                                   feature_selector=select_features_chi2,\n",
    "                                                                   ngrams=(2, 4))\n",
    "_, _, test_features = get_features(test_dataset['string'], count_vectorizer=count_vectorizer,\n",
    "                                   tfidf_transformer=tfidf_transformer)\n",
    "model = LogisticRegression(random_state=0).fit(train_features, train_dataset['style'])\n",
    "prediction = model.predict(test_features)\n",
    "print('The final accuracy: {}'.format(accuracy_score(test_dataset['style'], prediction)))"
   ]
  },
  {
   "cell_type": "markdown",
   "metadata": {},
   "source": [
    "The final unbiased accuracy estimate is 94.1%."
   ]
  }
 ],
 "metadata": {
  "kernelspec": {
   "display_name": "Python 3",
   "language": "python",
   "name": "python3"
  },
  "language_info": {
   "codemirror_mode": {
    "name": "ipython",
    "version": 3
   },
   "file_extension": ".py",
   "mimetype": "text/x-python",
   "name": "python",
   "nbconvert_exporter": "python",
   "pygments_lexer": "ipython3",
   "version": "3.6.6"
  }
 },
 "nbformat": 4,
 "nbformat_minor": 2
}
